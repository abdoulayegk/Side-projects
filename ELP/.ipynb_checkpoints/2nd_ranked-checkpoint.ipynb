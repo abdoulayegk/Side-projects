{
 "cells": [
  {
   "cell_type": "code",
   "execution_count": 1,
   "id": "6db8d075-fe52-4b58-b1a2-a4f0e5b44229",
   "metadata": {},
   "outputs": [
    {
     "name": "stderr",
     "output_type": "stream",
     "text": [
      "/home/balde/miniconda3/lib/python3.9/site-packages/xgboost/compat.py:36: FutureWarning: pandas.Int64Index is deprecated and will be removed from pandas in a future version. Use pandas.Index with the appropriate dtype instead.\n",
      "  from pandas import MultiIndex, Int64Index\n"
     ]
    }
   ],
   "source": [
    "## Importing libraries\n",
    "import time\n",
    "import warnings\n",
    "\n",
    "import eli5\n",
    "\n",
    "warnings.filterwarnings(\"ignore\")\n",
    "\n",
    "\n",
    "import matplotlib.pyplot as plt\n",
    "import numpy as np\n",
    "import pandas as pd\n",
    "import seaborn as sns\n",
    "\n",
    "plt.style.use(\"ggplot\")\n",
    "%matplotlib inline\n",
    "\n",
    "\n",
    "import optuna\n",
    "from optuna.integration import LightGBMPruningCallback\n",
    "\n",
    "optuna.logging.set_verbosity(optuna.logging.WARNING)\n",
    "\n",
    "import plotly.express as px\n",
    "from catboost import CatBoostRegressor, Pool\n",
    "from lightgbm import DaskLGBMRegressor, LGBMRegressor\n",
    "from sklearn.compose import make_column_selector, make_column_transformer\n",
    "from sklearn.experimental import enable_iterative_imputer\n",
    "from sklearn.impute import IterativeImputer, SimpleImputer\n",
    "from sklearn.linear_model import LinearRegression\n",
    "from sklearn.metrics import mean_squared_error\n",
    "from sklearn.model_selection import KFold, RepeatedKFold, train_test_split\n",
    "from sklearn.pipeline import Pipeline, make_pipeline\n",
    "from sklearn.preprocessing import MinMaxScaler, OrdinalEncoder, RobustScaler\n",
    "from xgboost import DMatrix, XGBRegressor"
   ]
  },
  {
   "cell_type": "code",
   "execution_count": 4,
   "id": "a5b787b7-f652-486f-9a02-29f84cc7a166",
   "metadata": {},
   "outputs": [
    {
     "name": "stdout",
     "output_type": "stream",
     "text": [
      "/home/balde/Desktop/Python/ELP/Model\n"
     ]
    }
   ],
   "source": [
    "!pwd"
   ]
  },
  {
   "cell_type": "markdown",
   "id": "a90fd73f-3d40-43e5-a3ba-c6ff241356bf",
   "metadata": {},
   "source": [
    "## Reading the data"
   ]
  },
  {
   "cell_type": "code",
   "execution_count": 3,
   "id": "cc181b08-93dd-4667-b78b-a03f76d98eeb",
   "metadata": {},
   "outputs": [
    {
     "ename": "FileNotFoundError",
     "evalue": "[Errno 2] No such file or directory: 'Model/Train.csv'",
     "output_type": "error",
     "traceback": [
      "\u001b[0;31m---------------------------------------------------------------------------\u001b[0m",
      "\u001b[0;31mFileNotFoundError\u001b[0m                         Traceback (most recent call last)",
      "Cell \u001b[0;32mIn[3], line 1\u001b[0m\n\u001b[0;32m----> 1\u001b[0m train \u001b[38;5;241m=\u001b[39m \u001b[43mpd\u001b[49m\u001b[38;5;241;43m.\u001b[39;49m\u001b[43mread_csv\u001b[49m\u001b[43m(\u001b[49m\u001b[38;5;124;43m\"\u001b[39;49m\u001b[38;5;124;43mModel/Train.csv\u001b[39;49m\u001b[38;5;124;43m\"\u001b[39;49m\u001b[43m)\u001b[49m\n\u001b[1;32m      3\u001b[0m test \u001b[38;5;241m=\u001b[39m pd\u001b[38;5;241m.\u001b[39mread_csv(\u001b[38;5;124m\"\u001b[39m\u001b[38;5;124mModel/est.csv\u001b[39m\u001b[38;5;124m\"\u001b[39m)\n\u001b[1;32m      4\u001b[0m sub \u001b[38;5;241m=\u001b[39m pd\u001b[38;5;241m.\u001b[39mread_csv(\u001b[38;5;124m\"\u001b[39m\u001b[38;5;124mModel/SampleSubmission (1).csv\u001b[39m\u001b[38;5;124m\"\u001b[39m)\n",
      "File \u001b[0;32m~/miniconda3/lib/python3.9/site-packages/pandas/util/_decorators.py:311\u001b[0m, in \u001b[0;36mdeprecate_nonkeyword_arguments.<locals>.decorate.<locals>.wrapper\u001b[0;34m(*args, **kwargs)\u001b[0m\n\u001b[1;32m    305\u001b[0m \u001b[38;5;28;01mif\u001b[39;00m \u001b[38;5;28mlen\u001b[39m(args) \u001b[38;5;241m>\u001b[39m num_allow_args:\n\u001b[1;32m    306\u001b[0m     warnings\u001b[38;5;241m.\u001b[39mwarn(\n\u001b[1;32m    307\u001b[0m         msg\u001b[38;5;241m.\u001b[39mformat(arguments\u001b[38;5;241m=\u001b[39marguments),\n\u001b[1;32m    308\u001b[0m         \u001b[38;5;167;01mFutureWarning\u001b[39;00m,\n\u001b[1;32m    309\u001b[0m         stacklevel\u001b[38;5;241m=\u001b[39mstacklevel,\n\u001b[1;32m    310\u001b[0m     )\n\u001b[0;32m--> 311\u001b[0m \u001b[38;5;28;01mreturn\u001b[39;00m \u001b[43mfunc\u001b[49m\u001b[43m(\u001b[49m\u001b[38;5;241;43m*\u001b[39;49m\u001b[43margs\u001b[49m\u001b[43m,\u001b[49m\u001b[43m \u001b[49m\u001b[38;5;241;43m*\u001b[39;49m\u001b[38;5;241;43m*\u001b[39;49m\u001b[43mkwargs\u001b[49m\u001b[43m)\u001b[49m\n",
      "File \u001b[0;32m~/miniconda3/lib/python3.9/site-packages/pandas/io/parsers/readers.py:678\u001b[0m, in \u001b[0;36mread_csv\u001b[0;34m(filepath_or_buffer, sep, delimiter, header, names, index_col, usecols, squeeze, prefix, mangle_dupe_cols, dtype, engine, converters, true_values, false_values, skipinitialspace, skiprows, skipfooter, nrows, na_values, keep_default_na, na_filter, verbose, skip_blank_lines, parse_dates, infer_datetime_format, keep_date_col, date_parser, dayfirst, cache_dates, iterator, chunksize, compression, thousands, decimal, lineterminator, quotechar, quoting, doublequote, escapechar, comment, encoding, encoding_errors, dialect, error_bad_lines, warn_bad_lines, on_bad_lines, delim_whitespace, low_memory, memory_map, float_precision, storage_options)\u001b[0m\n\u001b[1;32m    663\u001b[0m kwds_defaults \u001b[38;5;241m=\u001b[39m _refine_defaults_read(\n\u001b[1;32m    664\u001b[0m     dialect,\n\u001b[1;32m    665\u001b[0m     delimiter,\n\u001b[0;32m   (...)\u001b[0m\n\u001b[1;32m    674\u001b[0m     defaults\u001b[38;5;241m=\u001b[39m{\u001b[38;5;124m\"\u001b[39m\u001b[38;5;124mdelimiter\u001b[39m\u001b[38;5;124m\"\u001b[39m: \u001b[38;5;124m\"\u001b[39m\u001b[38;5;124m,\u001b[39m\u001b[38;5;124m\"\u001b[39m},\n\u001b[1;32m    675\u001b[0m )\n\u001b[1;32m    676\u001b[0m kwds\u001b[38;5;241m.\u001b[39mupdate(kwds_defaults)\n\u001b[0;32m--> 678\u001b[0m \u001b[38;5;28;01mreturn\u001b[39;00m \u001b[43m_read\u001b[49m\u001b[43m(\u001b[49m\u001b[43mfilepath_or_buffer\u001b[49m\u001b[43m,\u001b[49m\u001b[43m \u001b[49m\u001b[43mkwds\u001b[49m\u001b[43m)\u001b[49m\n",
      "File \u001b[0;32m~/miniconda3/lib/python3.9/site-packages/pandas/io/parsers/readers.py:575\u001b[0m, in \u001b[0;36m_read\u001b[0;34m(filepath_or_buffer, kwds)\u001b[0m\n\u001b[1;32m    572\u001b[0m _validate_names(kwds\u001b[38;5;241m.\u001b[39mget(\u001b[38;5;124m\"\u001b[39m\u001b[38;5;124mnames\u001b[39m\u001b[38;5;124m\"\u001b[39m, \u001b[38;5;28;01mNone\u001b[39;00m))\n\u001b[1;32m    574\u001b[0m \u001b[38;5;66;03m# Create the parser.\u001b[39;00m\n\u001b[0;32m--> 575\u001b[0m parser \u001b[38;5;241m=\u001b[39m \u001b[43mTextFileReader\u001b[49m\u001b[43m(\u001b[49m\u001b[43mfilepath_or_buffer\u001b[49m\u001b[43m,\u001b[49m\u001b[43m \u001b[49m\u001b[38;5;241;43m*\u001b[39;49m\u001b[38;5;241;43m*\u001b[39;49m\u001b[43mkwds\u001b[49m\u001b[43m)\u001b[49m\n\u001b[1;32m    577\u001b[0m \u001b[38;5;28;01mif\u001b[39;00m chunksize \u001b[38;5;129;01mor\u001b[39;00m iterator:\n\u001b[1;32m    578\u001b[0m     \u001b[38;5;28;01mreturn\u001b[39;00m parser\n",
      "File \u001b[0;32m~/miniconda3/lib/python3.9/site-packages/pandas/io/parsers/readers.py:932\u001b[0m, in \u001b[0;36mTextFileReader.__init__\u001b[0;34m(self, f, engine, **kwds)\u001b[0m\n\u001b[1;32m    929\u001b[0m     \u001b[38;5;28mself\u001b[39m\u001b[38;5;241m.\u001b[39moptions[\u001b[38;5;124m\"\u001b[39m\u001b[38;5;124mhas_index_names\u001b[39m\u001b[38;5;124m\"\u001b[39m] \u001b[38;5;241m=\u001b[39m kwds[\u001b[38;5;124m\"\u001b[39m\u001b[38;5;124mhas_index_names\u001b[39m\u001b[38;5;124m\"\u001b[39m]\n\u001b[1;32m    931\u001b[0m \u001b[38;5;28mself\u001b[39m\u001b[38;5;241m.\u001b[39mhandles: IOHandles \u001b[38;5;241m|\u001b[39m \u001b[38;5;28;01mNone\u001b[39;00m \u001b[38;5;241m=\u001b[39m \u001b[38;5;28;01mNone\u001b[39;00m\n\u001b[0;32m--> 932\u001b[0m \u001b[38;5;28mself\u001b[39m\u001b[38;5;241m.\u001b[39m_engine \u001b[38;5;241m=\u001b[39m \u001b[38;5;28;43mself\u001b[39;49m\u001b[38;5;241;43m.\u001b[39;49m\u001b[43m_make_engine\u001b[49m\u001b[43m(\u001b[49m\u001b[43mf\u001b[49m\u001b[43m,\u001b[49m\u001b[43m \u001b[49m\u001b[38;5;28;43mself\u001b[39;49m\u001b[38;5;241;43m.\u001b[39;49m\u001b[43mengine\u001b[49m\u001b[43m)\u001b[49m\n",
      "File \u001b[0;32m~/miniconda3/lib/python3.9/site-packages/pandas/io/parsers/readers.py:1216\u001b[0m, in \u001b[0;36mTextFileReader._make_engine\u001b[0;34m(self, f, engine)\u001b[0m\n\u001b[1;32m   1212\u001b[0m     mode \u001b[38;5;241m=\u001b[39m \u001b[38;5;124m\"\u001b[39m\u001b[38;5;124mrb\u001b[39m\u001b[38;5;124m\"\u001b[39m\n\u001b[1;32m   1213\u001b[0m \u001b[38;5;66;03m# error: No overload variant of \"get_handle\" matches argument types\u001b[39;00m\n\u001b[1;32m   1214\u001b[0m \u001b[38;5;66;03m# \"Union[str, PathLike[str], ReadCsvBuffer[bytes], ReadCsvBuffer[str]]\"\u001b[39;00m\n\u001b[1;32m   1215\u001b[0m \u001b[38;5;66;03m# , \"str\", \"bool\", \"Any\", \"Any\", \"Any\", \"Any\", \"Any\"\u001b[39;00m\n\u001b[0;32m-> 1216\u001b[0m \u001b[38;5;28mself\u001b[39m\u001b[38;5;241m.\u001b[39mhandles \u001b[38;5;241m=\u001b[39m \u001b[43mget_handle\u001b[49m\u001b[43m(\u001b[49m\u001b[43m  \u001b[49m\u001b[38;5;66;43;03m# type: ignore[call-overload]\u001b[39;49;00m\n\u001b[1;32m   1217\u001b[0m \u001b[43m    \u001b[49m\u001b[43mf\u001b[49m\u001b[43m,\u001b[49m\n\u001b[1;32m   1218\u001b[0m \u001b[43m    \u001b[49m\u001b[43mmode\u001b[49m\u001b[43m,\u001b[49m\n\u001b[1;32m   1219\u001b[0m \u001b[43m    \u001b[49m\u001b[43mencoding\u001b[49m\u001b[38;5;241;43m=\u001b[39;49m\u001b[38;5;28;43mself\u001b[39;49m\u001b[38;5;241;43m.\u001b[39;49m\u001b[43moptions\u001b[49m\u001b[38;5;241;43m.\u001b[39;49m\u001b[43mget\u001b[49m\u001b[43m(\u001b[49m\u001b[38;5;124;43m\"\u001b[39;49m\u001b[38;5;124;43mencoding\u001b[39;49m\u001b[38;5;124;43m\"\u001b[39;49m\u001b[43m,\u001b[49m\u001b[43m \u001b[49m\u001b[38;5;28;43;01mNone\u001b[39;49;00m\u001b[43m)\u001b[49m\u001b[43m,\u001b[49m\n\u001b[1;32m   1220\u001b[0m \u001b[43m    \u001b[49m\u001b[43mcompression\u001b[49m\u001b[38;5;241;43m=\u001b[39;49m\u001b[38;5;28;43mself\u001b[39;49m\u001b[38;5;241;43m.\u001b[39;49m\u001b[43moptions\u001b[49m\u001b[38;5;241;43m.\u001b[39;49m\u001b[43mget\u001b[49m\u001b[43m(\u001b[49m\u001b[38;5;124;43m\"\u001b[39;49m\u001b[38;5;124;43mcompression\u001b[39;49m\u001b[38;5;124;43m\"\u001b[39;49m\u001b[43m,\u001b[49m\u001b[43m \u001b[49m\u001b[38;5;28;43;01mNone\u001b[39;49;00m\u001b[43m)\u001b[49m\u001b[43m,\u001b[49m\n\u001b[1;32m   1221\u001b[0m \u001b[43m    \u001b[49m\u001b[43mmemory_map\u001b[49m\u001b[38;5;241;43m=\u001b[39;49m\u001b[38;5;28;43mself\u001b[39;49m\u001b[38;5;241;43m.\u001b[39;49m\u001b[43moptions\u001b[49m\u001b[38;5;241;43m.\u001b[39;49m\u001b[43mget\u001b[49m\u001b[43m(\u001b[49m\u001b[38;5;124;43m\"\u001b[39;49m\u001b[38;5;124;43mmemory_map\u001b[39;49m\u001b[38;5;124;43m\"\u001b[39;49m\u001b[43m,\u001b[49m\u001b[43m \u001b[49m\u001b[38;5;28;43;01mFalse\u001b[39;49;00m\u001b[43m)\u001b[49m\u001b[43m,\u001b[49m\n\u001b[1;32m   1222\u001b[0m \u001b[43m    \u001b[49m\u001b[43mis_text\u001b[49m\u001b[38;5;241;43m=\u001b[39;49m\u001b[43mis_text\u001b[49m\u001b[43m,\u001b[49m\n\u001b[1;32m   1223\u001b[0m \u001b[43m    \u001b[49m\u001b[43merrors\u001b[49m\u001b[38;5;241;43m=\u001b[39;49m\u001b[38;5;28;43mself\u001b[39;49m\u001b[38;5;241;43m.\u001b[39;49m\u001b[43moptions\u001b[49m\u001b[38;5;241;43m.\u001b[39;49m\u001b[43mget\u001b[49m\u001b[43m(\u001b[49m\u001b[38;5;124;43m\"\u001b[39;49m\u001b[38;5;124;43mencoding_errors\u001b[39;49m\u001b[38;5;124;43m\"\u001b[39;49m\u001b[43m,\u001b[49m\u001b[43m \u001b[49m\u001b[38;5;124;43m\"\u001b[39;49m\u001b[38;5;124;43mstrict\u001b[39;49m\u001b[38;5;124;43m\"\u001b[39;49m\u001b[43m)\u001b[49m\u001b[43m,\u001b[49m\n\u001b[1;32m   1224\u001b[0m \u001b[43m    \u001b[49m\u001b[43mstorage_options\u001b[49m\u001b[38;5;241;43m=\u001b[39;49m\u001b[38;5;28;43mself\u001b[39;49m\u001b[38;5;241;43m.\u001b[39;49m\u001b[43moptions\u001b[49m\u001b[38;5;241;43m.\u001b[39;49m\u001b[43mget\u001b[49m\u001b[43m(\u001b[49m\u001b[38;5;124;43m\"\u001b[39;49m\u001b[38;5;124;43mstorage_options\u001b[39;49m\u001b[38;5;124;43m\"\u001b[39;49m\u001b[43m,\u001b[49m\u001b[43m \u001b[49m\u001b[38;5;28;43;01mNone\u001b[39;49;00m\u001b[43m)\u001b[49m\u001b[43m,\u001b[49m\n\u001b[1;32m   1225\u001b[0m \u001b[43m\u001b[49m\u001b[43m)\u001b[49m\n\u001b[1;32m   1226\u001b[0m \u001b[38;5;28;01massert\u001b[39;00m \u001b[38;5;28mself\u001b[39m\u001b[38;5;241m.\u001b[39mhandles \u001b[38;5;129;01mis\u001b[39;00m \u001b[38;5;129;01mnot\u001b[39;00m \u001b[38;5;28;01mNone\u001b[39;00m\n\u001b[1;32m   1227\u001b[0m f \u001b[38;5;241m=\u001b[39m \u001b[38;5;28mself\u001b[39m\u001b[38;5;241m.\u001b[39mhandles\u001b[38;5;241m.\u001b[39mhandle\n",
      "File \u001b[0;32m~/miniconda3/lib/python3.9/site-packages/pandas/io/common.py:786\u001b[0m, in \u001b[0;36mget_handle\u001b[0;34m(path_or_buf, mode, encoding, compression, memory_map, is_text, errors, storage_options)\u001b[0m\n\u001b[1;32m    781\u001b[0m \u001b[38;5;28;01melif\u001b[39;00m \u001b[38;5;28misinstance\u001b[39m(handle, \u001b[38;5;28mstr\u001b[39m):\n\u001b[1;32m    782\u001b[0m     \u001b[38;5;66;03m# Check whether the filename is to be opened in binary mode.\u001b[39;00m\n\u001b[1;32m    783\u001b[0m     \u001b[38;5;66;03m# Binary mode does not support 'encoding' and 'newline'.\u001b[39;00m\n\u001b[1;32m    784\u001b[0m     \u001b[38;5;28;01mif\u001b[39;00m ioargs\u001b[38;5;241m.\u001b[39mencoding \u001b[38;5;129;01mand\u001b[39;00m \u001b[38;5;124m\"\u001b[39m\u001b[38;5;124mb\u001b[39m\u001b[38;5;124m\"\u001b[39m \u001b[38;5;129;01mnot\u001b[39;00m \u001b[38;5;129;01min\u001b[39;00m ioargs\u001b[38;5;241m.\u001b[39mmode:\n\u001b[1;32m    785\u001b[0m         \u001b[38;5;66;03m# Encoding\u001b[39;00m\n\u001b[0;32m--> 786\u001b[0m         handle \u001b[38;5;241m=\u001b[39m \u001b[38;5;28;43mopen\u001b[39;49m\u001b[43m(\u001b[49m\n\u001b[1;32m    787\u001b[0m \u001b[43m            \u001b[49m\u001b[43mhandle\u001b[49m\u001b[43m,\u001b[49m\n\u001b[1;32m    788\u001b[0m \u001b[43m            \u001b[49m\u001b[43mioargs\u001b[49m\u001b[38;5;241;43m.\u001b[39;49m\u001b[43mmode\u001b[49m\u001b[43m,\u001b[49m\n\u001b[1;32m    789\u001b[0m \u001b[43m            \u001b[49m\u001b[43mencoding\u001b[49m\u001b[38;5;241;43m=\u001b[39;49m\u001b[43mioargs\u001b[49m\u001b[38;5;241;43m.\u001b[39;49m\u001b[43mencoding\u001b[49m\u001b[43m,\u001b[49m\n\u001b[1;32m    790\u001b[0m \u001b[43m            \u001b[49m\u001b[43merrors\u001b[49m\u001b[38;5;241;43m=\u001b[39;49m\u001b[43merrors\u001b[49m\u001b[43m,\u001b[49m\n\u001b[1;32m    791\u001b[0m \u001b[43m            \u001b[49m\u001b[43mnewline\u001b[49m\u001b[38;5;241;43m=\u001b[39;49m\u001b[38;5;124;43m\"\u001b[39;49m\u001b[38;5;124;43m\"\u001b[39;49m\u001b[43m,\u001b[49m\n\u001b[1;32m    792\u001b[0m \u001b[43m        \u001b[49m\u001b[43m)\u001b[49m\n\u001b[1;32m    793\u001b[0m     \u001b[38;5;28;01melse\u001b[39;00m:\n\u001b[1;32m    794\u001b[0m         \u001b[38;5;66;03m# Binary mode\u001b[39;00m\n\u001b[1;32m    795\u001b[0m         handle \u001b[38;5;241m=\u001b[39m \u001b[38;5;28mopen\u001b[39m(handle, ioargs\u001b[38;5;241m.\u001b[39mmode)\n",
      "\u001b[0;31mFileNotFoundError\u001b[0m: [Errno 2] No such file or directory: 'Model/Train.csv'"
     ]
    }
   ],
   "source": [
    "train = pd.read_csv(\"Model/Train.csv\")\n",
    "\n",
    "test = pd.read_csv(\"Model/est.csv\")\n",
    "sub = pd.read_csv(\"Model/SampleSubmission (1).csv\")\n",
    "vard = pd.read_csv(\"Model/VariableDescription.csv\")"
   ]
  },
  {
   "cell_type": "code",
   "execution_count": null,
   "id": "43d78003-0fe3-48b6-8952-9e35f45e3594",
   "metadata": {},
   "outputs": [],
   "source": [
    "train.head()"
   ]
  },
  {
   "cell_type": "code",
   "execution_count": null,
   "id": "8f6921dc-5d86-43f2-baca-e2f4df976842",
   "metadata": {},
   "outputs": [],
   "source": [
    "train.info()"
   ]
  },
  {
   "cell_type": "code",
   "execution_count": null,
   "id": "13c65b0c-0600-46ce-aef1-e9382ef657e0",
   "metadata": {},
   "outputs": [],
   "source": [
    "df_train = train.copy()\n",
    "df_test = test.copy()"
   ]
  },
  {
   "cell_type": "code",
   "execution_count": null,
   "id": "6e516af1-bcb2-4d27-907e-2cb326ef30a5",
   "metadata": {},
   "outputs": [],
   "source": [
    "# train.columns[train.columns.str.contains(\"observe\")].to_list()\n",
    "observe_columns = [\n",
    "    \"child_observe_attentive\",\n",
    "    \"child_observe_concentrated\",\n",
    "    \"child_observe_diligent\",\n",
    "    \"child_observe_interested\",\n",
    "]\n",
    "\n",
    "mapper_observe = {\"Sometimes\": 1, \"Almost never\": 0, \"Often\": 2, \"Almost always\": 3}"
   ]
  },
  {
   "cell_type": "code",
   "execution_count": null,
   "id": "1ff0e8d0-2e1c-42da-9458-7ff2b24e2b4f",
   "metadata": {},
   "outputs": [],
   "source": [
    "social_columns = [\n",
    "    \"teacher_social_initiative\",\n",
    "    \"teacher_social_peers\",\n",
    "    \"teacher_social_nonaggressive\",\n",
    "    \"teacher_social_cooperate\",\n",
    "    \"teacher_social_assistance\",\n",
    "    \"teacher_social_ideas\",\n",
    "    \"teacher_social_initiative\",\n",
    "]\n",
    "\n",
    "mapper_social = {\n",
    "    \"None of the time\": 0,\n",
    "    \"A little of the time\": 1,\n",
    "    \"Most of the time\": 2,\n",
    "    \"All of the time\": 3,\n",
    "}"
   ]
  },
  {
   "cell_type": "code",
   "execution_count": null,
   "id": "e1d3de0b-f12f-4869-b202-4388b798b07c",
   "metadata": {},
   "outputs": [],
   "source": [
    "# Function to map values to the columns\n",
    "def mapper(df, map_columns, map_values):\n",
    "    for col in map_columns:\n",
    "        df[col] = df[col].map(map_values)\n",
    "    return df"
   ]
  },
  {
   "cell_type": "code",
   "execution_count": null,
   "id": "2ec5c3a0-67b9-4b69-aac6-1230a766917b",
   "metadata": {},
   "outputs": [],
   "source": [
    "# Mapping values\n",
    "df_train = mapper(df_train, observe_columns, mapper_observe)\n",
    "df_test = mapper(df_test, observe_columns, mapper_observe)\n",
    "\n",
    "df_train = mapper(df_train, social_columns, mapper_social)\n",
    "df_test = mapper(df_test, social_columns, mapper_social)"
   ]
  },
  {
   "cell_type": "code",
   "execution_count": null,
   "id": "39e79da5-9d6e-434f-badf-fed8c2fc0a5e",
   "metadata": {},
   "outputs": [],
   "source": [
    "df_train.columns[df_train.columns.str.contains(\"child\")]"
   ]
  },
  {
   "cell_type": "code",
   "execution_count": null,
   "id": "97b24579-090c-43d7-ba73-d8761d6e831a",
   "metadata": {},
   "outputs": [],
   "source": [
    "# map_years = {'1st year in the programme': 1,\n",
    "#              '2nd year in programme': 2,\n",
    "#              '3rd year in programme': 3,\n",
    "#              'Do Not Know':0}\n",
    "\n",
    "# df_train[\"child_years_in_programme\"] = df_train[\"child_years_in_programme\"].map(map_years)\n",
    "# df_test[\"child_years_in_programme\"] = df_test[\"child_years_in_programme\"].map(map_years)"
   ]
  },
  {
   "cell_type": "code",
   "execution_count": null,
   "id": "abd86a98-10c0-4450-8fad-1da61ec3ee16",
   "metadata": {},
   "outputs": [],
   "source": [
    "drop_cols = [\n",
    "    \"count_staff_gender_other\",\n",
    "    \"pri_days\",\n",
    "    \"obs_lighting_8\",\n",
    "    \"count_practitioners_all\",\n",
    "    \"count_register_gender_other\",\n",
    "    \"obs_heating_3\",\n",
    "    \"obs_lighting_5\",\n",
    "    \"pri_difficult_see\",\n",
    "    \"pri_difficult_walk\",\n",
    "    \"obs_lighting_6\",\n",
    "    \"teacher_social_initiative\",\n",
    "]\n",
    "df_train[drop_cols].isnull().sum()"
   ]
  },
  {
   "cell_type": "code",
   "execution_count": null,
   "id": "3b2cc4ce-db69-48ec-acdb-d506c2794d57",
   "metadata": {
    "tags": []
   },
   "outputs": [],
   "source": [
    "len(df_train.query(\"child_gender == 'Female'\"))"
   ]
  },
  {
   "cell_type": "code",
   "execution_count": null,
   "id": "96fb0d67-cca8-49ba-9757-d1329b90be2b",
   "metadata": {},
   "outputs": [],
   "source": [
    "# df_train[\"child_gender\"] = df_child[\"child_gender\"].map({\"Male\": })"
   ]
  },
  {
   "cell_type": "code",
   "execution_count": null,
   "id": "88a14622-18f8-4db7-97a9-4b791cc9c83f",
   "metadata": {},
   "outputs": [],
   "source": []
  },
  {
   "cell_type": "code",
   "execution_count": null,
   "id": "a2d2f163-c0df-4f15-b539-e47de7bddb29",
   "metadata": {
    "tags": []
   },
   "outputs": [],
   "source": [
    "# pd.set_option(\"display.max_rows\", 50)\n",
    "# df_train[\"child_dob\"] =\n",
    "# df_train[\"child_dob\"] = pd.to_datetime(df_train[\"child_dob\"],yearfirst=True)\n",
    "# df_test[\"child_dob\"] = pd.to_datetime(df_test[\"child_dob\"],yearfirst=True)\n",
    "\n",
    "# df_train[\"child_dob_month\"] = df_train[\"child_dob\"].dt.month\n",
    "# df_test[\"child_dob_month\"] = df_test[\"child_dob\"].dt.month"
   ]
  },
  {
   "cell_type": "code",
   "execution_count": null,
   "id": "74eea32a-4d7a-464e-91f7-617015b51478",
   "metadata": {},
   "outputs": [],
   "source": []
  },
  {
   "cell_type": "markdown",
   "id": "c300efef-a151-4cc6-b41f-9d4021e20d4e",
   "metadata": {},
   "source": [
    "# Machine Learning Algorithms"
   ]
  },
  {
   "cell_type": "markdown",
   "id": "6f65a0f6-9b37-4358-aaba-b7e5126ab094",
   "metadata": {},
   "source": [
    "## Training with numerical columns only"
   ]
  },
  {
   "cell_type": "code",
   "execution_count": null,
   "id": "59b89074-7211-4554-8e3b-b7eea7ff8866",
   "metadata": {},
   "outputs": [],
   "source": [
    "n_splits = 10\n",
    "\n",
    "kf = KFold(n_splits, shuffle=True, random_state=42)\n",
    "rkf = RepeatedKFold(n_splits=n_splits, n_repeats=2, random_state=42)"
   ]
  },
  {
   "cell_type": "code",
   "execution_count": null,
   "id": "85f56964-6a67-41c8-a156-ac08faea77c9",
   "metadata": {},
   "outputs": [],
   "source": [
    "# # Cross validation\n",
    "def cross_validation(X, y, model, cv_method):\n",
    "    rmse_scores = list()\n",
    "\n",
    "    # cv = cv_method(n_splits = N_SPLITS, n_repeats=5, random_state=1121218)\n",
    "\n",
    "    for idx, (train_idx, test_idx) in enumerate(cv_method.split(X, y)):\n",
    "\n",
    "        print(\"=\" * 12 + f\"Training fold {idx}\" + 12 * \"=\")\n",
    "        start = time.time()\n",
    "\n",
    "        X_train, X_test = X.iloc[train_idx], X.iloc[test_idx]\n",
    "        y_train, y_test = y.iloc[train_idx], y.iloc[test_idx]\n",
    "\n",
    "        # Making eval_set\n",
    "        eval_set = [(X_test.values, y_test)]\n",
    "\n",
    "        # Fitting the model to the data\n",
    "        model.fit(X_train.values, y_train)\n",
    "\n",
    "        # Predictions\n",
    "        preds = model.predict(X_test)\n",
    "\n",
    "        # Loss\n",
    "        rmse = mean_squared_error(y_test, preds, squared=False)\n",
    "        rmse_scores.append(rmse)\n",
    "\n",
    "        runtime = time.time() - start\n",
    "\n",
    "        print(f\"Fold {idx} finished with score: {rmse:.5f} in {runtime:.2f} seconds.\\n\")\n",
    "\n",
    "    print(f\"Average score {np.mean(rmse_scores)}\")\n",
    "\n",
    "    return np.mean(rmse_scores), rmse_scores\n",
    "\n",
    "\n",
    "# rmse, cv_scores = cross_validation(X, y, hgbr, k_fold)"
   ]
  },
  {
   "cell_type": "code",
   "execution_count": null,
   "id": "859733f8-5646-43da-b4bd-f331819b8dfc",
   "metadata": {},
   "outputs": [],
   "source": [
    "# Getting feature importances\n",
    "def get_feature_imp(model, imp_factor):\n",
    "    cols_imp = [\n",
    "        (col, imp)\n",
    "        for col, imp in zip(model.feature_name_, model.feature_importances_)\n",
    "        if imp < imp_factor\n",
    "    ]\n",
    "    cols = [\n",
    "        col\n",
    "        for col, imp in zip(model.feature_name_, model.feature_importances_)\n",
    "        if imp < imp_factor\n",
    "    ]\n",
    "\n",
    "    return cols, cols_imp"
   ]
  },
  {
   "cell_type": "code",
   "execution_count": null,
   "id": "9c51bbaa-71e2-4fd5-8126-252c4f3433ca",
   "metadata": {},
   "outputs": [],
   "source": [
    "def feature_imp_dataframe(model):\n",
    "    feature_imp = model.feature_importances_\n",
    "    columns = model.feature_name_\n",
    "\n",
    "    df_imp = pd.DataFrame({\"features\": columns, \"feature_importance\": feature_imp})\n",
    "\n",
    "    df_imp.sort_values(by=[\"feature_importance\"], ascending=False, inplace=True)\n",
    "    df_imp.reset_index(drop=True, inplace=True)\n",
    "\n",
    "    return df_imp"
   ]
  },
  {
   "cell_type": "code",
   "execution_count": null,
   "id": "75188030-9d45-4443-9043-a77285d75638",
   "metadata": {},
   "outputs": [],
   "source": [
    "def plot_feature_importance(df_feature_imp, n_imp_cols):\n",
    "    labels = df_feature_imp.iloc[:30, 0].values\n",
    "\n",
    "    plt.figure(figsize=(20, 6))\n",
    "    ax = df_feature_imp.iloc[:30, 1].plot(kind=\"bar\", title=\"Feature Importance\")\n",
    "    ax.set_xticklabels(labels)\n",
    "    plt.show()"
   ]
  },
  {
   "cell_type": "markdown",
   "id": "3fcce471-1286-416b-8c96-96f544704d68",
   "metadata": {},
   "source": [
    "### Selecting numerical columns from df_train and df_test"
   ]
  },
  {
   "cell_type": "markdown",
   "id": "52c70066-2f41-4f7b-8d36-e311e870f34d",
   "metadata": {},
   "source": [
    "### Lightgbm"
   ]
  },
  {
   "cell_type": "code",
   "execution_count": null,
   "id": "465dffc7-fd71-489a-bee1-168b04b88af8",
   "metadata": {},
   "outputs": [],
   "source": [
    "cols_list_2 = [\n",
    "    \"pri_difficult_see\",\n",
    "    \"count_staff_contract_substitute\",\n",
    "    \"pri_difficult_walk\",\n",
    "    \"obs_lighting_4\",\n",
    "    \"obs_heating_3\",\n",
    "    \"count_register_gender_other\",\n",
    "    \"count_staff_paid_managers\",\n",
    "    \"obs_lighting_5\",\n",
    "    \"count_practitioners_all\",\n",
    "    \"obs_cooking_4\",\n",
    "    \"pri_days\",\n",
    "    \"count_staff_gender_other\",\n",
    "    \"obs_cooking_5\",\n",
    "    \"obs_lighting_6\",\n",
    "    \"obs_lighting_3\",\n",
    "]\n",
    "\n",
    "cols_list_3 = [\n",
    "    \"pri_difficult_see\",\n",
    "    \"count_staff_contract_substitute\",\n",
    "    \"pri_difficult_walk\",\n",
    "    \"obs_lighting_4\",\n",
    "    \"obs_heating_3\",\n",
    "    \"count_register_gender_other\",\n",
    "    \"count_staff_paid_managers\",\n",
    "    \"obs_lighting_5\",\n",
    "    \"count_practitioners_all\",\n",
    "    \"obs_cooking_4\",\n",
    "    \"pri_days\",\n",
    "    \"count_staff_gender_other\",\n",
    "    \"obs_cooking_5\",\n",
    "    \"obs_lighting_6\",\n",
    "    \"obs_lighting_3\",\n",
    "    \"language_match\",\n",
    "    \"teacher_social_initiative\",\n",
    "    \"obs_lighting_8\",\n",
    "    \"obs_heating_7\",\n",
    "]"
   ]
  },
  {
   "cell_type": "code",
   "execution_count": null,
   "id": "12102dd9-e9cb-4960-bc5e-d9f16886927b",
   "metadata": {},
   "outputs": [],
   "source": [
    "train_int_cols = df_train.select_dtypes(\n",
    "    include=[\"float64\", \"number\", \"Int64\", \"int64\"]\n",
    ").columns\n",
    "test_int_cols = df_test.select_dtypes(\n",
    "    include=[\"float64\", \"number\", \"Int64\", \"int64\"]\n",
    ").columns\n",
    "\n",
    "# Numerical columns\n",
    "num_cols = list(set(test_int_cols).intersection(set(train_int_cols)))\n",
    "\n",
    "\n",
    "X, y = df_train[num_cols].drop(columns=drop_cols), df_train[[\"target\"]]\n",
    "# X, y = df_train[num_cols].drop(columns=cols_list_2), df_train[['target']]\n",
    "# X, y = df_train[num_cols].drop(columns=cols_list_3), df_train[['target']]\n",
    "\n",
    "# Selecting the features for test-data\n",
    "# Prediction on test set\n",
    "test_data = df_test[X.columns.to_list()]"
   ]
  },
  {
   "cell_type": "code",
   "execution_count": null,
   "id": "2195108b-817a-4663-b9d1-88f262cc5283",
   "metadata": {},
   "outputs": [],
   "source": [
    "X.shape, y.shape"
   ]
  },
  {
   "cell_type": "code",
   "execution_count": null,
   "id": "e8d8ab17-cd6f-426d-a168-cdbff1d71db3",
   "metadata": {},
   "outputs": [],
   "source": [
    "X.head()"
   ]
  },
  {
   "cell_type": "markdown",
   "id": "99b258cf-43d6-49a4-8ae4-643e815cf46f",
   "metadata": {},
   "source": [
    "# Capturing NaN per row and making a new feature"
   ]
  },
  {
   "cell_type": "code",
   "execution_count": null,
   "id": "e3c4d5d8-1651-4f90-a35c-d6d67d48ae06",
   "metadata": {},
   "outputs": [],
   "source": [
    "def feature_engineering(df):\n",
    "    df[\"NaN_row\"] = df.isna().sum(axis=1)\n",
    "    df[\"std\"] = df.std(axis=1)\n",
    "    return df\n",
    "\n",
    "\n",
    "X = feature_engineering(X)\n",
    "test_data = feature_engineering(test_data)"
   ]
  },
  {
   "cell_type": "markdown",
   "id": "995568b9-7be3-4c41-9838-f21711c92a03",
   "metadata": {},
   "source": [
    "# Filling missing values"
   ]
  },
  {
   "cell_type": "code",
   "execution_count": null,
   "id": "128b62cc-ea5f-4873-9ca1-598079110c55",
   "metadata": {},
   "outputs": [],
   "source": [
    "pipeline = Pipeline(\n",
    "    [\n",
    "        (\"impute\", SimpleImputer()),\n",
    "        (\"scale\", MinMaxScaler())\n",
    "        # ('quantiletransform', QuantileTransformer(random_state=seed))\n",
    "    ]\n",
    ")\n",
    "\n",
    "X = pd.DataFrame(columns=X.columns, data=pipeline.fit_transform(X))\n",
    "test_data = pd.DataFrame(columns=test_data.columns, data=pipeline.transform(test_data))"
   ]
  },
  {
   "cell_type": "code",
   "execution_count": null,
   "id": "e272383d-3087-4874-aac6-0ea3f01e0b6c",
   "metadata": {},
   "outputs": [],
   "source": [
    "X.head()"
   ]
  },
  {
   "cell_type": "code",
   "execution_count": null,
   "id": "9ee2ee97-fb11-4053-af90-747f8f8edd8a",
   "metadata": {},
   "outputs": [],
   "source": [
    "(X.var()[:-50])"
   ]
  },
  {
   "cell_type": "code",
   "execution_count": null,
   "id": "0c7a91e9-b2a2-43de-b809-ea33126a94b8",
   "metadata": {},
   "outputs": [],
   "source": [
    "params = {\n",
    "    \"learning_rate\": 0.01,\n",
    "    # \"objective\": \"regression\",\n",
    "    \"objective\": \"tweedie\",\n",
    "    \"n_estimators\": 4000,\n",
    "    \"num_leaves\": 35,\n",
    "    \"max_bin\": 240,\n",
    "    \"colsample_bytree\": 0.3,\n",
    "    \"max_depth\": 9,\n",
    "    \"min_child_samples\": 20,\n",
    "    \"random_state\": 42,\n",
    "}"
   ]
  },
  {
   "cell_type": "code",
   "execution_count": null,
   "id": "dfd13e47-1059-41db-a8ef-6cec545344e4",
   "metadata": {},
   "outputs": [],
   "source": [
    "best_trial = {\n",
    "    \"n_estimators\": 54884,\n",
    "    \"reg_alpha\": 1.511619688143909,\n",
    "    \"reg_lambda\": 0.46134859372486536,\n",
    "    \"colsample_bytree\": 0.3,\n",
    "    \"subsample\": 1.0,\n",
    "    \"learning_rate\": 0.02,\n",
    "    \"max_depth\": 20,\n",
    "    \"num_leaves\": 16,\n",
    "    \"min_child_samples\": 21,\n",
    "    \"min_data_per_groups\": 48,\n",
    "}"
   ]
  },
  {
   "cell_type": "code",
   "execution_count": null,
   "id": "84a8a971-ebe0-4d88-b3cc-d8918aa72cdc",
   "metadata": {},
   "outputs": [],
   "source": [
    "X_train, X_test, y_train, y_test = train_test_split(\n",
    "    X, y, test_size=0.1, random_state=55\n",
    ")\n",
    "\n",
    "# Training the model with reduced columns\n",
    "lgbm = LGBMRegressor(**params)\n",
    "\n",
    "lgbm.fit(\n",
    "    X_train,\n",
    "    y_train,\n",
    "    eval_set=[(X_test, y_test)],\n",
    "    eval_metric=\"rmse\",\n",
    "    early_stopping_rounds=100,\n",
    "    verbose=False,\n",
    ")\n",
    "\n",
    "# Get score\n",
    "lgbm.best_score_"
   ]
  },
  {
   "cell_type": "code",
   "execution_count": null,
   "id": "2a7a72c6-b2f5-48b2-b9fe-64455ab1c041",
   "metadata": {},
   "outputs": [],
   "source": [
    "get_feature_imp(lgbm, 5)"
   ]
  },
  {
   "cell_type": "code",
   "execution_count": null,
   "id": "2905b353-2b4b-481b-b4a5-ea54571cb531",
   "metadata": {},
   "outputs": [],
   "source": [
    "# Training the model on whole dataset\n",
    "lgbm = LGBMRegressor(**params)\n",
    "lgbm.fit(X, y)"
   ]
  },
  {
   "cell_type": "code",
   "execution_count": null,
   "id": "51a4272b-6310-4dbb-9a66-3acfe9113771",
   "metadata": {},
   "outputs": [],
   "source": [
    "fea_imp = pd.DataFrame({\"imp\": lgbm.feature_importances_, \"col\": X.columns})\n",
    "fea_imp = fea_imp.sort_values([\"imp\", \"col\"], ascending=True).iloc[-30:]\n",
    "_ = fea_imp.plot(kind=\"barh\", x=\"col\", y=\"imp\", figsize=(20, 10))\n",
    "plt.savefig(\"catboost_feature_importance.png\")"
   ]
  },
  {
   "cell_type": "code",
   "execution_count": null,
   "id": "ed570341-2a76-4955-8d9f-cd85400d39ca",
   "metadata": {},
   "outputs": [],
   "source": [
    "# Prediction on test set\n",
    "# test_data = df_test[X.columns.to_list()]\n",
    "\n",
    "preds = lgbm.predict(test_data)\n",
    "preds"
   ]
  },
  {
   "cell_type": "code",
   "execution_count": null,
   "id": "d6770e54-4589-48e2-9e19-16510fea866d",
   "metadata": {},
   "outputs": [],
   "source": [
    "# Creating a submissionfile\n",
    "sub_file = pd.read_csv(\"GBRSubmission1_score_10.63.csv\")\n",
    "sub_file.target = preds\n",
    "sub_file.to_csv(\"LGBMSubmission.csv\", index=False)"
   ]
  },
  {
   "cell_type": "code",
   "execution_count": null,
   "id": "be4d1350-2f83-48cb-81b4-727016ad8ad5",
   "metadata": {},
   "outputs": [],
   "source": [
    "kjkjkd"
   ]
  },
  {
   "cell_type": "code",
   "execution_count": null,
   "id": "49b43d37-0c30-4bcd-8d42-f362f1fa527b",
   "metadata": {},
   "outputs": [],
   "source": [
    "import optuna\n",
    "from sklearn.model_selection import train_test_split\n",
    "\n",
    "\n",
    "def objective(trial, data=X, target=y):\n",
    "\n",
    "    train_x, test_x, train_y, test_y = train_test_split(\n",
    "        data, target, test_size=0.2, random_state=42\n",
    "    )\n",
    "    param = {\n",
    "        \"metric\": \"rmse\",\n",
    "        \"random_state\": 42,\n",
    "        # \"n_estimators\": 20000,\n",
    "        \"n_estimators\": trial.suggest_int(\"n_estimators\", 100, 100_000),\n",
    "        \"reg_alpha\": trial.suggest_loguniform(\"reg_alpha\", 1e-3, 10.0),\n",
    "        \"reg_lambda\": trial.suggest_loguniform(\"reg_lambda\", 1e-3, 10.0),\n",
    "        \"colsample_bytree\": trial.suggest_categorical(\n",
    "            \"colsample_bytree\", [0.3, 0.4, 0.5, 0.6, 0.7, 0.8, 0.9, 1.0]\n",
    "        ),\n",
    "        \"subsample\": trial.suggest_categorical(\n",
    "            \"subsample\", [0.4, 0.5, 0.6, 0.7, 0.8, 1.0]\n",
    "        ),\n",
    "        \"learning_rate\": trial.suggest_categorical(\n",
    "            \"learning_rate\", [0.001, 0.008, 0.01, 0.014, 0.017, 0.02, 0.03, 0.04, 0.05]\n",
    "        ),\n",
    "        \"max_depth\": trial.suggest_categorical(\n",
    "            \"max_depth\",\n",
    "            [\n",
    "                6,\n",
    "                7,\n",
    "                8,\n",
    "                8,\n",
    "                10,\n",
    "                11,\n",
    "                13,\n",
    "                14,\n",
    "                15,\n",
    "                20,\n",
    "            ],\n",
    "        ),\n",
    "        \"num_leaves\": trial.suggest_int(\"num_leaves\", 2, 1000),\n",
    "        \"min_child_samples\": trial.suggest_int(\"min_child_samples\", 1, 300),\n",
    "        \"cat_smooth\": trial.suggest_int(\"min_data_per_groups\", 1, 100),\n",
    "    }\n",
    "    model = LGBMRegressor(**param)\n",
    "\n",
    "    model.fit(\n",
    "        train_x,\n",
    "        train_y,\n",
    "        eval_set=[(test_x, test_y)],\n",
    "        early_stopping_rounds=100,\n",
    "        verbose=False,\n",
    "    )\n",
    "\n",
    "    preds = model.predict(test_x)\n",
    "\n",
    "    rmse = mean_squared_error(test_y, preds, squared=False)\n",
    "\n",
    "    return rmse\n",
    "\n",
    "\n",
    "study = optuna.create_study(direction=\"minimize\")\n",
    "study.optimize(objective, n_trials=50)\n",
    "print(\"Number of finished trials:\", len(study.trials))\n",
    "print(\"Best trial:\", study.best_trial.params)"
   ]
  },
  {
   "cell_type": "code",
   "execution_count": null,
   "id": "84a7e2bc-e479-46aa-b1fe-f8b09a620aa0",
   "metadata": {},
   "outputs": [],
   "source": []
  }
 ],
 "metadata": {
  "kernelspec": {
   "display_name": "Python 3 (ipykernel)",
   "language": "python",
   "name": "python3"
  },
  "language_info": {
   "codemirror_mode": {
    "name": "ipython",
    "version": 3
   },
   "file_extension": ".py",
   "mimetype": "text/x-python",
   "name": "python",
   "nbconvert_exporter": "python",
   "pygments_lexer": "ipython3",
   "version": "3.9.12"
  }
 },
 "nbformat": 4,
 "nbformat_minor": 5
}
