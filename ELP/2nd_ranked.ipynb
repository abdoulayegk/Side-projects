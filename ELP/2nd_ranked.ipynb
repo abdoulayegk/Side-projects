{
 "cells": [
  {
   "cell_type": "code",
   "execution_count": 1,
   "id": "6db8d075-fe52-4b58-b1a2-a4f0e5b44229",
   "metadata": {},
   "outputs": [
    {
     "name": "stderr",
     "output_type": "stream",
     "text": [
      "/home/balde/miniconda3/lib/python3.9/site-packages/xgboost/compat.py:36: FutureWarning: pandas.Int64Index is deprecated and will be removed from pandas in a future version. Use pandas.Index with the appropriate dtype instead.\n",
      "  from pandas import MultiIndex, Int64Index\n"
     ]
    }
   ],
   "source": [
    "## Importing libraries\n",
    "import time\n",
    "import warnings\n",
    "\n",
    "import eli5\n",
    "\n",
    "warnings.filterwarnings(\"ignore\")\n",
    "\n",
    "\n",
    "import matplotlib.pyplot as plt\n",
    "import numpy as np\n",
    "import pandas as pd\n",
    "import seaborn as sns\n",
    "\n",
    "plt.style.use(\"ggplot\")\n",
    "%matplotlib inline\n",
    "\n",
    "\n",
    "import optuna\n",
    "from optuna.integration import LightGBMPruningCallback\n",
    "\n",
    "optuna.logging.set_verbosity(optuna.logging.WARNING)\n",
    "\n",
    "import plotly.express as px\n",
    "from catboost import CatBoostRegressor, Pool\n",
    "from lightgbm import DaskLGBMRegressor, LGBMRegressor\n",
    "from sklearn.compose import make_column_selector, make_column_transformer\n",
    "from sklearn.experimental import enable_iterative_imputer\n",
    "from sklearn.impute import IterativeImputer, SimpleImputer\n",
    "from sklearn.linear_model import LinearRegression\n",
    "from sklearn.metrics import mean_squared_error\n",
    "from sklearn.model_selection import KFold, RepeatedKFold, train_test_split\n",
    "from sklearn.pipeline import Pipeline, make_pipeline\n",
    "from sklearn.preprocessing import MinMaxScaler, OrdinalEncoder, RobustScaler\n",
    "from xgboost import DMatrix, XGBRegressor"
   ]
  },
  {
   "cell_type": "code",
   "execution_count": 2,
   "id": "a5b787b7-f652-486f-9a02-29f84cc7a166",
   "metadata": {},
   "outputs": [
    {
     "name": "stdout",
     "output_type": "stream",
     "text": [
      "/home/balde/Desktop/Python/ELP\n"
     ]
    }
   ],
   "source": [
    "!pwd"
   ]
  },
  {
   "cell_type": "markdown",
   "id": "a90fd73f-3d40-43e5-a3ba-c6ff241356bf",
   "metadata": {},
   "source": [
    "## Reading the data"
   ]
  },
  {
   "cell_type": "code",
   "execution_count": 3,
   "id": "cc181b08-93dd-4667-b78b-a03f76d98eeb",
   "metadata": {},
   "outputs": [],
   "source": [
    "train = pd.read_csv(\"Train.csv\")\n",
    "\n",
    "test = pd.read_csv(\"Test.csv\")\n",
    "sub = pd.read_csv(\"SampleSubmission (1).csv\")\n",
    "vard = pd.read_csv(\"VariableDescription.csv\")"
   ]
  },
  {
   "cell_type": "code",
   "execution_count": 4,
   "id": "43d78003-0fe3-48b6-8952-9e35f45e3594",
   "metadata": {},
   "outputs": [
    {
     "data": {
      "text/html": [
       "<div>\n",
       "<style scoped>\n",
       "    .dataframe tbody tr th:only-of-type {\n",
       "        vertical-align: middle;\n",
       "    }\n",
       "\n",
       "    .dataframe tbody tr th {\n",
       "        vertical-align: top;\n",
       "    }\n",
       "\n",
       "    .dataframe thead th {\n",
       "        text-align: right;\n",
       "    }\n",
       "</style>\n",
       "<table border=\"1\" class=\"dataframe\">\n",
       "  <thead>\n",
       "    <tr style=\"text-align: right;\">\n",
       "      <th></th>\n",
       "      <th>child_id</th>\n",
       "      <th>data_year</th>\n",
       "      <th>child_date</th>\n",
       "      <th>child_age</th>\n",
       "      <th>child_enrolment_date</th>\n",
       "      <th>child_months_enrolment</th>\n",
       "      <th>child_grant</th>\n",
       "      <th>child_years_in_programme</th>\n",
       "      <th>child_height</th>\n",
       "      <th>child_observe_attentive</th>\n",
       "      <th>...</th>\n",
       "      <th>obs_cooking_5</th>\n",
       "      <th>obs_cooking_6</th>\n",
       "      <th>obs_heating_1</th>\n",
       "      <th>obs_heating_2</th>\n",
       "      <th>obs_heating_3</th>\n",
       "      <th>obs_heating_4</th>\n",
       "      <th>obs_heating_5</th>\n",
       "      <th>obs_heating_6</th>\n",
       "      <th>obs_heating_7</th>\n",
       "      <th>target</th>\n",
       "    </tr>\n",
       "  </thead>\n",
       "  <tbody>\n",
       "    <tr>\n",
       "      <th>0</th>\n",
       "      <td>ID_SYSJ2FM0D</td>\n",
       "      <td>2022.0</td>\n",
       "      <td>2022-02-03</td>\n",
       "      <td>59.000000</td>\n",
       "      <td>NaN</td>\n",
       "      <td>NaN</td>\n",
       "      <td>NaN</td>\n",
       "      <td>NaN</td>\n",
       "      <td>NaN</td>\n",
       "      <td>Sometimes</td>\n",
       "      <td>...</td>\n",
       "      <td>NaN</td>\n",
       "      <td>NaN</td>\n",
       "      <td>NaN</td>\n",
       "      <td>NaN</td>\n",
       "      <td>NaN</td>\n",
       "      <td>NaN</td>\n",
       "      <td>NaN</td>\n",
       "      <td>NaN</td>\n",
       "      <td>NaN</td>\n",
       "      <td>51.500000</td>\n",
       "    </tr>\n",
       "    <tr>\n",
       "      <th>1</th>\n",
       "      <td>ID_J5BTFOZR3</td>\n",
       "      <td>2019.0</td>\n",
       "      <td>NaN</td>\n",
       "      <td>60.163933</td>\n",
       "      <td>NaN</td>\n",
       "      <td>NaN</td>\n",
       "      <td>NaN</td>\n",
       "      <td>1st year in the programme</td>\n",
       "      <td>103.000000</td>\n",
       "      <td>Sometimes</td>\n",
       "      <td>...</td>\n",
       "      <td>NaN</td>\n",
       "      <td>NaN</td>\n",
       "      <td>NaN</td>\n",
       "      <td>NaN</td>\n",
       "      <td>NaN</td>\n",
       "      <td>NaN</td>\n",
       "      <td>NaN</td>\n",
       "      <td>NaN</td>\n",
       "      <td>NaN</td>\n",
       "      <td>55.869999</td>\n",
       "    </tr>\n",
       "    <tr>\n",
       "      <th>2</th>\n",
       "      <td>ID_R00SN7AUD</td>\n",
       "      <td>2022.0</td>\n",
       "      <td>2022-03-11</td>\n",
       "      <td>69.000000</td>\n",
       "      <td>NaN</td>\n",
       "      <td>NaN</td>\n",
       "      <td>NaN</td>\n",
       "      <td>NaN</td>\n",
       "      <td>108.400002</td>\n",
       "      <td>Often</td>\n",
       "      <td>...</td>\n",
       "      <td>NaN</td>\n",
       "      <td>NaN</td>\n",
       "      <td>NaN</td>\n",
       "      <td>NaN</td>\n",
       "      <td>NaN</td>\n",
       "      <td>NaN</td>\n",
       "      <td>NaN</td>\n",
       "      <td>NaN</td>\n",
       "      <td>NaN</td>\n",
       "      <td>47.520000</td>\n",
       "    </tr>\n",
       "    <tr>\n",
       "      <th>3</th>\n",
       "      <td>ID_BSSK60PAZ</td>\n",
       "      <td>2021.0</td>\n",
       "      <td>2021-10-13</td>\n",
       "      <td>53.000000</td>\n",
       "      <td>2020-01-15</td>\n",
       "      <td>20.0</td>\n",
       "      <td>No</td>\n",
       "      <td>1st year in the programme</td>\n",
       "      <td>98.099998</td>\n",
       "      <td>Almost always</td>\n",
       "      <td>...</td>\n",
       "      <td>NaN</td>\n",
       "      <td>NaN</td>\n",
       "      <td>NaN</td>\n",
       "      <td>NaN</td>\n",
       "      <td>NaN</td>\n",
       "      <td>NaN</td>\n",
       "      <td>NaN</td>\n",
       "      <td>NaN</td>\n",
       "      <td>NaN</td>\n",
       "      <td>58.599998</td>\n",
       "    </tr>\n",
       "    <tr>\n",
       "      <th>4</th>\n",
       "      <td>ID_IZTY6TC4D</td>\n",
       "      <td>2021.0</td>\n",
       "      <td>2021-10-13</td>\n",
       "      <td>57.000000</td>\n",
       "      <td>2021-10-13</td>\n",
       "      <td>0.0</td>\n",
       "      <td>NaN</td>\n",
       "      <td>2nd year in programme</td>\n",
       "      <td>114.000000</td>\n",
       "      <td>Almost always</td>\n",
       "      <td>...</td>\n",
       "      <td>0.0</td>\n",
       "      <td>0.0</td>\n",
       "      <td>1.0</td>\n",
       "      <td>0.0</td>\n",
       "      <td>0.0</td>\n",
       "      <td>0.0</td>\n",
       "      <td>0.0</td>\n",
       "      <td>0.0</td>\n",
       "      <td>0.0</td>\n",
       "      <td>76.599998</td>\n",
       "    </tr>\n",
       "  </tbody>\n",
       "</table>\n",
       "<p>5 rows × 679 columns</p>\n",
       "</div>"
      ],
      "text/plain": [
       "       child_id  data_year  child_date  child_age child_enrolment_date  \\\n",
       "0  ID_SYSJ2FM0D     2022.0  2022-02-03  59.000000                  NaN   \n",
       "1  ID_J5BTFOZR3     2019.0         NaN  60.163933                  NaN   \n",
       "2  ID_R00SN7AUD     2022.0  2022-03-11  69.000000                  NaN   \n",
       "3  ID_BSSK60PAZ     2021.0  2021-10-13  53.000000           2020-01-15   \n",
       "4  ID_IZTY6TC4D     2021.0  2021-10-13  57.000000           2021-10-13   \n",
       "\n",
       "   child_months_enrolment child_grant   child_years_in_programme  \\\n",
       "0                     NaN         NaN                        NaN   \n",
       "1                     NaN         NaN  1st year in the programme   \n",
       "2                     NaN         NaN                        NaN   \n",
       "3                    20.0          No  1st year in the programme   \n",
       "4                     0.0         NaN      2nd year in programme   \n",
       "\n",
       "   child_height child_observe_attentive  ... obs_cooking_5 obs_cooking_6  \\\n",
       "0           NaN               Sometimes  ...           NaN           NaN   \n",
       "1    103.000000               Sometimes  ...           NaN           NaN   \n",
       "2    108.400002                   Often  ...           NaN           NaN   \n",
       "3     98.099998           Almost always  ...           NaN           NaN   \n",
       "4    114.000000           Almost always  ...           0.0           0.0   \n",
       "\n",
       "  obs_heating_1  obs_heating_2 obs_heating_3 obs_heating_4  obs_heating_5  \\\n",
       "0           NaN            NaN           NaN           NaN            NaN   \n",
       "1           NaN            NaN           NaN           NaN            NaN   \n",
       "2           NaN            NaN           NaN           NaN            NaN   \n",
       "3           NaN            NaN           NaN           NaN            NaN   \n",
       "4           1.0            0.0           0.0           0.0            0.0   \n",
       "\n",
       "  obs_heating_6 obs_heating_7     target  \n",
       "0           NaN           NaN  51.500000  \n",
       "1           NaN           NaN  55.869999  \n",
       "2           NaN           NaN  47.520000  \n",
       "3           NaN           NaN  58.599998  \n",
       "4           0.0           0.0  76.599998  \n",
       "\n",
       "[5 rows x 679 columns]"
      ]
     },
     "execution_count": 4,
     "metadata": {},
     "output_type": "execute_result"
    }
   ],
   "source": [
    "train.head()"
   ]
  },
  {
   "cell_type": "code",
   "execution_count": 5,
   "id": "8f6921dc-5d86-43f2-baca-e2f4df976842",
   "metadata": {},
   "outputs": [
    {
     "name": "stdout",
     "output_type": "stream",
     "text": [
      "<class 'pandas.core.frame.DataFrame'>\n",
      "RangeIndex: 8585 entries, 0 to 8584\n",
      "Columns: 679 entries, child_id to target\n",
      "dtypes: float64(160), object(519)\n",
      "memory usage: 44.5+ MB\n"
     ]
    }
   ],
   "source": [
    "train.info()"
   ]
  },
  {
   "cell_type": "code",
   "execution_count": 6,
   "id": "13c65b0c-0600-46ce-aef1-e9382ef657e0",
   "metadata": {},
   "outputs": [],
   "source": [
    "df_train = train.copy()\n",
    "df_test = test.copy()"
   ]
  },
  {
   "cell_type": "code",
   "execution_count": 7,
   "id": "6e516af1-bcb2-4d27-907e-2cb326ef30a5",
   "metadata": {},
   "outputs": [],
   "source": [
    "# train.columns[train.columns.str.contains(\"observe\")].to_list()\n",
    "observe_columns = [\n",
    "    \"child_observe_attentive\",\n",
    "    \"child_observe_concentrated\",\n",
    "    \"child_observe_diligent\",\n",
    "    \"child_observe_interested\",\n",
    "]\n",
    "\n",
    "mapper_observe = {\"Sometimes\": 1, \"Almost never\": 0, \"Often\": 2, \"Almost always\": 3}"
   ]
  },
  {
   "cell_type": "code",
   "execution_count": 8,
   "id": "1ff0e8d0-2e1c-42da-9458-7ff2b24e2b4f",
   "metadata": {},
   "outputs": [],
   "source": [
    "social_columns = [\n",
    "    \"teacher_social_initiative\",\n",
    "    \"teacher_social_peers\",\n",
    "    \"teacher_social_nonaggressive\",\n",
    "    \"teacher_social_cooperate\",\n",
    "    \"teacher_social_assistance\",\n",
    "    \"teacher_social_ideas\",\n",
    "    \"teacher_social_initiative\",\n",
    "]\n",
    "\n",
    "mapper_social = {\n",
    "    \"None of the time\": 0,\n",
    "    \"A little of the time\": 1,\n",
    "    \"Most of the time\": 2,\n",
    "    \"All of the time\": 3,\n",
    "}"
   ]
  },
  {
   "cell_type": "code",
   "execution_count": 9,
   "id": "e1d3de0b-f12f-4869-b202-4388b798b07c",
   "metadata": {},
   "outputs": [],
   "source": [
    "# Function to map values to the columns\n",
    "def mapper(df, map_columns, map_values):\n",
    "    for col in map_columns:\n",
    "        df[col] = df[col].map(map_values)\n",
    "    return df"
   ]
  },
  {
   "cell_type": "code",
   "execution_count": 10,
   "id": "2ec5c3a0-67b9-4b69-aac6-1230a766917b",
   "metadata": {},
   "outputs": [],
   "source": [
    "# Mapping values\n",
    "df_train = mapper(df_train, observe_columns, mapper_observe)\n",
    "df_test = mapper(df_test, observe_columns, mapper_observe)\n",
    "\n",
    "df_train = mapper(df_train, social_columns, mapper_social)\n",
    "df_test = mapper(df_test, social_columns, mapper_social)"
   ]
  },
  {
   "cell_type": "code",
   "execution_count": 11,
   "id": "39e79da5-9d6e-434f-badf-fed8c2fc0a5e",
   "metadata": {},
   "outputs": [
    {
     "data": {
      "text/plain": [
       "Index(['child_id', 'child_date', 'child_age', 'child_enrolment_date',\n",
       "       'child_months_enrolment', 'child_grant', 'child_years_in_programme',\n",
       "       'child_height', 'child_observe_attentive', 'child_observe_concentrated',\n",
       "       'child_observe_diligent', 'child_observe_interested',\n",
       "       'child_observe_total', 'child_gender', 'child_dob', 'child_zha',\n",
       "       'child_stunted', 'child_attends', 'child_attendance', 'child_languages',\n",
       "       'child_age_group', 'pri_children_4_6_years', 'obs_toilets_children',\n",
       "       'count_children_present', 'count_children_attendance',\n",
       "       'count_children_precovid', 'count_toilets_children', 'language_child'],\n",
       "      dtype='object')"
      ]
     },
     "execution_count": 11,
     "metadata": {},
     "output_type": "execute_result"
    }
   ],
   "source": [
    "df_train.columns[df_train.columns.str.contains(\"child\")]"
   ]
  },
  {
   "cell_type": "code",
   "execution_count": 12,
   "id": "97b24579-090c-43d7-ba73-d8761d6e831a",
   "metadata": {},
   "outputs": [],
   "source": [
    "# map_years = {'1st year in the programme': 1,\n",
    "#              '2nd year in programme': 2,\n",
    "#              '3rd year in programme': 3,\n",
    "#              'Do Not Know':0}\n",
    "\n",
    "# df_train[\"child_years_in_programme\"] = df_train[\"child_years_in_programme\"].map(map_years)\n",
    "# df_test[\"child_years_in_programme\"] = df_test[\"child_years_in_programme\"].map(map_years)"
   ]
  },
  {
   "cell_type": "code",
   "execution_count": 13,
   "id": "abd86a98-10c0-4450-8fad-1da61ec3ee16",
   "metadata": {},
   "outputs": [
    {
     "data": {
      "text/plain": [
       "count_staff_gender_other       3424\n",
       "pri_days                       3394\n",
       "obs_lighting_8                 6330\n",
       "count_practitioners_all        6957\n",
       "count_register_gender_other    3470\n",
       "obs_heating_3                  6324\n",
       "obs_lighting_5                 6330\n",
       "pri_difficult_see              6957\n",
       "pri_difficult_walk             6957\n",
       "obs_lighting_6                 6330\n",
       "teacher_social_initiative      8585\n",
       "dtype: int64"
      ]
     },
     "execution_count": 13,
     "metadata": {},
     "output_type": "execute_result"
    }
   ],
   "source": [
    "drop_cols = [\n",
    "    \"count_staff_gender_other\",\n",
    "    \"pri_days\",\n",
    "    \"obs_lighting_8\",\n",
    "    \"count_practitioners_all\",\n",
    "    \"count_register_gender_other\",\n",
    "    \"obs_heating_3\",\n",
    "    \"obs_lighting_5\",\n",
    "    \"pri_difficult_see\",\n",
    "    \"pri_difficult_walk\",\n",
    "    \"obs_lighting_6\",\n",
    "    \"teacher_social_initiative\",\n",
    "]\n",
    "df_train[drop_cols].isnull().sum()"
   ]
  },
  {
   "cell_type": "code",
   "execution_count": 14,
   "id": "3b2cc4ce-db69-48ec-acdb-d506c2794d57",
   "metadata": {
    "tags": []
   },
   "outputs": [
    {
     "data": {
      "text/plain": [
       "4442"
      ]
     },
     "execution_count": 14,
     "metadata": {},
     "output_type": "execute_result"
    }
   ],
   "source": [
    "len(df_train.query(\"child_gender == 'Female'\"))"
   ]
  },
  {
   "cell_type": "code",
   "execution_count": 15,
   "id": "96fb0d67-cca8-49ba-9757-d1329b90be2b",
   "metadata": {},
   "outputs": [],
   "source": [
    "# df_train[\"child_gender\"] = df_child[\"child_gender\"].map({\"Male\": })"
   ]
  },
  {
   "cell_type": "code",
   "execution_count": null,
   "id": "88a14622-18f8-4db7-97a9-4b791cc9c83f",
   "metadata": {},
   "outputs": [],
   "source": []
  },
  {
   "cell_type": "code",
   "execution_count": 16,
   "id": "a2d2f163-c0df-4f15-b539-e47de7bddb29",
   "metadata": {
    "tags": []
   },
   "outputs": [],
   "source": [
    "# pd.set_option(\"display.max_rows\", 50)\n",
    "# df_train[\"child_dob\"] =\n",
    "# df_train[\"child_dob\"] = pd.to_datetime(df_train[\"child_dob\"],yearfirst=True)\n",
    "# df_test[\"child_dob\"] = pd.to_datetime(df_test[\"child_dob\"],yearfirst=True)\n",
    "\n",
    "# df_train[\"child_dob_month\"] = df_train[\"child_dob\"].dt.month\n",
    "# df_test[\"child_dob_month\"] = df_test[\"child_dob\"].dt.month"
   ]
  },
  {
   "cell_type": "code",
   "execution_count": null,
   "id": "74eea32a-4d7a-464e-91f7-617015b51478",
   "metadata": {},
   "outputs": [],
   "source": []
  },
  {
   "cell_type": "markdown",
   "id": "c300efef-a151-4cc6-b41f-9d4021e20d4e",
   "metadata": {},
   "source": [
    "# Machine Learning Algorithms"
   ]
  },
  {
   "cell_type": "markdown",
   "id": "6f65a0f6-9b37-4358-aaba-b7e5126ab094",
   "metadata": {},
   "source": [
    "## Training with numerical columns only"
   ]
  },
  {
   "cell_type": "code",
   "execution_count": 17,
   "id": "59b89074-7211-4554-8e3b-b7eea7ff8866",
   "metadata": {},
   "outputs": [],
   "source": [
    "n_splits = 10\n",
    "\n",
    "kf = KFold(n_splits, shuffle=True, random_state=42)\n",
    "rkf = RepeatedKFold(n_splits=n_splits, n_repeats=2, random_state=42)"
   ]
  },
  {
   "cell_type": "code",
   "execution_count": 18,
   "id": "85f56964-6a67-41c8-a156-ac08faea77c9",
   "metadata": {},
   "outputs": [],
   "source": [
    "# # Cross validation\n",
    "def cross_validation(X, y, model, cv_method):\n",
    "    rmse_scores = list()\n",
    "\n",
    "    # cv = cv_method(n_splits = N_SPLITS, n_repeats=5, random_state=1121218)\n",
    "\n",
    "    for idx, (train_idx, test_idx) in enumerate(cv_method.split(X, y)):\n",
    "\n",
    "        print(\"=\" * 12 + f\"Training fold {idx}\" + 12 * \"=\")\n",
    "        start = time.time()\n",
    "\n",
    "        X_train, X_test = X.iloc[train_idx], X.iloc[test_idx]\n",
    "        y_train, y_test = y.iloc[train_idx], y.iloc[test_idx]\n",
    "\n",
    "        # Making eval_set\n",
    "        eval_set = [(X_test.values, y_test)]\n",
    "\n",
    "        # Fitting the model to the data\n",
    "        model.fit(X_train.values, y_train)\n",
    "\n",
    "        # Predictions\n",
    "        preds = model.predict(X_test)\n",
    "\n",
    "        # Loss\n",
    "        rmse = mean_squared_error(y_test, preds, squared=False)\n",
    "        rmse_scores.append(rmse)\n",
    "\n",
    "        runtime = time.time() - start\n",
    "\n",
    "        print(f\"Fold {idx} finished with score: {rmse:.5f} in {runtime:.2f} seconds.\\n\")\n",
    "\n",
    "    print(f\"Average score {np.mean(rmse_scores)}\")\n",
    "\n",
    "    return np.mean(rmse_scores), rmse_scores\n",
    "\n",
    "\n",
    "# rmse, cv_scores = cross_validation(X, y, hgbr, k_fold)"
   ]
  },
  {
   "cell_type": "code",
   "execution_count": 19,
   "id": "859733f8-5646-43da-b4bd-f331819b8dfc",
   "metadata": {},
   "outputs": [],
   "source": [
    "# Getting feature importances\n",
    "def get_feature_imp(model, imp_factor):\n",
    "    cols_imp = [\n",
    "        (col, imp)\n",
    "        for col, imp in zip(model.feature_name_, model.feature_importances_)\n",
    "        if imp < imp_factor\n",
    "    ]\n",
    "    cols = [\n",
    "        col\n",
    "        for col, imp in zip(model.feature_name_, model.feature_importances_)\n",
    "        if imp < imp_factor\n",
    "    ]\n",
    "\n",
    "    return cols, cols_imp"
   ]
  },
  {
   "cell_type": "code",
   "execution_count": 20,
   "id": "9c51bbaa-71e2-4fd5-8126-252c4f3433ca",
   "metadata": {},
   "outputs": [],
   "source": [
    "def feature_imp_dataframe(model):\n",
    "    feature_imp = model.feature_importances_\n",
    "    columns = model.feature_name_\n",
    "\n",
    "    df_imp = pd.DataFrame({\"features\": columns, \"feature_importance\": feature_imp})\n",
    "\n",
    "    df_imp.sort_values(by=[\"feature_importance\"], ascending=False, inplace=True)\n",
    "    df_imp.reset_index(drop=True, inplace=True)\n",
    "\n",
    "    return df_imp"
   ]
  },
  {
   "cell_type": "code",
   "execution_count": 21,
   "id": "75188030-9d45-4443-9043-a77285d75638",
   "metadata": {},
   "outputs": [],
   "source": [
    "def plot_feature_importance(df_feature_imp, n_imp_cols):\n",
    "    labels = df_feature_imp.iloc[:30, 0].values\n",
    "\n",
    "    plt.figure(figsize=(20, 6))\n",
    "    ax = df_feature_imp.iloc[:30, 1].plot(kind=\"bar\", title=\"Feature Importance\")\n",
    "    ax.set_xticklabels(labels)\n",
    "    plt.show()"
   ]
  },
  {
   "cell_type": "markdown",
   "id": "3fcce471-1286-416b-8c96-96f544704d68",
   "metadata": {},
   "source": [
    "### Selecting numerical columns from df_train and df_test"
   ]
  },
  {
   "cell_type": "markdown",
   "id": "52c70066-2f41-4f7b-8d36-e311e870f34d",
   "metadata": {},
   "source": [
    "### Lightgbm"
   ]
  },
  {
   "cell_type": "code",
   "execution_count": 22,
   "id": "465dffc7-fd71-489a-bee1-168b04b88af8",
   "metadata": {},
   "outputs": [],
   "source": [
    "cols_list_2 = [\n",
    "    \"pri_difficult_see\",\n",
    "    \"count_staff_contract_substitute\",\n",
    "    \"pri_difficult_walk\",\n",
    "    \"obs_lighting_4\",\n",
    "    \"obs_heating_3\",\n",
    "    \"count_register_gender_other\",\n",
    "    \"count_staff_paid_managers\",\n",
    "    \"obs_lighting_5\",\n",
    "    \"count_practitioners_all\",\n",
    "    \"obs_cooking_4\",\n",
    "    \"pri_days\",\n",
    "    \"count_staff_gender_other\",\n",
    "    \"obs_cooking_5\",\n",
    "    \"obs_lighting_6\",\n",
    "    \"obs_lighting_3\",\n",
    "]\n",
    "\n",
    "cols_list_3 = [\n",
    "    \"pri_difficult_see\",\n",
    "    \"count_staff_contract_substitute\",\n",
    "    \"pri_difficult_walk\",\n",
    "    \"obs_lighting_4\",\n",
    "    \"obs_heating_3\",\n",
    "    \"count_register_gender_other\",\n",
    "    \"count_staff_paid_managers\",\n",
    "    \"obs_lighting_5\",\n",
    "    \"count_practitioners_all\",\n",
    "    \"obs_cooking_4\",\n",
    "    \"pri_days\",\n",
    "    \"count_staff_gender_other\",\n",
    "    \"obs_cooking_5\",\n",
    "    \"obs_lighting_6\",\n",
    "    \"obs_lighting_3\",\n",
    "    \"language_match\",\n",
    "    \"teacher_social_initiative\",\n",
    "    \"obs_lighting_8\",\n",
    "    \"obs_heating_7\",\n",
    "]"
   ]
  },
  {
   "cell_type": "code",
   "execution_count": 23,
   "id": "12102dd9-e9cb-4960-bc5e-d9f16886927b",
   "metadata": {},
   "outputs": [],
   "source": [
    "train_int_cols = df_train.select_dtypes(\n",
    "    include=[\"float64\", \"number\", \"Int64\", \"int64\"]\n",
    ").columns\n",
    "test_int_cols = df_test.select_dtypes(\n",
    "    include=[\"float64\", \"number\", \"Int64\", \"int64\"]\n",
    ").columns\n",
    "\n",
    "# Numerical columns\n",
    "num_cols = list(set(test_int_cols).intersection(set(train_int_cols)))\n",
    "\n",
    "\n",
    "X, y = df_train[num_cols].drop(columns=drop_cols), df_train[[\"target\"]]\n",
    "# X, y = df_train[num_cols].drop(columns=cols_list_2), df_train[['target']]\n",
    "# X, y = df_train[num_cols].drop(columns=cols_list_3), df_train[['target']]\n",
    "\n",
    "# Selecting the features for test-data\n",
    "# Prediction on test set\n",
    "test_data = df_test[X.columns.to_list()]"
   ]
  },
  {
   "cell_type": "code",
   "execution_count": 24,
   "id": "2195108b-817a-4663-b9d1-88f262cc5283",
   "metadata": {},
   "outputs": [
    {
     "data": {
      "text/plain": [
       "((8585, 158), (8585, 1))"
      ]
     },
     "execution_count": 24,
     "metadata": {},
     "output_type": "execute_result"
    }
   ],
   "source": [
    "X.shape, y.shape"
   ]
  },
  {
   "cell_type": "code",
   "execution_count": 25,
   "id": "e8d8ab17-cd6f-426d-a168-cdbff1d71db3",
   "metadata": {},
   "outputs": [
    {
     "data": {
      "text/html": [
       "<div>\n",
       "<style scoped>\n",
       "    .dataframe tbody tr th:only-of-type {\n",
       "        vertical-align: middle;\n",
       "    }\n",
       "\n",
       "    .dataframe tbody tr th {\n",
       "        vertical-align: top;\n",
       "    }\n",
       "\n",
       "    .dataframe thead th {\n",
       "        text-align: right;\n",
       "    }\n",
       "</style>\n",
       "<table border=\"1\" class=\"dataframe\">\n",
       "  <thead>\n",
       "    <tr style=\"text-align: right;\">\n",
       "      <th></th>\n",
       "      <th>obs_heating_2</th>\n",
       "      <th>id_prov_n</th>\n",
       "      <th>count_children_precovid</th>\n",
       "      <th>count_staff_salary_paid</th>\n",
       "      <th>count_present_girls</th>\n",
       "      <th>pri_difficult_learn</th>\n",
       "      <th>count_practitioners_age_5</th>\n",
       "      <th>count_practitioners_age_1</th>\n",
       "      <th>pra_class_size</th>\n",
       "      <th>count_register_year_2019</th>\n",
       "      <th>...</th>\n",
       "      <th>pri_amount_funding_dsd</th>\n",
       "      <th>quintile</th>\n",
       "      <th>child_observe_diligent</th>\n",
       "      <th>obs_lighting_1</th>\n",
       "      <th>count_staff_paid_maintenance</th>\n",
       "      <th>pri_year</th>\n",
       "      <th>obs_heating_6</th>\n",
       "      <th>count_staff_gender_male</th>\n",
       "      <th>count_register_all</th>\n",
       "      <th>pri_fees_amount_4_6</th>\n",
       "    </tr>\n",
       "  </thead>\n",
       "  <tbody>\n",
       "    <tr>\n",
       "      <th>0</th>\n",
       "      <td>NaN</td>\n",
       "      <td>1051.0</td>\n",
       "      <td>NaN</td>\n",
       "      <td>NaN</td>\n",
       "      <td>NaN</td>\n",
       "      <td>NaN</td>\n",
       "      <td>NaN</td>\n",
       "      <td>NaN</td>\n",
       "      <td>NaN</td>\n",
       "      <td>NaN</td>\n",
       "      <td>...</td>\n",
       "      <td>NaN</td>\n",
       "      <td>2.0</td>\n",
       "      <td>1</td>\n",
       "      <td>NaN</td>\n",
       "      <td>NaN</td>\n",
       "      <td>NaN</td>\n",
       "      <td>NaN</td>\n",
       "      <td>NaN</td>\n",
       "      <td>38.0</td>\n",
       "      <td>NaN</td>\n",
       "    </tr>\n",
       "    <tr>\n",
       "      <th>1</th>\n",
       "      <td>NaN</td>\n",
       "      <td>1832.0</td>\n",
       "      <td>NaN</td>\n",
       "      <td>NaN</td>\n",
       "      <td>NaN</td>\n",
       "      <td>NaN</td>\n",
       "      <td>NaN</td>\n",
       "      <td>NaN</td>\n",
       "      <td>NaN</td>\n",
       "      <td>NaN</td>\n",
       "      <td>...</td>\n",
       "      <td>NaN</td>\n",
       "      <td>4.0</td>\n",
       "      <td>1</td>\n",
       "      <td>NaN</td>\n",
       "      <td>NaN</td>\n",
       "      <td>NaN</td>\n",
       "      <td>NaN</td>\n",
       "      <td>NaN</td>\n",
       "      <td>NaN</td>\n",
       "      <td>NaN</td>\n",
       "    </tr>\n",
       "    <tr>\n",
       "      <th>2</th>\n",
       "      <td>NaN</td>\n",
       "      <td>3214.0</td>\n",
       "      <td>NaN</td>\n",
       "      <td>NaN</td>\n",
       "      <td>NaN</td>\n",
       "      <td>NaN</td>\n",
       "      <td>NaN</td>\n",
       "      <td>NaN</td>\n",
       "      <td>NaN</td>\n",
       "      <td>NaN</td>\n",
       "      <td>...</td>\n",
       "      <td>NaN</td>\n",
       "      <td>4.0</td>\n",
       "      <td>1</td>\n",
       "      <td>NaN</td>\n",
       "      <td>NaN</td>\n",
       "      <td>NaN</td>\n",
       "      <td>NaN</td>\n",
       "      <td>NaN</td>\n",
       "      <td>NaN</td>\n",
       "      <td>NaN</td>\n",
       "    </tr>\n",
       "    <tr>\n",
       "      <th>3</th>\n",
       "      <td>NaN</td>\n",
       "      <td>3214.0</td>\n",
       "      <td>38.0</td>\n",
       "      <td>4.0</td>\n",
       "      <td>NaN</td>\n",
       "      <td>NaN</td>\n",
       "      <td>NaN</td>\n",
       "      <td>NaN</td>\n",
       "      <td>NaN</td>\n",
       "      <td>NaN</td>\n",
       "      <td>...</td>\n",
       "      <td>NaN</td>\n",
       "      <td>1.0</td>\n",
       "      <td>1</td>\n",
       "      <td>NaN</td>\n",
       "      <td>NaN</td>\n",
       "      <td>2014.0</td>\n",
       "      <td>NaN</td>\n",
       "      <td>2.0</td>\n",
       "      <td>38.0</td>\n",
       "      <td>NaN</td>\n",
       "    </tr>\n",
       "    <tr>\n",
       "      <th>4</th>\n",
       "      <td>0.0</td>\n",
       "      <td>1832.0</td>\n",
       "      <td>30.0</td>\n",
       "      <td>0.0</td>\n",
       "      <td>9.0</td>\n",
       "      <td>0.0</td>\n",
       "      <td>1.0</td>\n",
       "      <td>0.0</td>\n",
       "      <td>12.0</td>\n",
       "      <td>7.0</td>\n",
       "      <td>...</td>\n",
       "      <td>NaN</td>\n",
       "      <td>1.0</td>\n",
       "      <td>3</td>\n",
       "      <td>1.0</td>\n",
       "      <td>NaN</td>\n",
       "      <td>2017.0</td>\n",
       "      <td>0.0</td>\n",
       "      <td>0.0</td>\n",
       "      <td>27.0</td>\n",
       "      <td>NaN</td>\n",
       "    </tr>\n",
       "  </tbody>\n",
       "</table>\n",
       "<p>5 rows × 158 columns</p>\n",
       "</div>"
      ],
      "text/plain": [
       "   obs_heating_2  id_prov_n  count_children_precovid  count_staff_salary_paid  \\\n",
       "0            NaN     1051.0                      NaN                      NaN   \n",
       "1            NaN     1832.0                      NaN                      NaN   \n",
       "2            NaN     3214.0                      NaN                      NaN   \n",
       "3            NaN     3214.0                     38.0                      4.0   \n",
       "4            0.0     1832.0                     30.0                      0.0   \n",
       "\n",
       "   count_present_girls  pri_difficult_learn  count_practitioners_age_5  \\\n",
       "0                  NaN                  NaN                        NaN   \n",
       "1                  NaN                  NaN                        NaN   \n",
       "2                  NaN                  NaN                        NaN   \n",
       "3                  NaN                  NaN                        NaN   \n",
       "4                  9.0                  0.0                        1.0   \n",
       "\n",
       "   count_practitioners_age_1  pra_class_size  count_register_year_2019  ...  \\\n",
       "0                        NaN             NaN                       NaN  ...   \n",
       "1                        NaN             NaN                       NaN  ...   \n",
       "2                        NaN             NaN                       NaN  ...   \n",
       "3                        NaN             NaN                       NaN  ...   \n",
       "4                        0.0            12.0                       7.0  ...   \n",
       "\n",
       "   pri_amount_funding_dsd  quintile  child_observe_diligent  obs_lighting_1  \\\n",
       "0                     NaN       2.0                       1             NaN   \n",
       "1                     NaN       4.0                       1             NaN   \n",
       "2                     NaN       4.0                       1             NaN   \n",
       "3                     NaN       1.0                       1             NaN   \n",
       "4                     NaN       1.0                       3             1.0   \n",
       "\n",
       "   count_staff_paid_maintenance  pri_year  obs_heating_6  \\\n",
       "0                           NaN       NaN            NaN   \n",
       "1                           NaN       NaN            NaN   \n",
       "2                           NaN       NaN            NaN   \n",
       "3                           NaN    2014.0            NaN   \n",
       "4                           NaN    2017.0            0.0   \n",
       "\n",
       "   count_staff_gender_male  count_register_all  pri_fees_amount_4_6  \n",
       "0                      NaN                38.0                  NaN  \n",
       "1                      NaN                 NaN                  NaN  \n",
       "2                      NaN                 NaN                  NaN  \n",
       "3                      2.0                38.0                  NaN  \n",
       "4                      0.0                27.0                  NaN  \n",
       "\n",
       "[5 rows x 158 columns]"
      ]
     },
     "execution_count": 25,
     "metadata": {},
     "output_type": "execute_result"
    }
   ],
   "source": [
    "X.head()"
   ]
  },
  {
   "cell_type": "markdown",
   "id": "99b258cf-43d6-49a4-8ae4-643e815cf46f",
   "metadata": {},
   "source": [
    "# Capturing NaN per row and making a new feature"
   ]
  },
  {
   "cell_type": "code",
   "execution_count": 26,
   "id": "e3c4d5d8-1651-4f90-a35c-d6d67d48ae06",
   "metadata": {},
   "outputs": [],
   "source": [
    "def feature_engineering(df):\n",
    "    df[\"NaN_row\"] = df.isna().sum(axis=1)\n",
    "    df[\"std\"] = df.std(axis=1)\n",
    "    return df\n",
    "\n",
    "\n",
    "X = feature_engineering(X)\n",
    "test_data = feature_engineering(test_data)"
   ]
  },
  {
   "cell_type": "markdown",
   "id": "995568b9-7be3-4c41-9838-f21711c92a03",
   "metadata": {},
   "source": [
    "# Filling missing values"
   ]
  },
  {
   "cell_type": "code",
   "execution_count": 27,
   "id": "128b62cc-ea5f-4873-9ca1-598079110c55",
   "metadata": {},
   "outputs": [],
   "source": [
    "pipeline = Pipeline(\n",
    "    [\n",
    "        (\"impute\", SimpleImputer()),\n",
    "        (\"scale\", MinMaxScaler())\n",
    "        # ('quantiletransform', QuantileTransformer(random_state=seed))\n",
    "    ]\n",
    ")\n",
    "\n",
    "X = pd.DataFrame(columns=X.columns, data=pipeline.fit_transform(X))\n",
    "test_data = pd.DataFrame(columns=test_data.columns, data=pipeline.transform(test_data))"
   ]
  },
  {
   "cell_type": "code",
   "execution_count": 28,
   "id": "e272383d-3087-4874-aac6-0ea3f01e0b6c",
   "metadata": {},
   "outputs": [
    {
     "data": {
      "text/html": [
       "<div>\n",
       "<style scoped>\n",
       "    .dataframe tbody tr th:only-of-type {\n",
       "        vertical-align: middle;\n",
       "    }\n",
       "\n",
       "    .dataframe tbody tr th {\n",
       "        vertical-align: top;\n",
       "    }\n",
       "\n",
       "    .dataframe thead th {\n",
       "        text-align: right;\n",
       "    }\n",
       "</style>\n",
       "<table border=\"1\" class=\"dataframe\">\n",
       "  <thead>\n",
       "    <tr style=\"text-align: right;\">\n",
       "      <th></th>\n",
       "      <th>obs_heating_2</th>\n",
       "      <th>id_prov_n</th>\n",
       "      <th>count_children_precovid</th>\n",
       "      <th>count_staff_salary_paid</th>\n",
       "      <th>count_present_girls</th>\n",
       "      <th>pri_difficult_learn</th>\n",
       "      <th>count_practitioners_age_5</th>\n",
       "      <th>count_practitioners_age_1</th>\n",
       "      <th>pra_class_size</th>\n",
       "      <th>count_register_year_2019</th>\n",
       "      <th>...</th>\n",
       "      <th>child_observe_diligent</th>\n",
       "      <th>obs_lighting_1</th>\n",
       "      <th>count_staff_paid_maintenance</th>\n",
       "      <th>pri_year</th>\n",
       "      <th>obs_heating_6</th>\n",
       "      <th>count_staff_gender_male</th>\n",
       "      <th>count_register_all</th>\n",
       "      <th>pri_fees_amount_4_6</th>\n",
       "      <th>NaN_row</th>\n",
       "      <th>std</th>\n",
       "    </tr>\n",
       "  </thead>\n",
       "  <tbody>\n",
       "    <tr>\n",
       "      <th>0</th>\n",
       "      <td>0.643078</td>\n",
       "      <td>0.327007</td>\n",
       "      <td>0.225392</td>\n",
       "      <td>0.148433</td>\n",
       "      <td>0.168898</td>\n",
       "      <td>0.033976</td>\n",
       "      <td>0.078457</td>\n",
       "      <td>0.120188</td>\n",
       "      <td>0.308058</td>\n",
       "      <td>0.083479</td>\n",
       "      <td>...</td>\n",
       "      <td>0.333333</td>\n",
       "      <td>0.110865</td>\n",
       "      <td>0.191033</td>\n",
       "      <td>0.776840</td>\n",
       "      <td>0.026095</td>\n",
       "      <td>0.075362</td>\n",
       "      <td>0.129693</td>\n",
       "      <td>0.14619</td>\n",
       "      <td>0.896552</td>\n",
       "      <td>0.825559</td>\n",
       "    </tr>\n",
       "    <tr>\n",
       "      <th>1</th>\n",
       "      <td>0.643078</td>\n",
       "      <td>0.570006</td>\n",
       "      <td>0.225392</td>\n",
       "      <td>0.148433</td>\n",
       "      <td>0.168898</td>\n",
       "      <td>0.033976</td>\n",
       "      <td>0.078457</td>\n",
       "      <td>0.120188</td>\n",
       "      <td>0.308058</td>\n",
       "      <td>0.083479</td>\n",
       "      <td>...</td>\n",
       "      <td>0.333333</td>\n",
       "      <td>0.110865</td>\n",
       "      <td>0.191033</td>\n",
       "      <td>0.776840</td>\n",
       "      <td>0.026095</td>\n",
       "      <td>0.075362</td>\n",
       "      <td>0.196023</td>\n",
       "      <td>0.14619</td>\n",
       "      <td>0.931034</td>\n",
       "      <td>0.000009</td>\n",
       "    </tr>\n",
       "    <tr>\n",
       "      <th>2</th>\n",
       "      <td>0.643078</td>\n",
       "      <td>1.000000</td>\n",
       "      <td>0.225392</td>\n",
       "      <td>0.148433</td>\n",
       "      <td>0.168898</td>\n",
       "      <td>0.033976</td>\n",
       "      <td>0.078457</td>\n",
       "      <td>0.120188</td>\n",
       "      <td>0.308058</td>\n",
       "      <td>0.083479</td>\n",
       "      <td>...</td>\n",
       "      <td>0.333333</td>\n",
       "      <td>0.110865</td>\n",
       "      <td>0.191033</td>\n",
       "      <td>0.776840</td>\n",
       "      <td>0.026095</td>\n",
       "      <td>0.075362</td>\n",
       "      <td>0.196023</td>\n",
       "      <td>0.14619</td>\n",
       "      <td>0.834483</td>\n",
       "      <td>0.182199</td>\n",
       "    </tr>\n",
       "    <tr>\n",
       "      <th>3</th>\n",
       "      <td>0.643078</td>\n",
       "      <td>1.000000</td>\n",
       "      <td>0.126246</td>\n",
       "      <td>0.102564</td>\n",
       "      <td>0.168898</td>\n",
       "      <td>0.033976</td>\n",
       "      <td>0.078457</td>\n",
       "      <td>0.120188</td>\n",
       "      <td>0.308058</td>\n",
       "      <td>0.083479</td>\n",
       "      <td>...</td>\n",
       "      <td>0.333333</td>\n",
       "      <td>0.110865</td>\n",
       "      <td>0.191033</td>\n",
       "      <td>0.917647</td>\n",
       "      <td>0.026095</td>\n",
       "      <td>0.250000</td>\n",
       "      <td>0.129693</td>\n",
       "      <td>0.14619</td>\n",
       "      <td>0.579310</td>\n",
       "      <td>0.067352</td>\n",
       "    </tr>\n",
       "    <tr>\n",
       "      <th>4</th>\n",
       "      <td>0.000000</td>\n",
       "      <td>0.570006</td>\n",
       "      <td>0.099668</td>\n",
       "      <td>0.000000</td>\n",
       "      <td>0.075000</td>\n",
       "      <td>0.000000</td>\n",
       "      <td>0.090909</td>\n",
       "      <td>0.000000</td>\n",
       "      <td>0.116667</td>\n",
       "      <td>0.093333</td>\n",
       "      <td>...</td>\n",
       "      <td>1.000000</td>\n",
       "      <td>1.000000</td>\n",
       "      <td>0.191033</td>\n",
       "      <td>0.952941</td>\n",
       "      <td>0.000000</td>\n",
       "      <td>0.000000</td>\n",
       "      <td>0.092150</td>\n",
       "      <td>0.14619</td>\n",
       "      <td>0.082759</td>\n",
       "      <td>0.246091</td>\n",
       "    </tr>\n",
       "  </tbody>\n",
       "</table>\n",
       "<p>5 rows × 160 columns</p>\n",
       "</div>"
      ],
      "text/plain": [
       "   obs_heating_2  id_prov_n  count_children_precovid  count_staff_salary_paid  \\\n",
       "0       0.643078   0.327007                 0.225392                 0.148433   \n",
       "1       0.643078   0.570006                 0.225392                 0.148433   \n",
       "2       0.643078   1.000000                 0.225392                 0.148433   \n",
       "3       0.643078   1.000000                 0.126246                 0.102564   \n",
       "4       0.000000   0.570006                 0.099668                 0.000000   \n",
       "\n",
       "   count_present_girls  pri_difficult_learn  count_practitioners_age_5  \\\n",
       "0             0.168898             0.033976                   0.078457   \n",
       "1             0.168898             0.033976                   0.078457   \n",
       "2             0.168898             0.033976                   0.078457   \n",
       "3             0.168898             0.033976                   0.078457   \n",
       "4             0.075000             0.000000                   0.090909   \n",
       "\n",
       "   count_practitioners_age_1  pra_class_size  count_register_year_2019  ...  \\\n",
       "0                   0.120188        0.308058                  0.083479  ...   \n",
       "1                   0.120188        0.308058                  0.083479  ...   \n",
       "2                   0.120188        0.308058                  0.083479  ...   \n",
       "3                   0.120188        0.308058                  0.083479  ...   \n",
       "4                   0.000000        0.116667                  0.093333  ...   \n",
       "\n",
       "   child_observe_diligent  obs_lighting_1  count_staff_paid_maintenance  \\\n",
       "0                0.333333        0.110865                      0.191033   \n",
       "1                0.333333        0.110865                      0.191033   \n",
       "2                0.333333        0.110865                      0.191033   \n",
       "3                0.333333        0.110865                      0.191033   \n",
       "4                1.000000        1.000000                      0.191033   \n",
       "\n",
       "   pri_year  obs_heating_6  count_staff_gender_male  count_register_all  \\\n",
       "0  0.776840       0.026095                 0.075362            0.129693   \n",
       "1  0.776840       0.026095                 0.075362            0.196023   \n",
       "2  0.776840       0.026095                 0.075362            0.196023   \n",
       "3  0.917647       0.026095                 0.250000            0.129693   \n",
       "4  0.952941       0.000000                 0.000000            0.092150   \n",
       "\n",
       "   pri_fees_amount_4_6   NaN_row       std  \n",
       "0              0.14619  0.896552  0.825559  \n",
       "1              0.14619  0.931034  0.000009  \n",
       "2              0.14619  0.834483  0.182199  \n",
       "3              0.14619  0.579310  0.067352  \n",
       "4              0.14619  0.082759  0.246091  \n",
       "\n",
       "[5 rows x 160 columns]"
      ]
     },
     "execution_count": 28,
     "metadata": {},
     "output_type": "execute_result"
    }
   ],
   "source": [
    "X.head()"
   ]
  },
  {
   "cell_type": "code",
   "execution_count": 29,
   "id": "9ee2ee97-fb11-4053-af90-747f8f8edd8a",
   "metadata": {},
   "outputs": [
    {
     "data": {
      "text/plain": [
       "obs_heating_2                 0.060457\n",
       "id_prov_n                     0.067083\n",
       "count_children_precovid       0.012479\n",
       "count_staff_salary_paid       0.005256\n",
       "count_present_girls           0.003625\n",
       "                                ...   \n",
       "count_staff_qual_nqf6_9       0.004304\n",
       "count_register_year_2013      0.000490\n",
       "count_register_year_grader    0.006448\n",
       "count_toilets_adults          0.004154\n",
       "count_staff_salary_unpaid     0.008163\n",
       "Length: 110, dtype: float64"
      ]
     },
     "execution_count": 29,
     "metadata": {},
     "output_type": "execute_result"
    }
   ],
   "source": [
    "(X.var()[:-50])"
   ]
  },
  {
   "cell_type": "code",
   "execution_count": 30,
   "id": "0c7a91e9-b2a2-43de-b809-ea33126a94b8",
   "metadata": {},
   "outputs": [],
   "source": [
    "params = {\n",
    "    \"learning_rate\": 0.02,\n",
    "    # \"objective\": \"regression\",\n",
    "    \"objective\": \"poisson\",\n",
    "    \"n_estimators\": 4000,\n",
    "    \"num_leaves\": 35,\n",
    "    \"max_bin\": 240,\n",
    "    \"colsample_bytree\": 0.3,\n",
    "    \"max_depth\": 5,\n",
    "    \"min_child_samples\": 20,\n",
    "    \"random_state\": 42,\n",
    "}"
   ]
  },
  {
   "cell_type": "code",
   "execution_count": 31,
   "id": "dfd13e47-1059-41db-a8ef-6cec545344e4",
   "metadata": {},
   "outputs": [],
   "source": [
    "best_trial = {\n",
    "    \"n_estimators\": 54884,\n",
    "    \"reg_alpha\": 1.511619688143909,\n",
    "    \"reg_lambda\": 0.46134859372486536,\n",
    "    \"colsample_bytree\": 0.3,\n",
    "    \"subsample\": 1.0,\n",
    "    \"learning_rate\": 0.02,\n",
    "    \"max_depth\": 20,\n",
    "    \"num_leaves\": 16,\n",
    "    \"min_child_samples\": 21,\n",
    "    \"min_data_per_groups\": 48,\n",
    "}"
   ]
  },
  {
   "cell_type": "code",
   "execution_count": 32,
   "id": "84a8a971-ebe0-4d88-b3cc-d8918aa72cdc",
   "metadata": {},
   "outputs": [
    {
     "data": {
      "text/plain": [
       "defaultdict(collections.OrderedDict,\n",
       "            {'valid_0': OrderedDict([('rmse', 9.581407128785791),\n",
       "                          ('poisson', -140.729681442704)])})"
      ]
     },
     "execution_count": 32,
     "metadata": {},
     "output_type": "execute_result"
    }
   ],
   "source": [
    "X_train, X_test, y_train, y_test = train_test_split(\n",
    "    X, y, test_size=0.1, random_state=55\n",
    ")\n",
    "\n",
    "# Training the model with reduced columns\n",
    "lgbm = LGBMRegressor(**params)\n",
    "\n",
    "lgbm.fit(\n",
    "    X_train,\n",
    "    y_train,\n",
    "    eval_set=[(X_test, y_test)],\n",
    "    eval_metric=\"rmse\",\n",
    "    early_stopping_rounds=100,\n",
    "    verbose=False,\n",
    ")\n",
    "\n",
    "# Get score\n",
    "lgbm.best_score_"
   ]
  },
  {
   "cell_type": "code",
   "execution_count": 33,
   "id": "2a7a72c6-b2f5-48b2-b9fe-64455ab1c041",
   "metadata": {},
   "outputs": [
    {
     "data": {
      "text/plain": [
       "([], [])"
      ]
     },
     "execution_count": 33,
     "metadata": {},
     "output_type": "execute_result"
    }
   ],
   "source": [
    "get_feature_imp(lgbm, 5)"
   ]
  },
  {
   "cell_type": "code",
   "execution_count": 34,
   "id": "2905b353-2b4b-481b-b4a5-ea54571cb531",
   "metadata": {},
   "outputs": [
    {
     "data": {
      "text/html": [
       "<style>#sk-container-id-1 {color: black;background-color: white;}#sk-container-id-1 pre{padding: 0;}#sk-container-id-1 div.sk-toggleable {background-color: white;}#sk-container-id-1 label.sk-toggleable__label {cursor: pointer;display: block;width: 100%;margin-bottom: 0;padding: 0.3em;box-sizing: border-box;text-align: center;}#sk-container-id-1 label.sk-toggleable__label-arrow:before {content: \"▸\";float: left;margin-right: 0.25em;color: #696969;}#sk-container-id-1 label.sk-toggleable__label-arrow:hover:before {color: black;}#sk-container-id-1 div.sk-estimator:hover label.sk-toggleable__label-arrow:before {color: black;}#sk-container-id-1 div.sk-toggleable__content {max-height: 0;max-width: 0;overflow: hidden;text-align: left;background-color: #f0f8ff;}#sk-container-id-1 div.sk-toggleable__content pre {margin: 0.2em;color: black;border-radius: 0.25em;background-color: #f0f8ff;}#sk-container-id-1 input.sk-toggleable__control:checked~div.sk-toggleable__content {max-height: 200px;max-width: 100%;overflow: auto;}#sk-container-id-1 input.sk-toggleable__control:checked~label.sk-toggleable__label-arrow:before {content: \"▾\";}#sk-container-id-1 div.sk-estimator input.sk-toggleable__control:checked~label.sk-toggleable__label {background-color: #d4ebff;}#sk-container-id-1 div.sk-label input.sk-toggleable__control:checked~label.sk-toggleable__label {background-color: #d4ebff;}#sk-container-id-1 input.sk-hidden--visually {border: 0;clip: rect(1px 1px 1px 1px);clip: rect(1px, 1px, 1px, 1px);height: 1px;margin: -1px;overflow: hidden;padding: 0;position: absolute;width: 1px;}#sk-container-id-1 div.sk-estimator {font-family: monospace;background-color: #f0f8ff;border: 1px dotted black;border-radius: 0.25em;box-sizing: border-box;margin-bottom: 0.5em;}#sk-container-id-1 div.sk-estimator:hover {background-color: #d4ebff;}#sk-container-id-1 div.sk-parallel-item::after {content: \"\";width: 100%;border-bottom: 1px solid gray;flex-grow: 1;}#sk-container-id-1 div.sk-label:hover label.sk-toggleable__label {background-color: #d4ebff;}#sk-container-id-1 div.sk-serial::before {content: \"\";position: absolute;border-left: 1px solid gray;box-sizing: border-box;top: 0;bottom: 0;left: 50%;z-index: 0;}#sk-container-id-1 div.sk-serial {display: flex;flex-direction: column;align-items: center;background-color: white;padding-right: 0.2em;padding-left: 0.2em;position: relative;}#sk-container-id-1 div.sk-item {position: relative;z-index: 1;}#sk-container-id-1 div.sk-parallel {display: flex;align-items: stretch;justify-content: center;background-color: white;position: relative;}#sk-container-id-1 div.sk-item::before, #sk-container-id-1 div.sk-parallel-item::before {content: \"\";position: absolute;border-left: 1px solid gray;box-sizing: border-box;top: 0;bottom: 0;left: 50%;z-index: -1;}#sk-container-id-1 div.sk-parallel-item {display: flex;flex-direction: column;z-index: 1;position: relative;background-color: white;}#sk-container-id-1 div.sk-parallel-item:first-child::after {align-self: flex-end;width: 50%;}#sk-container-id-1 div.sk-parallel-item:last-child::after {align-self: flex-start;width: 50%;}#sk-container-id-1 div.sk-parallel-item:only-child::after {width: 0;}#sk-container-id-1 div.sk-dashed-wrapped {border: 1px dashed gray;margin: 0 0.4em 0.5em 0.4em;box-sizing: border-box;padding-bottom: 0.4em;background-color: white;}#sk-container-id-1 div.sk-label label {font-family: monospace;font-weight: bold;display: inline-block;line-height: 1.2em;}#sk-container-id-1 div.sk-label-container {text-align: center;}#sk-container-id-1 div.sk-container {/* jupyter's `normalize.less` sets `[hidden] { display: none; }` but bootstrap.min.css set `[hidden] { display: none !important; }` so we also need the `!important` here to be able to override the default hidden behavior on the sphinx rendered scikit-learn.org. See: https://github.com/scikit-learn/scikit-learn/issues/21755 */display: inline-block !important;position: relative;}#sk-container-id-1 div.sk-text-repr-fallback {display: none;}</style><div id=\"sk-container-id-1\" class=\"sk-top-container\"><div class=\"sk-text-repr-fallback\"><pre>LGBMRegressor(colsample_bytree=0.3, learning_rate=0.02, max_bin=240,\n",
       "              max_depth=5, n_estimators=4000, num_leaves=35,\n",
       "              objective=&#x27;poisson&#x27;, random_state=42)</pre><b>In a Jupyter environment, please rerun this cell to show the HTML representation or trust the notebook. <br />On GitHub, the HTML representation is unable to render, please try loading this page with nbviewer.org.</b></div><div class=\"sk-container\" hidden><div class=\"sk-item\"><div class=\"sk-estimator sk-toggleable\"><input class=\"sk-toggleable__control sk-hidden--visually\" id=\"sk-estimator-id-1\" type=\"checkbox\" checked><label for=\"sk-estimator-id-1\" class=\"sk-toggleable__label sk-toggleable__label-arrow\">LGBMRegressor</label><div class=\"sk-toggleable__content\"><pre>LGBMRegressor(colsample_bytree=0.3, learning_rate=0.02, max_bin=240,\n",
       "              max_depth=5, n_estimators=4000, num_leaves=35,\n",
       "              objective=&#x27;poisson&#x27;, random_state=42)</pre></div></div></div></div></div>"
      ],
      "text/plain": [
       "LGBMRegressor(colsample_bytree=0.3, learning_rate=0.02, max_bin=240,\n",
       "              max_depth=5, n_estimators=4000, num_leaves=35,\n",
       "              objective='poisson', random_state=42)"
      ]
     },
     "execution_count": 34,
     "metadata": {},
     "output_type": "execute_result"
    }
   ],
   "source": [
    "# Training the model on whole dataset\n",
    "lgbm = LGBMRegressor(**params)\n",
    "lgbm.fit(X, y)"
   ]
  },
  {
   "cell_type": "code",
   "execution_count": 35,
   "id": "51a4272b-6310-4dbb-9a66-3acfe9113771",
   "metadata": {},
   "outputs": [
    {
     "data": {
      "image/png": "[encoded data removed]",
      "text/plain": [
       "<Figure size 2000x1000 with 1 Axes>"
      ]
     },
     "metadata": {},
     "output_type": "display_data"
    }
   ],
   "source": [
    "fea_imp = pd.DataFrame({\"imp\": lgbm.feature_importances_, \"col\": X.columns})\n",
    "fea_imp = fea_imp.sort_values([\"imp\", \"col\"], ascending=True).iloc[-30:]\n",
    "_ = fea_imp.plot(kind=\"barh\", x=\"col\", y=\"imp\", figsize=(20, 10))\n",
    "plt.savefig(\"catboost_feature_importance.png\")"
   ]
  },
  {
   "cell_type": "code",
   "execution_count": 36,
   "id": "ed570341-2a76-4955-8d9f-cd85400d39ca",
   "metadata": {},
   "outputs": [
    {
     "data": {
      "text/plain": [
       "array([61.28514863, 47.947684  , 48.70122538, ..., 42.97650099,\n",
       "       38.61036877, 43.66461582])"
      ]
     },
     "execution_count": 36,
     "metadata": {},
     "output_type": "execute_result"
    }
   ],
   "source": [
    "# Prediction on test set\n",
    "# test_data = df_test[X.columns.to_list()]\n",
    "\n",
    "preds = lgbm.predict(test_data)\n",
    "preds"
   ]
  },
  {
   "cell_type": "code",
   "execution_count": 37,
   "id": "d6770e54-4589-48e2-9e19-16510fea866d",
   "metadata": {},
   "outputs": [],
   "source": [
    "# Creating a submissionfile\n",
    "sub_file = pd.read_csv(\"GBRSubmission1_score_10.63.csv\")\n",
    "sub_file.target = preds\n",
    "sub_file.to_csv(\"LGBMSubmission.csv\", index=False)"
   ]
  },
  {
   "cell_type": "code",
   "execution_count": 38,
   "id": "be4d1350-2f83-48cb-81b4-727016ad8ad5",
   "metadata": {},
   "outputs": [
    {
     "ename": "NameError",
     "evalue": "name 'kjkjkd' is not defined",
     "output_type": "error",
     "traceback": [
      "\u001b[0;31m---------------------------------------------------------------------------\u001b[0m",
      "\u001b[0;31mNameError\u001b[0m                                 Traceback (most recent call last)",
      "Cell \u001b[0;32mIn[38], line 1\u001b[0m\n\u001b[0;32m----> 1\u001b[0m \u001b[43mkjkjkd\u001b[49m\n",
      "\u001b[0;31mNameError\u001b[0m: name 'kjkjkd' is not defined"
     ]
    }
   ],
   "source": [
    "kjkjkd"
   ]
  },
  {
   "cell_type": "code",
   "execution_count": null,
   "id": "49b43d37-0c30-4bcd-8d42-f362f1fa527b",
   "metadata": {},
   "outputs": [],
   "source": [
    "import optuna\n",
    "from sklearn.model_selection import train_test_split\n",
    "\n",
    "\n",
    "def objective(trial, data=X, target=y):\n",
    "\n",
    "    train_x, test_x, train_y, test_y = train_test_split(\n",
    "        data, target, test_size=0.2, random_state=42\n",
    "    )\n",
    "    param = {\n",
    "        \"metric\": \"rmse\",\n",
    "        \"random_state\": 42,\n",
    "        # \"n_estimators\": 20000,\n",
    "        \"n_estimators\": trial.suggest_int(\"n_estimators\", 100, 100_000),\n",
    "        \"reg_alpha\": trial.suggest_loguniform(\"reg_alpha\", 1e-3, 10.0),\n",
    "        \"reg_lambda\": trial.suggest_loguniform(\"reg_lambda\", 1e-3, 10.0),\n",
    "        \"colsample_bytree\": trial.suggest_categorical(\n",
    "            \"colsample_bytree\", [0.3, 0.4, 0.5, 0.6, 0.7, 0.8, 0.9, 1.0]\n",
    "        ),\n",
    "        \"subsample\": trial.suggest_categorical(\n",
    "            \"subsample\", [0.4, 0.5, 0.6, 0.7, 0.8, 1.0]\n",
    "        ),\n",
    "        \"learning_rate\": trial.suggest_categorical(\n",
    "            \"learning_rate\", [0.001, 0.008, 0.01, 0.014, 0.017, 0.02, 0.03, 0.04, 0.05]\n",
    "        ),\n",
    "        \"max_depth\": trial.suggest_categorical(\n",
    "            \"max_depth\",\n",
    "            [\n",
    "                6,\n",
    "                7,\n",
    "                8,\n",
    "                8,\n",
    "                10,\n",
    "                11,\n",
    "                13,\n",
    "                14,\n",
    "                15,\n",
    "                20,\n",
    "            ],\n",
    "        ),\n",
    "        \"num_leaves\": trial.suggest_int(\"num_leaves\", 2, 1000),\n",
    "        \"min_child_samples\": trial.suggest_int(\"min_child_samples\", 1, 300),\n",
    "        \"cat_smooth\": trial.suggest_int(\"min_data_per_groups\", 1, 100),\n",
    "    }\n",
    "    model = LGBMRegressor(**param)\n",
    "\n",
    "    model.fit(\n",
    "        train_x,\n",
    "        train_y,\n",
    "        eval_set=[(test_x, test_y)],\n",
    "        early_stopping_rounds=100,\n",
    "        verbose=False,\n",
    "    )\n",
    "\n",
    "    preds = model.predict(test_x)\n",
    "\n",
    "    rmse = mean_squared_error(test_y, preds, squared=False)\n",
    "\n",
    "    return rmse\n",
    "\n",
    "\n",
    "study = optuna.create_study(direction=\"minimize\")\n",
    "study.optimize(objective, n_trials=50)\n",
    "print(\"Number of finished trials:\", len(study.trials))\n",
    "print(\"Best trial:\", study.best_trial.params)"
   ]
  },
  {
   "cell_type": "code",
   "execution_count": null,
   "id": "84a7e2bc-e479-46aa-b1fe-f8b09a620aa0",
   "metadata": {},
   "outputs": [],
   "source": []
  }
 ],
 "metadata": {
  "kernelspec": {
   "display_name": "Python 3 (ipykernel)",
   "language": "python",
   "name": "python3"
  },
  "language_info": {
   "codemirror_mode": {
    "name": "ipython",
    "version": 3
   },
   "file_extension": ".py",
   "mimetype": "text/x-python",
   "name": "python",
   "nbconvert_exporter": "python",
   "pygments_lexer": "ipython3",
   "version": "3.9.12"
  }
 },
 "nbformat": 4,
 "nbformat_minor": 5
}
