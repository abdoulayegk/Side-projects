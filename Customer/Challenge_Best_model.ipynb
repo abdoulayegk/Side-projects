{
 "cells": [
  {
   "cell_type": "code",
   "execution_count": 1,
   "id": "3fa2086c-3c79-4629-96a1-a4d2c8a3d9bd",
   "metadata": {},
   "outputs": [
    {
     "name": "stderr",
     "output_type": "stream",
     "text": [
      "/home/balde/miniconda3/lib/python3.9/site-packages/xgboost/compat.py:36: FutureWarning: pandas.Int64Index is deprecated and will be removed from pandas in a future version. Use pandas.Index with the appropriate dtype instead.\n",
      "  from pandas import MultiIndex, Int64Index\n"
     ]
    }
   ],
   "source": [
    "# libraries\n",
    "import os\n",
    "import time\n",
    "\n",
    "import lightgbm as lgb\n",
    "import matplotlib.pyplot as plt\n",
    "import numpy as np\n",
    "import pandas as pd\n",
    "\n",
    "%matplotlib inline\n",
    "import seaborn as sns\n",
    "import sklearn\n",
    "from catboost import CatBoostRegressor\n",
    "from lightgbm import LGBMRegressor\n",
    "from sklearn import metrics\n",
    "from sklearn.cluster import KMeans\n",
    "from sklearn.model_selection import GroupKFold, KFold, RepeatedKFold\n",
    "from xgboost import XGBRegressor"
   ]
  },
  {
   "cell_type": "code",
   "execution_count": 2,
   "id": "daa0165c-ae5c-4a98-aeba-316cc7aa22ee",
   "metadata": {},
   "outputs": [],
   "source": [
    "train = pd.read_csv(\"Train.csv\")\n",
    "test = pd.read_csv(\"Test.csv\")\n",
    "emp = pd.read_csv(\"employment_status.csv\")\n",
    "ss = pd.read_csv(\"SampleSubmission.csv\")\n",
    "income = pd.read_csv(\"income_group.csv\")\n",
    "custom = pd.read_csv(\"customer.csv\")\n",
    "transaction = pd.read_csv(\"transactions.csv\")"
   ]
  },
  {
   "cell_type": "code",
   "execution_count": 3,
   "id": "51212b0f-5921-4ac0-963e-b04b8e4a6732",
   "metadata": {},
   "outputs": [
    {
     "data": {
      "text/html": [
       "<div>\n",
       "<style scoped>\n",
       "    .dataframe tbody tr th:only-of-type {\n",
       "        vertical-align: middle;\n",
       "    }\n",
       "\n",
       "    .dataframe tbody tr th {\n",
       "        vertical-align: top;\n",
       "    }\n",
       "\n",
       "    .dataframe thead th {\n",
       "        text-align: right;\n",
       "    }\n",
       "</style>\n",
       "<table border=\"1\" class=\"dataframe\">\n",
       "  <thead>\n",
       "    <tr style=\"text-align: right;\">\n",
       "      <th></th>\n",
       "      <th>CUSTOMER_IDENTIFIER</th>\n",
       "      <th>RECORD_DATE</th>\n",
       "      <th>DECLARED_NET_INCOME</th>\n",
       "    </tr>\n",
       "  </thead>\n",
       "  <tbody>\n",
       "    <tr>\n",
       "      <th>0</th>\n",
       "      <td>ID_18018255686b76dbc534d0edf0f7b4e9bb6cc3cde15...</td>\n",
       "      <td>2022-07</td>\n",
       "      <td>13,500</td>\n",
       "    </tr>\n",
       "    <tr>\n",
       "      <th>1</th>\n",
       "      <td>ID_782a96eb5b14b4cedc7df05389c6e4751c087026513...</td>\n",
       "      <td>2022-04</td>\n",
       "      <td>9,000</td>\n",
       "    </tr>\n",
       "    <tr>\n",
       "      <th>2</th>\n",
       "      <td>ID_fbf3035c5b8e7da652269551c78d634a48bca823076...</td>\n",
       "      <td>2022-06</td>\n",
       "      <td>8,000</td>\n",
       "    </tr>\n",
       "    <tr>\n",
       "      <th>3</th>\n",
       "      <td>ID_a0081832892639d933929e24ce46203ea417e17ecbe...</td>\n",
       "      <td>2022-08</td>\n",
       "      <td>7,000</td>\n",
       "    </tr>\n",
       "    <tr>\n",
       "      <th>4</th>\n",
       "      <td>ID_86ee557b2a4506ac40331d40370a40e37e0b95b9f23...</td>\n",
       "      <td>2022-07</td>\n",
       "      <td>10,400</td>\n",
       "    </tr>\n",
       "  </tbody>\n",
       "</table>\n",
       "</div>"
      ],
      "text/plain": [
       "                                 CUSTOMER_IDENTIFIER RECORD_DATE  \\\n",
       "0  ID_18018255686b76dbc534d0edf0f7b4e9bb6cc3cde15...     2022-07   \n",
       "1  ID_782a96eb5b14b4cedc7df05389c6e4751c087026513...     2022-04   \n",
       "2  ID_fbf3035c5b8e7da652269551c78d634a48bca823076...     2022-06   \n",
       "3  ID_a0081832892639d933929e24ce46203ea417e17ecbe...     2022-08   \n",
       "4  ID_86ee557b2a4506ac40331d40370a40e37e0b95b9f23...     2022-07   \n",
       "\n",
       "  DECLARED_NET_INCOME  \n",
       "0              13,500  \n",
       "1               9,000  \n",
       "2               8,000  \n",
       "3               7,000  \n",
       "4              10,400  "
      ]
     },
     "execution_count": 3,
     "metadata": {},
     "output_type": "execute_result"
    }
   ],
   "source": [
    "train.head()"
   ]
  },
  {
   "cell_type": "code",
   "execution_count": 4,
   "id": "27a3df3d-9799-424a-bf4e-128e3d1da61d",
   "metadata": {},
   "outputs": [
    {
     "data": {
      "text/html": [
       "<div>\n",
       "<style scoped>\n",
       "    .dataframe tbody tr th:only-of-type {\n",
       "        vertical-align: middle;\n",
       "    }\n",
       "\n",
       "    .dataframe tbody tr th {\n",
       "        vertical-align: top;\n",
       "    }\n",
       "\n",
       "    .dataframe thead th {\n",
       "        text-align: right;\n",
       "    }\n",
       "</style>\n",
       "<table border=\"1\" class=\"dataframe\">\n",
       "  <thead>\n",
       "    <tr style=\"text-align: right;\">\n",
       "      <th></th>\n",
       "      <th>CUSTOMER_IDENTIFIER</th>\n",
       "      <th>RECORD_DATE</th>\n",
       "    </tr>\n",
       "  </thead>\n",
       "  <tbody>\n",
       "    <tr>\n",
       "      <th>0</th>\n",
       "      <td>ID_005e5c1206b2d9857432a381df19989353c3e1b6b0d...</td>\n",
       "      <td>2022-06</td>\n",
       "    </tr>\n",
       "    <tr>\n",
       "      <th>1</th>\n",
       "      <td>ID_c28fb2d93c7b4be50a57aa7ebbe31a6bae33a18e1c6...</td>\n",
       "      <td>2022-01</td>\n",
       "    </tr>\n",
       "    <tr>\n",
       "      <th>2</th>\n",
       "      <td>ID_94bbc5ce0228e1d25179755dacdf9fc7359a5bbc74a...</td>\n",
       "      <td>2022-05</td>\n",
       "    </tr>\n",
       "    <tr>\n",
       "      <th>3</th>\n",
       "      <td>ID_41ccd69246cea3c1b4d9349f21d7af2dd092cf7eed4...</td>\n",
       "      <td>2022-05</td>\n",
       "    </tr>\n",
       "    <tr>\n",
       "      <th>4</th>\n",
       "      <td>ID_09e29a91e9369a11075b1fd7fd209f3a0c96fb18432...</td>\n",
       "      <td>2022-03</td>\n",
       "    </tr>\n",
       "  </tbody>\n",
       "</table>\n",
       "</div>"
      ],
      "text/plain": [
       "                                 CUSTOMER_IDENTIFIER RECORD_DATE\n",
       "0  ID_005e5c1206b2d9857432a381df19989353c3e1b6b0d...     2022-06\n",
       "1  ID_c28fb2d93c7b4be50a57aa7ebbe31a6bae33a18e1c6...     2022-01\n",
       "2  ID_94bbc5ce0228e1d25179755dacdf9fc7359a5bbc74a...     2022-05\n",
       "3  ID_41ccd69246cea3c1b4d9349f21d7af2dd092cf7eed4...     2022-05\n",
       "4  ID_09e29a91e9369a11075b1fd7fd209f3a0c96fb18432...     2022-03"
      ]
     },
     "execution_count": 4,
     "metadata": {},
     "output_type": "execute_result"
    }
   ],
   "source": [
    "test.head()"
   ]
  },
  {
   "cell_type": "code",
   "execution_count": 5,
   "id": "e217eee2-fbe6-4843-a921-c5b8f8c67c5a",
   "metadata": {},
   "outputs": [
    {
     "data": {
      "text/html": [
       "<div>\n",
       "<style scoped>\n",
       "    .dataframe tbody tr th:only-of-type {\n",
       "        vertical-align: middle;\n",
       "    }\n",
       "\n",
       "    .dataframe tbody tr th {\n",
       "        vertical-align: top;\n",
       "    }\n",
       "\n",
       "    .dataframe thead th {\n",
       "        text-align: right;\n",
       "    }\n",
       "</style>\n",
       "<table border=\"1\" class=\"dataframe\">\n",
       "  <thead>\n",
       "    <tr style=\"text-align: right;\">\n",
       "      <th></th>\n",
       "      <th>TRANSACTION_DESCRIPTION</th>\n",
       "      <th>CUSTOMER_IDENTIFIER</th>\n",
       "      <th>RECORD_DATE</th>\n",
       "      <th>ACCOUNT_TYPE_CODE</th>\n",
       "      <th>ACCOUNT_BALANCE</th>\n",
       "      <th>AMT</th>\n",
       "      <th>EVENT_NUMBER</th>\n",
       "      <th>PRODUCT_CODE</th>\n",
       "      <th>CHANNEL</th>\n",
       "      <th>ACCOUNT_NUMBER</th>\n",
       "      <th>TRANSACTION_REFERENCE</th>\n",
       "    </tr>\n",
       "  </thead>\n",
       "  <tbody>\n",
       "    <tr>\n",
       "      <th>0</th>\n",
       "      <td>NaN</td>\n",
       "      <td>ID_017ba29a4d371608fad8313ff1d46c8bb42ef830ee0...</td>\n",
       "      <td>2022-07-13 00:00:00+02:00</td>\n",
       "      <td>9317537c2329262b5e19d3e29d23422558e519ca8ff0a8...</td>\n",
       "      <td>1857.56</td>\n",
       "      <td>1000.00</td>\n",
       "      <td>11785</td>\n",
       "      <td>SAVE</td>\n",
       "      <td>internet</td>\n",
       "      <td>89fe98c0e6ccddcf9a0368507f02773693e01dfeb6911c...</td>\n",
       "      <td>NaN</td>\n",
       "    </tr>\n",
       "    <tr>\n",
       "      <th>1</th>\n",
       "      <td>NaN</td>\n",
       "      <td>ID_017ba29a4d371608fad8313ff1d46c8bb42ef830ee0...</td>\n",
       "      <td>2022-02-26 00:00:00+02:00</td>\n",
       "      <td>9317537c2329262b5e19d3e29d23422558e519ca8ff0a8...</td>\n",
       "      <td>8843.46</td>\n",
       "      <td>-2000.00</td>\n",
       "      <td>11348</td>\n",
       "      <td>SAVE</td>\n",
       "      <td>internet</td>\n",
       "      <td>89fe98c0e6ccddcf9a0368507f02773693e01dfeb6911c...</td>\n",
       "      <td>NaN</td>\n",
       "    </tr>\n",
       "    <tr>\n",
       "      <th>2</th>\n",
       "      <td>POS PURCHASE</td>\n",
       "      <td>ID_017ba29a4d371608fad8313ff1d46c8bb42ef830ee0...</td>\n",
       "      <td>2022-07-26 00:00:00+02:00</td>\n",
       "      <td>e92177da406abc0e0a5bce83e853dbdb4e792af521a0ae...</td>\n",
       "      <td>23.82</td>\n",
       "      <td>-199.98</td>\n",
       "      <td>148</td>\n",
       "      <td>CHEQ</td>\n",
       "      <td>system</td>\n",
       "      <td>89fe98c0e6ccddcf9a0368507f02773693e01dfeb6911c...</td>\n",
       "      <td>04ae923a903fb07b5c846eb61eda25c4766800f02c2e09...</td>\n",
       "    </tr>\n",
       "    <tr>\n",
       "      <th>3</th>\n",
       "      <td>NaN</td>\n",
       "      <td>ID_017ba29a4d371608fad8313ff1d46c8bb42ef830ee0...</td>\n",
       "      <td>2022-03-27 00:00:00+02:00</td>\n",
       "      <td>9317537c2329262b5e19d3e29d23422558e519ca8ff0a8...</td>\n",
       "      <td>198.11</td>\n",
       "      <td>-79.39</td>\n",
       "      <td>11419</td>\n",
       "      <td>SAVE</td>\n",
       "      <td>system</td>\n",
       "      <td>89fe98c0e6ccddcf9a0368507f02773693e01dfeb6911c...</td>\n",
       "      <td>NaN</td>\n",
       "    </tr>\n",
       "    <tr>\n",
       "      <th>4</th>\n",
       "      <td>NaN</td>\n",
       "      <td>ID_017ba29a4d371608fad8313ff1d46c8bb42ef830ee0...</td>\n",
       "      <td>2022-05-06 00:00:00+02:00</td>\n",
       "      <td>9317537c2329262b5e19d3e29d23422558e519ca8ff0a8...</td>\n",
       "      <td>13631.60</td>\n",
       "      <td>-200.00</td>\n",
       "      <td>11528</td>\n",
       "      <td>SAVE</td>\n",
       "      <td>atm</td>\n",
       "      <td>89fe98c0e6ccddcf9a0368507f02773693e01dfeb6911c...</td>\n",
       "      <td>NaN</td>\n",
       "    </tr>\n",
       "  </tbody>\n",
       "</table>\n",
       "</div>"
      ],
      "text/plain": [
       "  TRANSACTION_DESCRIPTION                                CUSTOMER_IDENTIFIER  \\\n",
       "0                     NaN  ID_017ba29a4d371608fad8313ff1d46c8bb42ef830ee0...   \n",
       "1                     NaN  ID_017ba29a4d371608fad8313ff1d46c8bb42ef830ee0...   \n",
       "2            POS PURCHASE  ID_017ba29a4d371608fad8313ff1d46c8bb42ef830ee0...   \n",
       "3                     NaN  ID_017ba29a4d371608fad8313ff1d46c8bb42ef830ee0...   \n",
       "4                     NaN  ID_017ba29a4d371608fad8313ff1d46c8bb42ef830ee0...   \n",
       "\n",
       "                 RECORD_DATE  \\\n",
       "0  2022-07-13 00:00:00+02:00   \n",
       "1  2022-02-26 00:00:00+02:00   \n",
       "2  2022-07-26 00:00:00+02:00   \n",
       "3  2022-03-27 00:00:00+02:00   \n",
       "4  2022-05-06 00:00:00+02:00   \n",
       "\n",
       "                                   ACCOUNT_TYPE_CODE  ACCOUNT_BALANCE  \\\n",
       "0  9317537c2329262b5e19d3e29d23422558e519ca8ff0a8...          1857.56   \n",
       "1  9317537c2329262b5e19d3e29d23422558e519ca8ff0a8...          8843.46   \n",
       "2  e92177da406abc0e0a5bce83e853dbdb4e792af521a0ae...            23.82   \n",
       "3  9317537c2329262b5e19d3e29d23422558e519ca8ff0a8...           198.11   \n",
       "4  9317537c2329262b5e19d3e29d23422558e519ca8ff0a8...         13631.60   \n",
       "\n",
       "       AMT  EVENT_NUMBER PRODUCT_CODE   CHANNEL  \\\n",
       "0  1000.00         11785         SAVE  internet   \n",
       "1 -2000.00         11348         SAVE  internet   \n",
       "2  -199.98           148         CHEQ    system   \n",
       "3   -79.39         11419         SAVE    system   \n",
       "4  -200.00         11528         SAVE       atm   \n",
       "\n",
       "                                      ACCOUNT_NUMBER  \\\n",
       "0  89fe98c0e6ccddcf9a0368507f02773693e01dfeb6911c...   \n",
       "1  89fe98c0e6ccddcf9a0368507f02773693e01dfeb6911c...   \n",
       "2  89fe98c0e6ccddcf9a0368507f02773693e01dfeb6911c...   \n",
       "3  89fe98c0e6ccddcf9a0368507f02773693e01dfeb6911c...   \n",
       "4  89fe98c0e6ccddcf9a0368507f02773693e01dfeb6911c...   \n",
       "\n",
       "                               TRANSACTION_REFERENCE  \n",
       "0                                                NaN  \n",
       "1                                                NaN  \n",
       "2  04ae923a903fb07b5c846eb61eda25c4766800f02c2e09...  \n",
       "3                                                NaN  \n",
       "4                                                NaN  "
      ]
     },
     "execution_count": 5,
     "metadata": {},
     "output_type": "execute_result"
    }
   ],
   "source": [
    "transaction.head()"
   ]
  },
  {
   "cell_type": "code",
   "execution_count": 6,
   "id": "bb70a43e-8b48-4b36-9be9-ec2ee2b11198",
   "metadata": {},
   "outputs": [
    {
     "data": {
      "text/plain": [
       "((847544, 11), (3600, 3))"
      ]
     },
     "execution_count": 6,
     "metadata": {},
     "output_type": "execute_result"
    }
   ],
   "source": [
    "transaction.shape, train.shape"
   ]
  },
  {
   "cell_type": "code",
   "execution_count": 7,
   "id": "f0b3f69f-2fe0-4b01-8259-6996fccb234d",
   "metadata": {},
   "outputs": [
    {
     "data": {
      "text/html": [
       "<div>\n",
       "<style scoped>\n",
       "    .dataframe tbody tr th:only-of-type {\n",
       "        vertical-align: middle;\n",
       "    }\n",
       "\n",
       "    .dataframe tbody tr th {\n",
       "        vertical-align: top;\n",
       "    }\n",
       "\n",
       "    .dataframe thead th {\n",
       "        text-align: right;\n",
       "    }\n",
       "</style>\n",
       "<table border=\"1\" class=\"dataframe\">\n",
       "  <thead>\n",
       "    <tr style=\"text-align: right;\">\n",
       "      <th></th>\n",
       "      <th>income_group_code</th>\n",
       "      <th>income_group_desc</th>\n",
       "    </tr>\n",
       "  </thead>\n",
       "  <tbody>\n",
       "    <tr>\n",
       "      <th>0</th>\n",
       "      <td>0</td>\n",
       "      <td>NOT SUPPLIED</td>\n",
       "    </tr>\n",
       "    <tr>\n",
       "      <th>1</th>\n",
       "      <td>1</td>\n",
       "      <td>R 0 - 499</td>\n",
       "    </tr>\n",
       "    <tr>\n",
       "      <th>2</th>\n",
       "      <td>2</td>\n",
       "      <td>R500 - 999</td>\n",
       "    </tr>\n",
       "    <tr>\n",
       "      <th>3</th>\n",
       "      <td>3</td>\n",
       "      <td>R1,000 - 1,999</td>\n",
       "    </tr>\n",
       "    <tr>\n",
       "      <th>4</th>\n",
       "      <td>4</td>\n",
       "      <td>R2,000 - 2,999</td>\n",
       "    </tr>\n",
       "  </tbody>\n",
       "</table>\n",
       "</div>"
      ],
      "text/plain": [
       "   income_group_code income_group_desc\n",
       "0                  0      NOT SUPPLIED\n",
       "1                  1         R 0 - 499\n",
       "2                  2        R500 - 999\n",
       "3                  3    R1,000 - 1,999\n",
       "4                  4    R2,000 - 2,999"
      ]
     },
     "execution_count": 7,
     "metadata": {},
     "output_type": "execute_result"
    }
   ],
   "source": [
    "income.head()"
   ]
  },
  {
   "cell_type": "code",
   "execution_count": 8,
   "id": "540c98a7-6384-491c-95e9-9f71e7a3036f",
   "metadata": {},
   "outputs": [
    {
     "data": {
      "text/plain": [
       "(22, 2)"
      ]
     },
     "execution_count": 8,
     "metadata": {},
     "output_type": "execute_result"
    }
   ],
   "source": [
    "income.shape"
   ]
  },
  {
   "cell_type": "code",
   "execution_count": 9,
   "id": "24c71d35-9a9f-4b7d-ae23-a6d1b5251273",
   "metadata": {},
   "outputs": [
    {
     "data": {
      "text/html": [
       "<div>\n",
       "<style scoped>\n",
       "    .dataframe tbody tr th:only-of-type {\n",
       "        vertical-align: middle;\n",
       "    }\n",
       "\n",
       "    .dataframe tbody tr th {\n",
       "        vertical-align: top;\n",
       "    }\n",
       "\n",
       "    .dataframe thead th {\n",
       "        text-align: right;\n",
       "    }\n",
       "</style>\n",
       "<table border=\"1\" class=\"dataframe\">\n",
       "  <thead>\n",
       "    <tr style=\"text-align: right;\">\n",
       "      <th></th>\n",
       "      <th>CUSTOMER_IDENTIFIER</th>\n",
       "      <th>RECORD_DATE</th>\n",
       "    </tr>\n",
       "  </thead>\n",
       "  <tbody>\n",
       "    <tr>\n",
       "      <th>0</th>\n",
       "      <td>ID_005e5c1206b2d9857432a381df19989353c3e1b6b0d...</td>\n",
       "      <td>2022-06</td>\n",
       "    </tr>\n",
       "    <tr>\n",
       "      <th>1</th>\n",
       "      <td>ID_c28fb2d93c7b4be50a57aa7ebbe31a6bae33a18e1c6...</td>\n",
       "      <td>2022-01</td>\n",
       "    </tr>\n",
       "    <tr>\n",
       "      <th>2</th>\n",
       "      <td>ID_94bbc5ce0228e1d25179755dacdf9fc7359a5bbc74a...</td>\n",
       "      <td>2022-05</td>\n",
       "    </tr>\n",
       "    <tr>\n",
       "      <th>3</th>\n",
       "      <td>ID_41ccd69246cea3c1b4d9349f21d7af2dd092cf7eed4...</td>\n",
       "      <td>2022-05</td>\n",
       "    </tr>\n",
       "    <tr>\n",
       "      <th>4</th>\n",
       "      <td>ID_09e29a91e9369a11075b1fd7fd209f3a0c96fb18432...</td>\n",
       "      <td>2022-03</td>\n",
       "    </tr>\n",
       "  </tbody>\n",
       "</table>\n",
       "</div>"
      ],
      "text/plain": [
       "                                 CUSTOMER_IDENTIFIER RECORD_DATE\n",
       "0  ID_005e5c1206b2d9857432a381df19989353c3e1b6b0d...     2022-06\n",
       "1  ID_c28fb2d93c7b4be50a57aa7ebbe31a6bae33a18e1c6...     2022-01\n",
       "2  ID_94bbc5ce0228e1d25179755dacdf9fc7359a5bbc74a...     2022-05\n",
       "3  ID_41ccd69246cea3c1b4d9349f21d7af2dd092cf7eed4...     2022-05\n",
       "4  ID_09e29a91e9369a11075b1fd7fd209f3a0c96fb18432...     2022-03"
      ]
     },
     "execution_count": 9,
     "metadata": {},
     "output_type": "execute_result"
    }
   ],
   "source": [
    "test.head()"
   ]
  },
  {
   "cell_type": "markdown",
   "id": "4d65d669-d66e-409b-a1e6-4fb4fd42d708",
   "metadata": {
    "tags": []
   },
   "source": [
    "## Here we are going to combine train and test set to better proprocess it.\n",
    "\n",
    "here are few thing to keep in Mind:\n",
    "    1. Data leakage is something that occurs when we concatinate train and test while separatin them again\n",
    "    2. We should be careful about the shape of the train and the test on split\n",
    "\n",
    "## Here I am going to use this method\n",
    "\n",
    "Add an indicator column while concatenating the two dataframes, so you can later seperate them again:\n",
    "\n",
    "df = pd.concat([test.assign(ind=\"test\"), train.assign(ind=\"train\")])\n",
    "Then later you can split them again:\n",
    "\n",
    "test, train = df[df[\"ind\"].eq(\"test\")], df[df[\"ind\"].eq(\"train\")]\n",
    "\n",
    "\n",
    "from this (Link)['https://datascience.stackexchange.com/questions/81617/how-to-combine-and-separate-test-and-train-data-for-data-cleaning']"
   ]
  },
  {
   "cell_type": "markdown",
   "id": "5a08e43d-47d7-4cf1-97e2-b15468b1f0fc",
   "metadata": {},
   "source": [
    "we are going to concatinate our train and test data"
   ]
  },
  {
   "cell_type": "code",
   "execution_count": 10,
   "id": "4dfc731e-a161-462c-93a8-645f8257d423",
   "metadata": {},
   "outputs": [],
   "source": [
    "# data = pd.concat([train.assign(ind=\"train\"), test.assign(ind=\"test\")]).reset_index(\n",
    "#     drop=True\n",
    "# )"
   ]
  },
  {
   "cell_type": "code",
   "execution_count": 11,
   "id": "4f26a7f5-8b4f-4444-b2ce-9eb43000926e",
   "metadata": {},
   "outputs": [],
   "source": [
    "train[\"type\"] = \"train\"\n",
    "test[\"type\"] = \"test\"\n",
    "\n",
    "data = pd.concat([train, test])"
   ]
  },
  {
   "cell_type": "code",
   "execution_count": 12,
   "id": "c57925fb-8c61-4849-8d57-8f9c489b935c",
   "metadata": {},
   "outputs": [
    {
     "data": {
      "text/plain": [
       "((1544, 3), (3600, 4))"
      ]
     },
     "execution_count": 12,
     "metadata": {},
     "output_type": "execute_result"
    }
   ],
   "source": [
    "test.shape, train.shape"
   ]
  },
  {
   "cell_type": "code",
   "execution_count": 13,
   "id": "fccc7215-ed12-4959-8d0d-36a5bb5c5c29",
   "metadata": {},
   "outputs": [
    {
     "data": {
      "text/html": [
       "<div>\n",
       "<style scoped>\n",
       "    .dataframe tbody tr th:only-of-type {\n",
       "        vertical-align: middle;\n",
       "    }\n",
       "\n",
       "    .dataframe tbody tr th {\n",
       "        vertical-align: top;\n",
       "    }\n",
       "\n",
       "    .dataframe thead th {\n",
       "        text-align: right;\n",
       "    }\n",
       "</style>\n",
       "<table border=\"1\" class=\"dataframe\">\n",
       "  <thead>\n",
       "    <tr style=\"text-align: right;\">\n",
       "      <th></th>\n",
       "      <th>CUSTOMER_IDENTIFIER</th>\n",
       "      <th>RECORD_DATE</th>\n",
       "      <th>DECLARED_NET_INCOME</th>\n",
       "      <th>type</th>\n",
       "    </tr>\n",
       "  </thead>\n",
       "  <tbody>\n",
       "    <tr>\n",
       "      <th>0</th>\n",
       "      <td>ID_18018255686b76dbc534d0edf0f7b4e9bb6cc3cde15...</td>\n",
       "      <td>2022-07</td>\n",
       "      <td>13,500</td>\n",
       "      <td>train</td>\n",
       "    </tr>\n",
       "    <tr>\n",
       "      <th>1</th>\n",
       "      <td>ID_782a96eb5b14b4cedc7df05389c6e4751c087026513...</td>\n",
       "      <td>2022-04</td>\n",
       "      <td>9,000</td>\n",
       "      <td>train</td>\n",
       "    </tr>\n",
       "    <tr>\n",
       "      <th>2</th>\n",
       "      <td>ID_fbf3035c5b8e7da652269551c78d634a48bca823076...</td>\n",
       "      <td>2022-06</td>\n",
       "      <td>8,000</td>\n",
       "      <td>train</td>\n",
       "    </tr>\n",
       "    <tr>\n",
       "      <th>3</th>\n",
       "      <td>ID_a0081832892639d933929e24ce46203ea417e17ecbe...</td>\n",
       "      <td>2022-08</td>\n",
       "      <td>7,000</td>\n",
       "      <td>train</td>\n",
       "    </tr>\n",
       "    <tr>\n",
       "      <th>4</th>\n",
       "      <td>ID_86ee557b2a4506ac40331d40370a40e37e0b95b9f23...</td>\n",
       "      <td>2022-07</td>\n",
       "      <td>10,400</td>\n",
       "      <td>train</td>\n",
       "    </tr>\n",
       "  </tbody>\n",
       "</table>\n",
       "</div>"
      ],
      "text/plain": [
       "                                 CUSTOMER_IDENTIFIER RECORD_DATE  \\\n",
       "0  ID_18018255686b76dbc534d0edf0f7b4e9bb6cc3cde15...     2022-07   \n",
       "1  ID_782a96eb5b14b4cedc7df05389c6e4751c087026513...     2022-04   \n",
       "2  ID_fbf3035c5b8e7da652269551c78d634a48bca823076...     2022-06   \n",
       "3  ID_a0081832892639d933929e24ce46203ea417e17ecbe...     2022-08   \n",
       "4  ID_86ee557b2a4506ac40331d40370a40e37e0b95b9f23...     2022-07   \n",
       "\n",
       "  DECLARED_NET_INCOME   type  \n",
       "0              13,500  train  \n",
       "1               9,000  train  \n",
       "2               8,000  train  \n",
       "3               7,000  train  \n",
       "4              10,400  train  "
      ]
     },
     "execution_count": 13,
     "metadata": {},
     "output_type": "execute_result"
    }
   ],
   "source": [
    "data.head()"
   ]
  },
  {
   "cell_type": "code",
   "execution_count": 14,
   "id": "02075ef9-7af0-4bb6-868d-b94b27d5fc3e",
   "metadata": {},
   "outputs": [
    {
     "data": {
      "text/plain": [
       "(5144, 4)"
      ]
     },
     "execution_count": 14,
     "metadata": {},
     "output_type": "execute_result"
    }
   ],
   "source": [
    "data.shape"
   ]
  },
  {
   "cell_type": "code",
   "execution_count": 15,
   "id": "13989c39-fde8-4926-a079-2b8c5dab889e",
   "metadata": {},
   "outputs": [
    {
     "data": {
      "text/html": [
       "<div>\n",
       "<style scoped>\n",
       "    .dataframe tbody tr th:only-of-type {\n",
       "        vertical-align: middle;\n",
       "    }\n",
       "\n",
       "    .dataframe tbody tr th {\n",
       "        vertical-align: top;\n",
       "    }\n",
       "\n",
       "    .dataframe thead th {\n",
       "        text-align: right;\n",
       "    }\n",
       "</style>\n",
       "<table border=\"1\" class=\"dataframe\">\n",
       "  <thead>\n",
       "    <tr style=\"text-align: right;\">\n",
       "      <th></th>\n",
       "      <th>employee_status_code</th>\n",
       "      <th>employee_status_desc</th>\n",
       "    </tr>\n",
       "  </thead>\n",
       "  <tbody>\n",
       "    <tr>\n",
       "      <th>0</th>\n",
       "      <td>0</td>\n",
       "      <td>Resigned</td>\n",
       "    </tr>\n",
       "    <tr>\n",
       "      <th>1</th>\n",
       "      <td>3</td>\n",
       "      <td>Active</td>\n",
       "    </tr>\n",
       "    <tr>\n",
       "      <th>2</th>\n",
       "      <td>1</td>\n",
       "      <td>Inactive</td>\n",
       "    </tr>\n",
       "    <tr>\n",
       "      <th>3</th>\n",
       "      <td>2</td>\n",
       "      <td>Retiree</td>\n",
       "    </tr>\n",
       "  </tbody>\n",
       "</table>\n",
       "</div>"
      ],
      "text/plain": [
       "   employee_status_code employee_status_desc\n",
       "0                     0             Resigned\n",
       "1                     3               Active\n",
       "2                     1             Inactive\n",
       "3                     2              Retiree"
      ]
     },
     "execution_count": 15,
     "metadata": {},
     "output_type": "execute_result"
    }
   ],
   "source": [
    "emp.head()"
   ]
  },
  {
   "cell_type": "code",
   "execution_count": 16,
   "id": "64c6b586-a08a-45f9-a715-8b3734f136df",
   "metadata": {},
   "outputs": [
    {
     "data": {
      "text/html": [
       "<div>\n",
       "<style scoped>\n",
       "    .dataframe tbody tr th:only-of-type {\n",
       "        vertical-align: middle;\n",
       "    }\n",
       "\n",
       "    .dataframe tbody tr th {\n",
       "        vertical-align: top;\n",
       "    }\n",
       "\n",
       "    .dataframe thead th {\n",
       "        text-align: right;\n",
       "    }\n",
       "</style>\n",
       "<table border=\"1\" class=\"dataframe\">\n",
       "  <thead>\n",
       "    <tr style=\"text-align: right;\">\n",
       "      <th></th>\n",
       "      <th>CUSTOMER_IDENTIFIER</th>\n",
       "      <th>DATE_LAST_UPDATED</th>\n",
       "      <th>SEX_CODE</th>\n",
       "      <th>INCOME_GROUP_CODE</th>\n",
       "      <th>NUMBER_OF_ACCOUNTS</th>\n",
       "      <th>OCCUPATIONAL_STATUS_CODE</th>\n",
       "      <th>AGE</th>\n",
       "    </tr>\n",
       "  </thead>\n",
       "  <tbody>\n",
       "    <tr>\n",
       "      <th>0</th>\n",
       "      <td>ID_00a7d65f82a6819e79c29a84e805777f0265308b655...</td>\n",
       "      <td>2022-09</td>\n",
       "      <td>1</td>\n",
       "      <td>6</td>\n",
       "      <td>4</td>\n",
       "      <td>7</td>\n",
       "      <td>51</td>\n",
       "    </tr>\n",
       "    <tr>\n",
       "      <th>1</th>\n",
       "      <td>ID_09651edcac6c55a5e401062b0c0ef7bbba3f3e49538...</td>\n",
       "      <td>2022-09</td>\n",
       "      <td>0</td>\n",
       "      <td>7</td>\n",
       "      <td>10</td>\n",
       "      <td>3</td>\n",
       "      <td>32</td>\n",
       "    </tr>\n",
       "    <tr>\n",
       "      <th>2</th>\n",
       "      <td>ID_17215674e76eb33b47c4dd3ac3392e3e8f1a34b131b...</td>\n",
       "      <td>2022-09</td>\n",
       "      <td>1</td>\n",
       "      <td>7</td>\n",
       "      <td>7</td>\n",
       "      <td>1</td>\n",
       "      <td>41</td>\n",
       "    </tr>\n",
       "    <tr>\n",
       "      <th>3</th>\n",
       "      <td>ID_212860dd16c79ea8eae97cc1fc181e6afd4862fceaf...</td>\n",
       "      <td>2022-09</td>\n",
       "      <td>0</td>\n",
       "      <td>13</td>\n",
       "      <td>10</td>\n",
       "      <td>1</td>\n",
       "      <td>44</td>\n",
       "    </tr>\n",
       "    <tr>\n",
       "      <th>4</th>\n",
       "      <td>ID_24953f74da44bd0915c4cb78c1d97cbbd66e85bbd91...</td>\n",
       "      <td>2022-08</td>\n",
       "      <td>0</td>\n",
       "      <td>13</td>\n",
       "      <td>6</td>\n",
       "      <td>1</td>\n",
       "      <td>44</td>\n",
       "    </tr>\n",
       "  </tbody>\n",
       "</table>\n",
       "</div>"
      ],
      "text/plain": [
       "                                 CUSTOMER_IDENTIFIER DATE_LAST_UPDATED  \\\n",
       "0  ID_00a7d65f82a6819e79c29a84e805777f0265308b655...           2022-09   \n",
       "1  ID_09651edcac6c55a5e401062b0c0ef7bbba3f3e49538...           2022-09   \n",
       "2  ID_17215674e76eb33b47c4dd3ac3392e3e8f1a34b131b...           2022-09   \n",
       "3  ID_212860dd16c79ea8eae97cc1fc181e6afd4862fceaf...           2022-09   \n",
       "4  ID_24953f74da44bd0915c4cb78c1d97cbbd66e85bbd91...           2022-08   \n",
       "\n",
       "   SEX_CODE  INCOME_GROUP_CODE  NUMBER_OF_ACCOUNTS  OCCUPATIONAL_STATUS_CODE  \\\n",
       "0         1                  6                   4                         7   \n",
       "1         0                  7                  10                         3   \n",
       "2         1                  7                   7                         1   \n",
       "3         0                 13                  10                         1   \n",
       "4         0                 13                   6                         1   \n",
       "\n",
       "   AGE  \n",
       "0   51  \n",
       "1   32  \n",
       "2   41  \n",
       "3   44  \n",
       "4   44  "
      ]
     },
     "execution_count": 16,
     "metadata": {},
     "output_type": "execute_result"
    }
   ],
   "source": [
    "custom.head()"
   ]
  },
  {
   "cell_type": "code",
   "execution_count": 17,
   "id": "7aea6f40-8f10-40a1-8c3f-86f551692935",
   "metadata": {},
   "outputs": [
    {
     "data": {
      "text/plain": [
       "(5144, 7)"
      ]
     },
     "execution_count": 17,
     "metadata": {},
     "output_type": "execute_result"
    }
   ],
   "source": [
    "custom.shape"
   ]
  },
  {
   "cell_type": "code",
   "execution_count": 18,
   "id": "9f2e2f0d-f806-49be-a025-5d19d2ac5a94",
   "metadata": {},
   "outputs": [
    {
     "data": {
      "text/html": [
       "<div>\n",
       "<style scoped>\n",
       "    .dataframe tbody tr th:only-of-type {\n",
       "        vertical-align: middle;\n",
       "    }\n",
       "\n",
       "    .dataframe tbody tr th {\n",
       "        vertical-align: top;\n",
       "    }\n",
       "\n",
       "    .dataframe thead th {\n",
       "        text-align: right;\n",
       "    }\n",
       "</style>\n",
       "<table border=\"1\" class=\"dataframe\">\n",
       "  <thead>\n",
       "    <tr style=\"text-align: right;\">\n",
       "      <th></th>\n",
       "      <th>CUSTOMER_IDENTIFIER</th>\n",
       "      <th>DECLARED_NET_INCOME</th>\n",
       "    </tr>\n",
       "  </thead>\n",
       "  <tbody>\n",
       "    <tr>\n",
       "      <th>0</th>\n",
       "      <td>ID_005e5c1206b2d9857432a381df19989353c3e1b6b0d...</td>\n",
       "      <td>0</td>\n",
       "    </tr>\n",
       "    <tr>\n",
       "      <th>1</th>\n",
       "      <td>ID_c28fb2d93c7b4be50a57aa7ebbe31a6bae33a18e1c6...</td>\n",
       "      <td>0</td>\n",
       "    </tr>\n",
       "    <tr>\n",
       "      <th>2</th>\n",
       "      <td>ID_94bbc5ce0228e1d25179755dacdf9fc7359a5bbc74a...</td>\n",
       "      <td>0</td>\n",
       "    </tr>\n",
       "    <tr>\n",
       "      <th>3</th>\n",
       "      <td>ID_41ccd69246cea3c1b4d9349f21d7af2dd092cf7eed4...</td>\n",
       "      <td>0</td>\n",
       "    </tr>\n",
       "    <tr>\n",
       "      <th>4</th>\n",
       "      <td>ID_09e29a91e9369a11075b1fd7fd209f3a0c96fb18432...</td>\n",
       "      <td>0</td>\n",
       "    </tr>\n",
       "  </tbody>\n",
       "</table>\n",
       "</div>"
      ],
      "text/plain": [
       "                                 CUSTOMER_IDENTIFIER  DECLARED_NET_INCOME\n",
       "0  ID_005e5c1206b2d9857432a381df19989353c3e1b6b0d...                    0\n",
       "1  ID_c28fb2d93c7b4be50a57aa7ebbe31a6bae33a18e1c6...                    0\n",
       "2  ID_94bbc5ce0228e1d25179755dacdf9fc7359a5bbc74a...                    0\n",
       "3  ID_41ccd69246cea3c1b4d9349f21d7af2dd092cf7eed4...                    0\n",
       "4  ID_09e29a91e9369a11075b1fd7fd209f3a0c96fb18432...                    0"
      ]
     },
     "execution_count": 18,
     "metadata": {},
     "output_type": "execute_result"
    }
   ],
   "source": [
    "ss.head()"
   ]
  },
  {
   "cell_type": "markdown",
   "id": "9bcc3599-e43f-439c-b1dd-fcdeb1ba89a5",
   "metadata": {},
   "source": [
    "As they told as that account number is duplicated so we are going to drop it to see if we can get the product code, channel, and amt columns on our train test."
   ]
  },
  {
   "cell_type": "code",
   "execution_count": 19,
   "id": "e32947a8-58a4-4322-a27a-65ed29a8d0d1",
   "metadata": {},
   "outputs": [
    {
     "data": {
      "text/plain": [
       "(5587, 11)"
      ]
     },
     "execution_count": 19,
     "metadata": {},
     "output_type": "execute_result"
    }
   ],
   "source": [
    "transaction = transaction.drop_duplicates([\"ACCOUNT_NUMBER\"])\n",
    "transaction.shape"
   ]
  },
  {
   "cell_type": "code",
   "execution_count": 20,
   "id": "2edbf864-2c90-4cfd-80ff-1aaf1208f9d6",
   "metadata": {},
   "outputs": [
    {
     "data": {
      "text/html": [
       "<div>\n",
       "<style scoped>\n",
       "    .dataframe tbody tr th:only-of-type {\n",
       "        vertical-align: middle;\n",
       "    }\n",
       "\n",
       "    .dataframe tbody tr th {\n",
       "        vertical-align: top;\n",
       "    }\n",
       "\n",
       "    .dataframe thead th {\n",
       "        text-align: right;\n",
       "    }\n",
       "</style>\n",
       "<table border=\"1\" class=\"dataframe\">\n",
       "  <thead>\n",
       "    <tr style=\"text-align: right;\">\n",
       "      <th></th>\n",
       "      <th>TRANSACTION_DESCRIPTION</th>\n",
       "      <th>CUSTOMER_IDENTIFIER</th>\n",
       "      <th>RECORD_DATE</th>\n",
       "      <th>ACCOUNT_TYPE_CODE</th>\n",
       "      <th>ACCOUNT_BALANCE</th>\n",
       "      <th>AMT</th>\n",
       "      <th>EVENT_NUMBER</th>\n",
       "      <th>PRODUCT_CODE</th>\n",
       "      <th>CHANNEL</th>\n",
       "      <th>ACCOUNT_NUMBER</th>\n",
       "      <th>TRANSACTION_REFERENCE</th>\n",
       "    </tr>\n",
       "  </thead>\n",
       "  <tbody>\n",
       "    <tr>\n",
       "      <th>0</th>\n",
       "      <td>NaN</td>\n",
       "      <td>ID_017ba29a4d371608fad8313ff1d46c8bb42ef830ee0...</td>\n",
       "      <td>2022-07-13 00:00:00+02:00</td>\n",
       "      <td>9317537c2329262b5e19d3e29d23422558e519ca8ff0a8...</td>\n",
       "      <td>1857.56</td>\n",
       "      <td>1000.00</td>\n",
       "      <td>11785</td>\n",
       "      <td>SAVE</td>\n",
       "      <td>internet</td>\n",
       "      <td>89fe98c0e6ccddcf9a0368507f02773693e01dfeb6911c...</td>\n",
       "      <td>NaN</td>\n",
       "    </tr>\n",
       "    <tr>\n",
       "      <th>322</th>\n",
       "      <td>POS PURCHASE</td>\n",
       "      <td>ID_0925f20edcf26977988f43469681d58441b449a88c7...</td>\n",
       "      <td>2022-06-26 00:00:00+02:00</td>\n",
       "      <td>e92177da406abc0e0a5bce83e853dbdb4e792af521a0ae...</td>\n",
       "      <td>24.59</td>\n",
       "      <td>-38.91</td>\n",
       "      <td>50</td>\n",
       "      <td>CHEQ</td>\n",
       "      <td>system</td>\n",
       "      <td>0e77f4d244bd3833b4aa54d3ed788a1d99e127b1cf63fd...</td>\n",
       "      <td>c9681cfc2cec371c82a1d38bad5fc9416868c36d17d0df...</td>\n",
       "    </tr>\n",
       "    <tr>\n",
       "      <th>329</th>\n",
       "      <td>NaN</td>\n",
       "      <td>ID_09b52b96ac7bc78862e8340d3a7be0fc103227f9bcc...</td>\n",
       "      <td>2022-04-30 00:00:00+02:00</td>\n",
       "      <td>e17913461e7c03cd0f2c1ac41584dcd801cb32e7f86ad9...</td>\n",
       "      <td>2175.76</td>\n",
       "      <td>-33.99</td>\n",
       "      <td>1656</td>\n",
       "      <td>SAVE</td>\n",
       "      <td>system</td>\n",
       "      <td>7d7506943996ff370ac93bf43200a318fbf291013aea9a...</td>\n",
       "      <td>NaN</td>\n",
       "    </tr>\n",
       "    <tr>\n",
       "      <th>553</th>\n",
       "      <td>POS PURCHASE</td>\n",
       "      <td>ID_13da6738cf3191e70f74c127b14345e4ddc9bc04adc...</td>\n",
       "      <td>2021-12-09 00:00:00+02:00</td>\n",
       "      <td>e92177da406abc0e0a5bce83e853dbdb4e792af521a0ae...</td>\n",
       "      <td>2232.80</td>\n",
       "      <td>-51.50</td>\n",
       "      <td>14761</td>\n",
       "      <td>CHEQ</td>\n",
       "      <td>system</td>\n",
       "      <td>db1d38f2520c0faeb26893765d4184bdd1c94e987ccfea...</td>\n",
       "      <td>2156f36cc7b365fc16661bef94f3a303a3fd4c47bfa242...</td>\n",
       "    </tr>\n",
       "    <tr>\n",
       "      <th>904</th>\n",
       "      <td>NaN</td>\n",
       "      <td>ID_1af3755a6e5931439773fcb2ec4dda1190dfd2fece3...</td>\n",
       "      <td>2022-04-27 00:00:00+02:00</td>\n",
       "      <td>9317537c2329262b5e19d3e29d23422558e519ca8ff0a8...</td>\n",
       "      <td>3102.59</td>\n",
       "      <td>-333.24</td>\n",
       "      <td>8005</td>\n",
       "      <td>SAVE</td>\n",
       "      <td>system</td>\n",
       "      <td>630aad4f576667271bf2848309e206465a343c8295480b...</td>\n",
       "      <td>NaN</td>\n",
       "    </tr>\n",
       "  </tbody>\n",
       "</table>\n",
       "</div>"
      ],
      "text/plain": [
       "    TRANSACTION_DESCRIPTION  \\\n",
       "0                       NaN   \n",
       "322            POS PURCHASE   \n",
       "329                     NaN   \n",
       "553            POS PURCHASE   \n",
       "904                     NaN   \n",
       "\n",
       "                                   CUSTOMER_IDENTIFIER  \\\n",
       "0    ID_017ba29a4d371608fad8313ff1d46c8bb42ef830ee0...   \n",
       "322  ID_0925f20edcf26977988f43469681d58441b449a88c7...   \n",
       "329  ID_09b52b96ac7bc78862e8340d3a7be0fc103227f9bcc...   \n",
       "553  ID_13da6738cf3191e70f74c127b14345e4ddc9bc04adc...   \n",
       "904  ID_1af3755a6e5931439773fcb2ec4dda1190dfd2fece3...   \n",
       "\n",
       "                   RECORD_DATE  \\\n",
       "0    2022-07-13 00:00:00+02:00   \n",
       "322  2022-06-26 00:00:00+02:00   \n",
       "329  2022-04-30 00:00:00+02:00   \n",
       "553  2021-12-09 00:00:00+02:00   \n",
       "904  2022-04-27 00:00:00+02:00   \n",
       "\n",
       "                                     ACCOUNT_TYPE_CODE  ACCOUNT_BALANCE  \\\n",
       "0    9317537c2329262b5e19d3e29d23422558e519ca8ff0a8...          1857.56   \n",
       "322  e92177da406abc0e0a5bce83e853dbdb4e792af521a0ae...            24.59   \n",
       "329  e17913461e7c03cd0f2c1ac41584dcd801cb32e7f86ad9...          2175.76   \n",
       "553  e92177da406abc0e0a5bce83e853dbdb4e792af521a0ae...          2232.80   \n",
       "904  9317537c2329262b5e19d3e29d23422558e519ca8ff0a8...          3102.59   \n",
       "\n",
       "         AMT  EVENT_NUMBER PRODUCT_CODE   CHANNEL  \\\n",
       "0    1000.00         11785         SAVE  internet   \n",
       "322   -38.91            50         CHEQ    system   \n",
       "329   -33.99          1656         SAVE    system   \n",
       "553   -51.50         14761         CHEQ    system   \n",
       "904  -333.24          8005         SAVE    system   \n",
       "\n",
       "                                        ACCOUNT_NUMBER  \\\n",
       "0    89fe98c0e6ccddcf9a0368507f02773693e01dfeb6911c...   \n",
       "322  0e77f4d244bd3833b4aa54d3ed788a1d99e127b1cf63fd...   \n",
       "329  7d7506943996ff370ac93bf43200a318fbf291013aea9a...   \n",
       "553  db1d38f2520c0faeb26893765d4184bdd1c94e987ccfea...   \n",
       "904  630aad4f576667271bf2848309e206465a343c8295480b...   \n",
       "\n",
       "                                 TRANSACTION_REFERENCE  \n",
       "0                                                  NaN  \n",
       "322  c9681cfc2cec371c82a1d38bad5fc9416868c36d17d0df...  \n",
       "329                                                NaN  \n",
       "553  2156f36cc7b365fc16661bef94f3a303a3fd4c47bfa242...  \n",
       "904                                                NaN  "
      ]
     },
     "execution_count": 20,
     "metadata": {},
     "output_type": "execute_result"
    }
   ],
   "source": [
    "transaction.head()"
   ]
  },
  {
   "cell_type": "markdown",
   "id": "3d51018d-0c37-44c4-b7a6-0031a57a1ba1",
   "metadata": {},
   "source": [
    "Now i am going to select only the columns that I am interested in "
   ]
  },
  {
   "cell_type": "code",
   "execution_count": 21,
   "id": "6e25a604-1d10-4f89-a3aa-2d455ccbff5a",
   "metadata": {},
   "outputs": [
    {
     "data": {
      "text/html": [
       "<div>\n",
       "<style scoped>\n",
       "    .dataframe tbody tr th:only-of-type {\n",
       "        vertical-align: middle;\n",
       "    }\n",
       "\n",
       "    .dataframe tbody tr th {\n",
       "        vertical-align: top;\n",
       "    }\n",
       "\n",
       "    .dataframe thead th {\n",
       "        text-align: right;\n",
       "    }\n",
       "</style>\n",
       "<table border=\"1\" class=\"dataframe\">\n",
       "  <thead>\n",
       "    <tr style=\"text-align: right;\">\n",
       "      <th></th>\n",
       "      <th>CUSTOMER_IDENTIFIER</th>\n",
       "      <th>ACCOUNT_BALANCE</th>\n",
       "      <th>CHANNEL</th>\n",
       "      <th>AMT</th>\n",
       "      <th>PRODUCT_CODE</th>\n",
       "      <th>RECORD_DATE</th>\n",
       "    </tr>\n",
       "  </thead>\n",
       "  <tbody>\n",
       "    <tr>\n",
       "      <th>0</th>\n",
       "      <td>ID_017ba29a4d371608fad8313ff1d46c8bb42ef830ee0...</td>\n",
       "      <td>1857.56</td>\n",
       "      <td>internet</td>\n",
       "      <td>1000.00</td>\n",
       "      <td>SAVE</td>\n",
       "      <td>2022-07-13 00:00:00+02:00</td>\n",
       "    </tr>\n",
       "    <tr>\n",
       "      <th>1</th>\n",
       "      <td>ID_0925f20edcf26977988f43469681d58441b449a88c7...</td>\n",
       "      <td>24.59</td>\n",
       "      <td>system</td>\n",
       "      <td>-38.91</td>\n",
       "      <td>CHEQ</td>\n",
       "      <td>2022-06-26 00:00:00+02:00</td>\n",
       "    </tr>\n",
       "    <tr>\n",
       "      <th>2</th>\n",
       "      <td>ID_09b52b96ac7bc78862e8340d3a7be0fc103227f9bcc...</td>\n",
       "      <td>2175.76</td>\n",
       "      <td>system</td>\n",
       "      <td>-33.99</td>\n",
       "      <td>SAVE</td>\n",
       "      <td>2022-04-30 00:00:00+02:00</td>\n",
       "    </tr>\n",
       "    <tr>\n",
       "      <th>3</th>\n",
       "      <td>ID_13da6738cf3191e70f74c127b14345e4ddc9bc04adc...</td>\n",
       "      <td>2232.80</td>\n",
       "      <td>system</td>\n",
       "      <td>-51.50</td>\n",
       "      <td>CHEQ</td>\n",
       "      <td>2021-12-09 00:00:00+02:00</td>\n",
       "    </tr>\n",
       "    <tr>\n",
       "      <th>4</th>\n",
       "      <td>ID_1af3755a6e5931439773fcb2ec4dda1190dfd2fece3...</td>\n",
       "      <td>3102.59</td>\n",
       "      <td>system</td>\n",
       "      <td>-333.24</td>\n",
       "      <td>SAVE</td>\n",
       "      <td>2022-04-27 00:00:00+02:00</td>\n",
       "    </tr>\n",
       "  </tbody>\n",
       "</table>\n",
       "</div>"
      ],
      "text/plain": [
       "                                 CUSTOMER_IDENTIFIER  ACCOUNT_BALANCE  \\\n",
       "0  ID_017ba29a4d371608fad8313ff1d46c8bb42ef830ee0...          1857.56   \n",
       "1  ID_0925f20edcf26977988f43469681d58441b449a88c7...            24.59   \n",
       "2  ID_09b52b96ac7bc78862e8340d3a7be0fc103227f9bcc...          2175.76   \n",
       "3  ID_13da6738cf3191e70f74c127b14345e4ddc9bc04adc...          2232.80   \n",
       "4  ID_1af3755a6e5931439773fcb2ec4dda1190dfd2fece3...          3102.59   \n",
       "\n",
       "    CHANNEL      AMT PRODUCT_CODE                RECORD_DATE  \n",
       "0  internet  1000.00         SAVE  2022-07-13 00:00:00+02:00  \n",
       "1    system   -38.91         CHEQ  2022-06-26 00:00:00+02:00  \n",
       "2    system   -33.99         SAVE  2022-04-30 00:00:00+02:00  \n",
       "3    system   -51.50         CHEQ  2021-12-09 00:00:00+02:00  \n",
       "4    system  -333.24         SAVE  2022-04-27 00:00:00+02:00  "
      ]
     },
     "execution_count": 21,
     "metadata": {},
     "output_type": "execute_result"
    }
   ],
   "source": [
    "transaction = transaction.iloc[:5144, :]\n",
    "transaction = transaction[\n",
    "    [\n",
    "        \"CUSTOMER_IDENTIFIER\",\n",
    "        \"ACCOUNT_BALANCE\",\n",
    "        \"CHANNEL\",\n",
    "        \"AMT\",\n",
    "        \"PRODUCT_CODE\",\n",
    "        \"RECORD_DATE\",\n",
    "    ]\n",
    "]\n",
    "\n",
    "transaction.reset_index(inplace=True, drop=True)\n",
    "transaction.head()"
   ]
  },
  {
   "cell_type": "code",
   "execution_count": 22,
   "id": "f4fad3a7-9c5e-486e-800e-71ca40110eba",
   "metadata": {},
   "outputs": [
    {
     "data": {
      "text/plain": [
       "(5144, 6)"
      ]
     },
     "execution_count": 22,
     "metadata": {},
     "output_type": "execute_result"
    }
   ],
   "source": [
    "transaction.shape"
   ]
  },
  {
   "cell_type": "code",
   "execution_count": null,
   "id": "d2575c48-ff50-4839-96af-3d8dc0da740b",
   "metadata": {},
   "outputs": [],
   "source": []
  },
  {
   "cell_type": "markdown",
   "id": "15524653-c791-4ea2-8aa2-6fe5a7f68855",
   "metadata": {},
   "source": [
    "# Merging with the Customer data"
   ]
  },
  {
   "cell_type": "code",
   "execution_count": 23,
   "id": "75813cdd-293e-4977-8491-ddd0e8869f4b",
   "metadata": {},
   "outputs": [
    {
     "data": {
      "text/html": [
       "<div>\n",
       "<style scoped>\n",
       "    .dataframe tbody tr th:only-of-type {\n",
       "        vertical-align: middle;\n",
       "    }\n",
       "\n",
       "    .dataframe tbody tr th {\n",
       "        vertical-align: top;\n",
       "    }\n",
       "\n",
       "    .dataframe thead th {\n",
       "        text-align: right;\n",
       "    }\n",
       "</style>\n",
       "<table border=\"1\" class=\"dataframe\">\n",
       "  <thead>\n",
       "    <tr style=\"text-align: right;\">\n",
       "      <th></th>\n",
       "      <th>CUSTOMER_IDENTIFIER</th>\n",
       "      <th>RECORD_DATE_x</th>\n",
       "      <th>DECLARED_NET_INCOME</th>\n",
       "      <th>type</th>\n",
       "      <th>ACCOUNT_BALANCE</th>\n",
       "      <th>CHANNEL</th>\n",
       "      <th>AMT</th>\n",
       "      <th>PRODUCT_CODE</th>\n",
       "      <th>RECORD_DATE_y</th>\n",
       "    </tr>\n",
       "  </thead>\n",
       "  <tbody>\n",
       "    <tr>\n",
       "      <th>0</th>\n",
       "      <td>ID_18018255686b76dbc534d0edf0f7b4e9bb6cc3cde15...</td>\n",
       "      <td>2022-07</td>\n",
       "      <td>13,500</td>\n",
       "      <td>train</td>\n",
       "      <td>35789.84</td>\n",
       "      <td>atm</td>\n",
       "      <td>-5000.0</td>\n",
       "      <td>CHEQ</td>\n",
       "      <td>2022-07-21 00:00:00+02:00</td>\n",
       "    </tr>\n",
       "    <tr>\n",
       "      <th>1</th>\n",
       "      <td>ID_782a96eb5b14b4cedc7df05389c6e4751c087026513...</td>\n",
       "      <td>2022-04</td>\n",
       "      <td>9,000</td>\n",
       "      <td>train</td>\n",
       "      <td>5896.51</td>\n",
       "      <td>system</td>\n",
       "      <td>-375.0</td>\n",
       "      <td>SAVE</td>\n",
       "      <td>2021-10-12 00:00:00+02:00</td>\n",
       "    </tr>\n",
       "    <tr>\n",
       "      <th>2</th>\n",
       "      <td>ID_fbf3035c5b8e7da652269551c78d634a48bca823076...</td>\n",
       "      <td>2022-06</td>\n",
       "      <td>8,000</td>\n",
       "      <td>train</td>\n",
       "      <td>6328.70</td>\n",
       "      <td>atm</td>\n",
       "      <td>-1050.0</td>\n",
       "      <td>SAVE</td>\n",
       "      <td>2022-02-09 00:00:00+02:00</td>\n",
       "    </tr>\n",
       "    <tr>\n",
       "      <th>3</th>\n",
       "      <td>ID_a0081832892639d933929e24ce46203ea417e17ecbe...</td>\n",
       "      <td>2022-08</td>\n",
       "      <td>7,000</td>\n",
       "      <td>train</td>\n",
       "      <td>4571.16</td>\n",
       "      <td>system</td>\n",
       "      <td>-23.2</td>\n",
       "      <td>SAVE</td>\n",
       "      <td>2022-08-31 00:00:00+02:00</td>\n",
       "    </tr>\n",
       "    <tr>\n",
       "      <th>4</th>\n",
       "      <td>ID_86ee557b2a4506ac40331d40370a40e37e0b95b9f23...</td>\n",
       "      <td>2022-07</td>\n",
       "      <td>10,400</td>\n",
       "      <td>train</td>\n",
       "      <td>3334.72</td>\n",
       "      <td>atm</td>\n",
       "      <td>-100.0</td>\n",
       "      <td>CHEQ</td>\n",
       "      <td>2022-07-30 00:00:00+02:00</td>\n",
       "    </tr>\n",
       "  </tbody>\n",
       "</table>\n",
       "</div>"
      ],
      "text/plain": [
       "                                 CUSTOMER_IDENTIFIER RECORD_DATE_x  \\\n",
       "0  ID_18018255686b76dbc534d0edf0f7b4e9bb6cc3cde15...       2022-07   \n",
       "1  ID_782a96eb5b14b4cedc7df05389c6e4751c087026513...       2022-04   \n",
       "2  ID_fbf3035c5b8e7da652269551c78d634a48bca823076...       2022-06   \n",
       "3  ID_a0081832892639d933929e24ce46203ea417e17ecbe...       2022-08   \n",
       "4  ID_86ee557b2a4506ac40331d40370a40e37e0b95b9f23...       2022-07   \n",
       "\n",
       "  DECLARED_NET_INCOME   type  ACCOUNT_BALANCE CHANNEL     AMT PRODUCT_CODE  \\\n",
       "0              13,500  train         35789.84     atm -5000.0         CHEQ   \n",
       "1               9,000  train          5896.51  system  -375.0         SAVE   \n",
       "2               8,000  train          6328.70     atm -1050.0         SAVE   \n",
       "3               7,000  train          4571.16  system   -23.2         SAVE   \n",
       "4              10,400  train          3334.72     atm  -100.0         CHEQ   \n",
       "\n",
       "               RECORD_DATE_y  \n",
       "0  2022-07-21 00:00:00+02:00  \n",
       "1  2021-10-12 00:00:00+02:00  \n",
       "2  2022-02-09 00:00:00+02:00  \n",
       "3  2022-08-31 00:00:00+02:00  \n",
       "4  2022-07-30 00:00:00+02:00  "
      ]
     },
     "execution_count": 23,
     "metadata": {},
     "output_type": "execute_result"
    }
   ],
   "source": [
    "data = data.merge(transaction, on=\"CUSTOMER_IDENTIFIER\")\n",
    "data.head()"
   ]
  },
  {
   "cell_type": "markdown",
   "id": "efe3dc67-9fd3-4c5b-bf5e-2ef500a0b8cc",
   "metadata": {},
   "source": [
    "# Concatinating with the transaction data"
   ]
  },
  {
   "cell_type": "code",
   "execution_count": 24,
   "id": "f20ccb9b-9ee0-4711-8671-bd824e5ea5a4",
   "metadata": {},
   "outputs": [
    {
     "data": {
      "text/html": [
       "<div>\n",
       "<style scoped>\n",
       "    .dataframe tbody tr th:only-of-type {\n",
       "        vertical-align: middle;\n",
       "    }\n",
       "\n",
       "    .dataframe tbody tr th {\n",
       "        vertical-align: top;\n",
       "    }\n",
       "\n",
       "    .dataframe thead th {\n",
       "        text-align: right;\n",
       "    }\n",
       "</style>\n",
       "<table border=\"1\" class=\"dataframe\">\n",
       "  <thead>\n",
       "    <tr style=\"text-align: right;\">\n",
       "      <th></th>\n",
       "      <th>CUSTOMER_IDENTIFIER</th>\n",
       "      <th>RECORD_DATE_x</th>\n",
       "      <th>DECLARED_NET_INCOME</th>\n",
       "      <th>type</th>\n",
       "      <th>ACCOUNT_BALANCE</th>\n",
       "      <th>CHANNEL</th>\n",
       "      <th>AMT</th>\n",
       "      <th>PRODUCT_CODE</th>\n",
       "      <th>RECORD_DATE_y</th>\n",
       "      <th>DATE_LAST_UPDATED</th>\n",
       "      <th>SEX_CODE</th>\n",
       "      <th>INCOME_GROUP_CODE</th>\n",
       "      <th>NUMBER_OF_ACCOUNTS</th>\n",
       "      <th>OCCUPATIONAL_STATUS_CODE</th>\n",
       "      <th>AGE</th>\n",
       "    </tr>\n",
       "  </thead>\n",
       "  <tbody>\n",
       "    <tr>\n",
       "      <th>0</th>\n",
       "      <td>ID_18018255686b76dbc534d0edf0f7b4e9bb6cc3cde15...</td>\n",
       "      <td>2022-07</td>\n",
       "      <td>13,500</td>\n",
       "      <td>train</td>\n",
       "      <td>35789.84</td>\n",
       "      <td>atm</td>\n",
       "      <td>-5000.0</td>\n",
       "      <td>CHEQ</td>\n",
       "      <td>2022-07-21 00:00:00+02:00</td>\n",
       "      <td>2022-07</td>\n",
       "      <td>0</td>\n",
       "      <td>15</td>\n",
       "      <td>7</td>\n",
       "      <td>1</td>\n",
       "      <td>45</td>\n",
       "    </tr>\n",
       "    <tr>\n",
       "      <th>1</th>\n",
       "      <td>ID_782a96eb5b14b4cedc7df05389c6e4751c087026513...</td>\n",
       "      <td>2022-04</td>\n",
       "      <td>9,000</td>\n",
       "      <td>train</td>\n",
       "      <td>5896.51</td>\n",
       "      <td>system</td>\n",
       "      <td>-375.0</td>\n",
       "      <td>SAVE</td>\n",
       "      <td>2021-10-12 00:00:00+02:00</td>\n",
       "      <td>2022-04</td>\n",
       "      <td>0</td>\n",
       "      <td>15</td>\n",
       "      <td>5</td>\n",
       "      <td>1</td>\n",
       "      <td>32</td>\n",
       "    </tr>\n",
       "    <tr>\n",
       "      <th>2</th>\n",
       "      <td>ID_fbf3035c5b8e7da652269551c78d634a48bca823076...</td>\n",
       "      <td>2022-06</td>\n",
       "      <td>8,000</td>\n",
       "      <td>train</td>\n",
       "      <td>6328.70</td>\n",
       "      <td>atm</td>\n",
       "      <td>-1050.0</td>\n",
       "      <td>SAVE</td>\n",
       "      <td>2022-02-09 00:00:00+02:00</td>\n",
       "      <td>2022-08</td>\n",
       "      <td>0</td>\n",
       "      <td>7</td>\n",
       "      <td>7</td>\n",
       "      <td>7</td>\n",
       "      <td>59</td>\n",
       "    </tr>\n",
       "    <tr>\n",
       "      <th>3</th>\n",
       "      <td>ID_a0081832892639d933929e24ce46203ea417e17ecbe...</td>\n",
       "      <td>2022-08</td>\n",
       "      <td>7,000</td>\n",
       "      <td>train</td>\n",
       "      <td>4571.16</td>\n",
       "      <td>system</td>\n",
       "      <td>-23.2</td>\n",
       "      <td>SAVE</td>\n",
       "      <td>2022-08-31 00:00:00+02:00</td>\n",
       "      <td>2022-08</td>\n",
       "      <td>1</td>\n",
       "      <td>9</td>\n",
       "      <td>14</td>\n",
       "      <td>7</td>\n",
       "      <td>57</td>\n",
       "    </tr>\n",
       "    <tr>\n",
       "      <th>4</th>\n",
       "      <td>ID_86ee557b2a4506ac40331d40370a40e37e0b95b9f23...</td>\n",
       "      <td>2022-07</td>\n",
       "      <td>10,400</td>\n",
       "      <td>train</td>\n",
       "      <td>3334.72</td>\n",
       "      <td>atm</td>\n",
       "      <td>-100.0</td>\n",
       "      <td>CHEQ</td>\n",
       "      <td>2022-07-30 00:00:00+02:00</td>\n",
       "      <td>2022-09</td>\n",
       "      <td>0</td>\n",
       "      <td>12</td>\n",
       "      <td>11</td>\n",
       "      <td>1</td>\n",
       "      <td>29</td>\n",
       "    </tr>\n",
       "  </tbody>\n",
       "</table>\n",
       "</div>"
      ],
      "text/plain": [
       "                                 CUSTOMER_IDENTIFIER RECORD_DATE_x  \\\n",
       "0  ID_18018255686b76dbc534d0edf0f7b4e9bb6cc3cde15...       2022-07   \n",
       "1  ID_782a96eb5b14b4cedc7df05389c6e4751c087026513...       2022-04   \n",
       "2  ID_fbf3035c5b8e7da652269551c78d634a48bca823076...       2022-06   \n",
       "3  ID_a0081832892639d933929e24ce46203ea417e17ecbe...       2022-08   \n",
       "4  ID_86ee557b2a4506ac40331d40370a40e37e0b95b9f23...       2022-07   \n",
       "\n",
       "  DECLARED_NET_INCOME   type  ACCOUNT_BALANCE CHANNEL     AMT PRODUCT_CODE  \\\n",
       "0              13,500  train         35789.84     atm -5000.0         CHEQ   \n",
       "1               9,000  train          5896.51  system  -375.0         SAVE   \n",
       "2               8,000  train          6328.70     atm -1050.0         SAVE   \n",
       "3               7,000  train          4571.16  system   -23.2         SAVE   \n",
       "4              10,400  train          3334.72     atm  -100.0         CHEQ   \n",
       "\n",
       "               RECORD_DATE_y DATE_LAST_UPDATED  SEX_CODE  INCOME_GROUP_CODE  \\\n",
       "0  2022-07-21 00:00:00+02:00           2022-07         0                 15   \n",
       "1  2021-10-12 00:00:00+02:00           2022-04         0                 15   \n",
       "2  2022-02-09 00:00:00+02:00           2022-08         0                  7   \n",
       "3  2022-08-31 00:00:00+02:00           2022-08         1                  9   \n",
       "4  2022-07-30 00:00:00+02:00           2022-09         0                 12   \n",
       "\n",
       "   NUMBER_OF_ACCOUNTS  OCCUPATIONAL_STATUS_CODE  AGE  \n",
       "0                   7                         1   45  \n",
       "1                   5                         1   32  \n",
       "2                   7                         7   59  \n",
       "3                  14                         7   57  \n",
       "4                  11                         1   29  "
      ]
     },
     "execution_count": 24,
     "metadata": {},
     "output_type": "execute_result"
    }
   ],
   "source": [
    "data = data.merge(custom, on=\"CUSTOMER_IDENTIFIER\")\n",
    "data.head()"
   ]
  },
  {
   "cell_type": "code",
   "execution_count": 25,
   "id": "42316233-a110-42a5-b299-102e14aee8f9",
   "metadata": {},
   "outputs": [
    {
     "data": {
      "text/plain": [
       "(5144, 15)"
      ]
     },
     "execution_count": 25,
     "metadata": {},
     "output_type": "execute_result"
    }
   ],
   "source": [
    "data.shape"
   ]
  },
  {
   "cell_type": "code",
   "execution_count": null,
   "id": "77da4048-4662-4445-8d23-a55ebca5c221",
   "metadata": {},
   "outputs": [],
   "source": []
  },
  {
   "cell_type": "markdown",
   "id": "ff79a3fb-d163-4e84-bc2a-471eb411f43d",
   "metadata": {},
   "source": [
    "## We are going to fix the data type of the target variable it's categorical we are converting it into int type\n",
    "Here there is a problem we notice that there is **,** in our target variable I got help from this one: [Convert to Numerical](https://stackoverflow.com/questions/55557004/getting-attributeerror-float-object-has-no-attribute-replace-error-while)"
   ]
  },
  {
   "cell_type": "code",
   "execution_count": 26,
   "id": "614fc1e4-a28c-4969-8a4f-b75e2adb50f6",
   "metadata": {},
   "outputs": [],
   "source": [
    "data[\"DECLARED_NET_INCOME\"] = data[\"DECLARED_NET_INCOME\"].astype(str)\n",
    "data[\"DECLARED_NET_INCOME\"] = [x.replace(\",\", \"\") for x in data[\"DECLARED_NET_INCOME\"]]"
   ]
  },
  {
   "cell_type": "code",
   "execution_count": 27,
   "id": "ee742c5d-0e70-437f-8be3-99318753d3e5",
   "metadata": {},
   "outputs": [],
   "source": [
    "data[\"DECLARED_NET_INCOME\"] = data[\"DECLARED_NET_INCOME\"].astype(float)\n",
    "# data[\"DECLARED_NET_INCOME\"].apply(lambda x: str(x.replace(\",\", \"\").strip()))"
   ]
  },
  {
   "cell_type": "code",
   "execution_count": 28,
   "id": "5553abbb-d13f-4af1-b330-d40a93ed2589",
   "metadata": {},
   "outputs": [
    {
     "data": {
      "text/plain": [
       "(5144, 15)"
      ]
     },
     "execution_count": 28,
     "metadata": {},
     "output_type": "execute_result"
    }
   ],
   "source": [
    "data.shape"
   ]
  },
  {
   "cell_type": "code",
   "execution_count": 29,
   "id": "57d98129-6308-4d1e-8132-e9c51b7d0745",
   "metadata": {},
   "outputs": [
    {
     "data": {
      "text/plain": [
       "CUSTOMER_IDENTIFIER          object\n",
       "RECORD_DATE_x                object\n",
       "DECLARED_NET_INCOME         float64\n",
       "type                         object\n",
       "ACCOUNT_BALANCE             float64\n",
       "CHANNEL                      object\n",
       "AMT                         float64\n",
       "PRODUCT_CODE                 object\n",
       "RECORD_DATE_y                object\n",
       "DATE_LAST_UPDATED            object\n",
       "SEX_CODE                      int64\n",
       "INCOME_GROUP_CODE             int64\n",
       "NUMBER_OF_ACCOUNTS            int64\n",
       "OCCUPATIONAL_STATUS_CODE      int64\n",
       "AGE                           int64\n",
       "dtype: object"
      ]
     },
     "execution_count": 29,
     "metadata": {},
     "output_type": "execute_result"
    }
   ],
   "source": [
    "data.dtypes"
   ]
  },
  {
   "cell_type": "code",
   "execution_count": 30,
   "id": "f3226f42-bb73-469d-b2e1-5514009d55a9",
   "metadata": {},
   "outputs": [],
   "source": [
    "data[\"RECORD_DATE\"] = pd.to_datetime(data[\"RECORD_DATE_x\"])\n",
    "# data[\"YEAR\"] = data[\"RECORD_DATE\"].dt.year\n",
    "data[\"MONTH\"] = data[\"RECORD_DATE\"].dt.month\n",
    "# data[\"DAY\"] = data[\"RECORD_DATE\"].dt.day"
   ]
  },
  {
   "cell_type": "code",
   "execution_count": 31,
   "id": "584f0eef-8952-4fd6-a673-4250b19ee74f",
   "metadata": {},
   "outputs": [],
   "source": [
    "# converting the target to numeric\n",
    "\n",
    "# data[\"DECLARED_NET_INCOME\"] = data[\"DECLARED_NET_INCOME\"].astype(float)"
   ]
  },
  {
   "cell_type": "code",
   "execution_count": 32,
   "id": "c22f02fc-c7ca-47b6-aa72-6a856a5905b3",
   "metadata": {},
   "outputs": [
    {
     "data": {
      "text/html": [
       "<div>\n",
       "<style scoped>\n",
       "    .dataframe tbody tr th:only-of-type {\n",
       "        vertical-align: middle;\n",
       "    }\n",
       "\n",
       "    .dataframe tbody tr th {\n",
       "        vertical-align: top;\n",
       "    }\n",
       "\n",
       "    .dataframe thead th {\n",
       "        text-align: right;\n",
       "    }\n",
       "</style>\n",
       "<table border=\"1\" class=\"dataframe\">\n",
       "  <thead>\n",
       "    <tr style=\"text-align: right;\">\n",
       "      <th></th>\n",
       "      <th>CUSTOMER_IDENTIFIER</th>\n",
       "      <th>RECORD_DATE_x</th>\n",
       "      <th>DECLARED_NET_INCOME</th>\n",
       "      <th>type</th>\n",
       "      <th>ACCOUNT_BALANCE</th>\n",
       "      <th>CHANNEL</th>\n",
       "      <th>AMT</th>\n",
       "      <th>PRODUCT_CODE</th>\n",
       "      <th>RECORD_DATE_y</th>\n",
       "      <th>DATE_LAST_UPDATED</th>\n",
       "      <th>SEX_CODE</th>\n",
       "      <th>INCOME_GROUP_CODE</th>\n",
       "      <th>NUMBER_OF_ACCOUNTS</th>\n",
       "      <th>OCCUPATIONAL_STATUS_CODE</th>\n",
       "      <th>AGE</th>\n",
       "      <th>RECORD_DATE</th>\n",
       "      <th>MONTH</th>\n",
       "    </tr>\n",
       "  </thead>\n",
       "  <tbody>\n",
       "    <tr>\n",
       "      <th>0</th>\n",
       "      <td>ID_18018255686b76dbc534d0edf0f7b4e9bb6cc3cde15...</td>\n",
       "      <td>2022-07</td>\n",
       "      <td>13500.0</td>\n",
       "      <td>train</td>\n",
       "      <td>35789.84</td>\n",
       "      <td>atm</td>\n",
       "      <td>-5000.0</td>\n",
       "      <td>CHEQ</td>\n",
       "      <td>2022-07-21 00:00:00+02:00</td>\n",
       "      <td>2022-07</td>\n",
       "      <td>0</td>\n",
       "      <td>15</td>\n",
       "      <td>7</td>\n",
       "      <td>1</td>\n",
       "      <td>45</td>\n",
       "      <td>2022-07-01</td>\n",
       "      <td>7</td>\n",
       "    </tr>\n",
       "    <tr>\n",
       "      <th>1</th>\n",
       "      <td>ID_782a96eb5b14b4cedc7df05389c6e4751c087026513...</td>\n",
       "      <td>2022-04</td>\n",
       "      <td>9000.0</td>\n",
       "      <td>train</td>\n",
       "      <td>5896.51</td>\n",
       "      <td>system</td>\n",
       "      <td>-375.0</td>\n",
       "      <td>SAVE</td>\n",
       "      <td>2021-10-12 00:00:00+02:00</td>\n",
       "      <td>2022-04</td>\n",
       "      <td>0</td>\n",
       "      <td>15</td>\n",
       "      <td>5</td>\n",
       "      <td>1</td>\n",
       "      <td>32</td>\n",
       "      <td>2022-04-01</td>\n",
       "      <td>4</td>\n",
       "    </tr>\n",
       "    <tr>\n",
       "      <th>2</th>\n",
       "      <td>ID_fbf3035c5b8e7da652269551c78d634a48bca823076...</td>\n",
       "      <td>2022-06</td>\n",
       "      <td>8000.0</td>\n",
       "      <td>train</td>\n",
       "      <td>6328.70</td>\n",
       "      <td>atm</td>\n",
       "      <td>-1050.0</td>\n",
       "      <td>SAVE</td>\n",
       "      <td>2022-02-09 00:00:00+02:00</td>\n",
       "      <td>2022-08</td>\n",
       "      <td>0</td>\n",
       "      <td>7</td>\n",
       "      <td>7</td>\n",
       "      <td>7</td>\n",
       "      <td>59</td>\n",
       "      <td>2022-06-01</td>\n",
       "      <td>6</td>\n",
       "    </tr>\n",
       "    <tr>\n",
       "      <th>3</th>\n",
       "      <td>ID_a0081832892639d933929e24ce46203ea417e17ecbe...</td>\n",
       "      <td>2022-08</td>\n",
       "      <td>7000.0</td>\n",
       "      <td>train</td>\n",
       "      <td>4571.16</td>\n",
       "      <td>system</td>\n",
       "      <td>-23.2</td>\n",
       "      <td>SAVE</td>\n",
       "      <td>2022-08-31 00:00:00+02:00</td>\n",
       "      <td>2022-08</td>\n",
       "      <td>1</td>\n",
       "      <td>9</td>\n",
       "      <td>14</td>\n",
       "      <td>7</td>\n",
       "      <td>57</td>\n",
       "      <td>2022-08-01</td>\n",
       "      <td>8</td>\n",
       "    </tr>\n",
       "    <tr>\n",
       "      <th>4</th>\n",
       "      <td>ID_86ee557b2a4506ac40331d40370a40e37e0b95b9f23...</td>\n",
       "      <td>2022-07</td>\n",
       "      <td>10400.0</td>\n",
       "      <td>train</td>\n",
       "      <td>3334.72</td>\n",
       "      <td>atm</td>\n",
       "      <td>-100.0</td>\n",
       "      <td>CHEQ</td>\n",
       "      <td>2022-07-30 00:00:00+02:00</td>\n",
       "      <td>2022-09</td>\n",
       "      <td>0</td>\n",
       "      <td>12</td>\n",
       "      <td>11</td>\n",
       "      <td>1</td>\n",
       "      <td>29</td>\n",
       "      <td>2022-07-01</td>\n",
       "      <td>7</td>\n",
       "    </tr>\n",
       "  </tbody>\n",
       "</table>\n",
       "</div>"
      ],
      "text/plain": [
       "                                 CUSTOMER_IDENTIFIER RECORD_DATE_x  \\\n",
       "0  ID_18018255686b76dbc534d0edf0f7b4e9bb6cc3cde15...       2022-07   \n",
       "1  ID_782a96eb5b14b4cedc7df05389c6e4751c087026513...       2022-04   \n",
       "2  ID_fbf3035c5b8e7da652269551c78d634a48bca823076...       2022-06   \n",
       "3  ID_a0081832892639d933929e24ce46203ea417e17ecbe...       2022-08   \n",
       "4  ID_86ee557b2a4506ac40331d40370a40e37e0b95b9f23...       2022-07   \n",
       "\n",
       "   DECLARED_NET_INCOME   type  ACCOUNT_BALANCE CHANNEL     AMT PRODUCT_CODE  \\\n",
       "0              13500.0  train         35789.84     atm -5000.0         CHEQ   \n",
       "1               9000.0  train          5896.51  system  -375.0         SAVE   \n",
       "2               8000.0  train          6328.70     atm -1050.0         SAVE   \n",
       "3               7000.0  train          4571.16  system   -23.2         SAVE   \n",
       "4              10400.0  train          3334.72     atm  -100.0         CHEQ   \n",
       "\n",
       "               RECORD_DATE_y DATE_LAST_UPDATED  SEX_CODE  INCOME_GROUP_CODE  \\\n",
       "0  2022-07-21 00:00:00+02:00           2022-07         0                 15   \n",
       "1  2021-10-12 00:00:00+02:00           2022-04         0                 15   \n",
       "2  2022-02-09 00:00:00+02:00           2022-08         0                  7   \n",
       "3  2022-08-31 00:00:00+02:00           2022-08         1                  9   \n",
       "4  2022-07-30 00:00:00+02:00           2022-09         0                 12   \n",
       "\n",
       "   NUMBER_OF_ACCOUNTS  OCCUPATIONAL_STATUS_CODE  AGE RECORD_DATE  MONTH  \n",
       "0                   7                         1   45  2022-07-01      7  \n",
       "1                   5                         1   32  2022-04-01      4  \n",
       "2                   7                         7   59  2022-06-01      6  \n",
       "3                  14                         7   57  2022-08-01      8  \n",
       "4                  11                         1   29  2022-07-01      7  "
      ]
     },
     "execution_count": 32,
     "metadata": {},
     "output_type": "execute_result"
    }
   ],
   "source": [
    "data.head()"
   ]
  },
  {
   "cell_type": "code",
   "execution_count": 33,
   "id": "5fbda668-68b7-4f50-b406-84bd8ccf6cdb",
   "metadata": {},
   "outputs": [
    {
     "data": {
      "text/html": [
       "<div>\n",
       "<style scoped>\n",
       "    .dataframe tbody tr th:only-of-type {\n",
       "        vertical-align: middle;\n",
       "    }\n",
       "\n",
       "    .dataframe tbody tr th {\n",
       "        vertical-align: top;\n",
       "    }\n",
       "\n",
       "    .dataframe thead th {\n",
       "        text-align: right;\n",
       "    }\n",
       "</style>\n",
       "<table border=\"1\" class=\"dataframe\">\n",
       "  <thead>\n",
       "    <tr style=\"text-align: right;\">\n",
       "      <th></th>\n",
       "      <th>CUSTOMER_IDENTIFIER</th>\n",
       "      <th>DECLARED_NET_INCOME</th>\n",
       "      <th>type</th>\n",
       "      <th>ACCOUNT_BALANCE</th>\n",
       "      <th>CHANNEL</th>\n",
       "      <th>AMT</th>\n",
       "      <th>PRODUCT_CODE</th>\n",
       "      <th>RECORD_DATE_y</th>\n",
       "      <th>SEX_CODE</th>\n",
       "      <th>INCOME_GROUP_CODE</th>\n",
       "      <th>NUMBER_OF_ACCOUNTS</th>\n",
       "      <th>OCCUPATIONAL_STATUS_CODE</th>\n",
       "      <th>AGE</th>\n",
       "      <th>RECORD_DATE</th>\n",
       "      <th>MONTH</th>\n",
       "    </tr>\n",
       "  </thead>\n",
       "  <tbody>\n",
       "    <tr>\n",
       "      <th>0</th>\n",
       "      <td>ID_18018255686b76dbc534d0edf0f7b4e9bb6cc3cde15...</td>\n",
       "      <td>13500.0</td>\n",
       "      <td>train</td>\n",
       "      <td>35789.84</td>\n",
       "      <td>atm</td>\n",
       "      <td>-5000.0</td>\n",
       "      <td>CHEQ</td>\n",
       "      <td>2022-07-21 00:00:00+02:00</td>\n",
       "      <td>0</td>\n",
       "      <td>15</td>\n",
       "      <td>7</td>\n",
       "      <td>1</td>\n",
       "      <td>45</td>\n",
       "      <td>2022-07-01</td>\n",
       "      <td>7</td>\n",
       "    </tr>\n",
       "    <tr>\n",
       "      <th>1</th>\n",
       "      <td>ID_782a96eb5b14b4cedc7df05389c6e4751c087026513...</td>\n",
       "      <td>9000.0</td>\n",
       "      <td>train</td>\n",
       "      <td>5896.51</td>\n",
       "      <td>system</td>\n",
       "      <td>-375.0</td>\n",
       "      <td>SAVE</td>\n",
       "      <td>2021-10-12 00:00:00+02:00</td>\n",
       "      <td>0</td>\n",
       "      <td>15</td>\n",
       "      <td>5</td>\n",
       "      <td>1</td>\n",
       "      <td>32</td>\n",
       "      <td>2022-04-01</td>\n",
       "      <td>4</td>\n",
       "    </tr>\n",
       "    <tr>\n",
       "      <th>2</th>\n",
       "      <td>ID_fbf3035c5b8e7da652269551c78d634a48bca823076...</td>\n",
       "      <td>8000.0</td>\n",
       "      <td>train</td>\n",
       "      <td>6328.70</td>\n",
       "      <td>atm</td>\n",
       "      <td>-1050.0</td>\n",
       "      <td>SAVE</td>\n",
       "      <td>2022-02-09 00:00:00+02:00</td>\n",
       "      <td>0</td>\n",
       "      <td>7</td>\n",
       "      <td>7</td>\n",
       "      <td>7</td>\n",
       "      <td>59</td>\n",
       "      <td>2022-06-01</td>\n",
       "      <td>6</td>\n",
       "    </tr>\n",
       "    <tr>\n",
       "      <th>3</th>\n",
       "      <td>ID_a0081832892639d933929e24ce46203ea417e17ecbe...</td>\n",
       "      <td>7000.0</td>\n",
       "      <td>train</td>\n",
       "      <td>4571.16</td>\n",
       "      <td>system</td>\n",
       "      <td>-23.2</td>\n",
       "      <td>SAVE</td>\n",
       "      <td>2022-08-31 00:00:00+02:00</td>\n",
       "      <td>1</td>\n",
       "      <td>9</td>\n",
       "      <td>14</td>\n",
       "      <td>7</td>\n",
       "      <td>57</td>\n",
       "      <td>2022-08-01</td>\n",
       "      <td>8</td>\n",
       "    </tr>\n",
       "    <tr>\n",
       "      <th>4</th>\n",
       "      <td>ID_86ee557b2a4506ac40331d40370a40e37e0b95b9f23...</td>\n",
       "      <td>10400.0</td>\n",
       "      <td>train</td>\n",
       "      <td>3334.72</td>\n",
       "      <td>atm</td>\n",
       "      <td>-100.0</td>\n",
       "      <td>CHEQ</td>\n",
       "      <td>2022-07-30 00:00:00+02:00</td>\n",
       "      <td>0</td>\n",
       "      <td>12</td>\n",
       "      <td>11</td>\n",
       "      <td>1</td>\n",
       "      <td>29</td>\n",
       "      <td>2022-07-01</td>\n",
       "      <td>7</td>\n",
       "    </tr>\n",
       "  </tbody>\n",
       "</table>\n",
       "</div>"
      ],
      "text/plain": [
       "                                 CUSTOMER_IDENTIFIER  DECLARED_NET_INCOME  \\\n",
       "0  ID_18018255686b76dbc534d0edf0f7b4e9bb6cc3cde15...              13500.0   \n",
       "1  ID_782a96eb5b14b4cedc7df05389c6e4751c087026513...               9000.0   \n",
       "2  ID_fbf3035c5b8e7da652269551c78d634a48bca823076...               8000.0   \n",
       "3  ID_a0081832892639d933929e24ce46203ea417e17ecbe...               7000.0   \n",
       "4  ID_86ee557b2a4506ac40331d40370a40e37e0b95b9f23...              10400.0   \n",
       "\n",
       "    type  ACCOUNT_BALANCE CHANNEL     AMT PRODUCT_CODE  \\\n",
       "0  train         35789.84     atm -5000.0         CHEQ   \n",
       "1  train          5896.51  system  -375.0         SAVE   \n",
       "2  train          6328.70     atm -1050.0         SAVE   \n",
       "3  train          4571.16  system   -23.2         SAVE   \n",
       "4  train          3334.72     atm  -100.0         CHEQ   \n",
       "\n",
       "               RECORD_DATE_y  SEX_CODE  INCOME_GROUP_CODE  NUMBER_OF_ACCOUNTS  \\\n",
       "0  2022-07-21 00:00:00+02:00         0                 15                   7   \n",
       "1  2021-10-12 00:00:00+02:00         0                 15                   5   \n",
       "2  2022-02-09 00:00:00+02:00         0                  7                   7   \n",
       "3  2022-08-31 00:00:00+02:00         1                  9                  14   \n",
       "4  2022-07-30 00:00:00+02:00         0                 12                  11   \n",
       "\n",
       "   OCCUPATIONAL_STATUS_CODE  AGE RECORD_DATE  MONTH  \n",
       "0                         1   45  2022-07-01      7  \n",
       "1                         1   32  2022-04-01      4  \n",
       "2                         7   59  2022-06-01      6  \n",
       "3                         7   57  2022-08-01      8  \n",
       "4                         1   29  2022-07-01      7  "
      ]
     },
     "execution_count": 33,
     "metadata": {},
     "output_type": "execute_result"
    }
   ],
   "source": [
    "data.drop([\"RECORD_DATE_x\", \"DATE_LAST_UPDATED\"], axis=1, inplace=True)\n",
    "data.head()"
   ]
  },
  {
   "cell_type": "code",
   "execution_count": 34,
   "id": "09de8542-a071-45c5-b27a-7eb1a3368143",
   "metadata": {},
   "outputs": [],
   "source": [
    "# train = data.iloc[:3600, :]\n",
    "# train.shape"
   ]
  },
  {
   "cell_type": "code",
   "execution_count": 35,
   "id": "ac035650-3a56-443d-880c-f4fc1d2cc290",
   "metadata": {},
   "outputs": [],
   "source": [
    "# test = data.iloc[3600:, :]\n",
    "# test.reset_index(drop=True, inplace=True)\n",
    "# test.head()"
   ]
  },
  {
   "cell_type": "code",
   "execution_count": 36,
   "id": "fa086812-51b0-4ee9-bb95-a42727b7d11c",
   "metadata": {},
   "outputs": [],
   "source": [
    "# test, train = data[data[\"ind\"].eq(\"test\")], data[data[\"ind\"].eq(\"train\")]"
   ]
  },
  {
   "cell_type": "code",
   "execution_count": 42,
   "id": "83aa04e9-7f88-4b2b-a678-b5c3d219ae3e",
   "metadata": {},
   "outputs": [
    {
     "name": "stderr",
     "output_type": "stream",
     "text": [
      "<ipython-input-42-90c469d1f67f>:5: SettingWithCopyWarning: \n",
      "A value is trying to be set on a copy of a slice from a DataFrame\n",
      "\n",
      "See the caveats in the documentation: https://pandas.pydata.org/pandas-docs/stable/user_guide/indexing.html#returning-a-view-versus-a-copy\n",
      "  train.drop(\"type\", axis=1, inplace=True)\n",
      "<ipython-input-42-90c469d1f67f>:6: SettingWithCopyWarning: \n",
      "A value is trying to be set on a copy of a slice from a DataFrame\n",
      "\n",
      "See the caveats in the documentation: https://pandas.pydata.org/pandas-docs/stable/user_guide/indexing.html#returning-a-view-versus-a-copy\n",
      "  test.drop(\"type\", axis=1, inplace=True)\n"
     ]
    }
   ],
   "source": [
    "train = data[data[\"type\"] == \"train\"]\n",
    "\n",
    "test = data[data[\"type\"] == \"test\"]\n",
    "\n",
    "train.drop(\"type\", axis=1, inplace=True)\n",
    "test.drop(\"type\", axis=1, inplace=True)"
   ]
  },
  {
   "cell_type": "code",
   "execution_count": 43,
   "id": "38b95623-2433-4c8c-a810-8b3705348352",
   "metadata": {},
   "outputs": [
    {
     "data": {
      "text/html": [
       "<div>\n",
       "<style scoped>\n",
       "    .dataframe tbody tr th:only-of-type {\n",
       "        vertical-align: middle;\n",
       "    }\n",
       "\n",
       "    .dataframe tbody tr th {\n",
       "        vertical-align: top;\n",
       "    }\n",
       "\n",
       "    .dataframe thead th {\n",
       "        text-align: right;\n",
       "    }\n",
       "</style>\n",
       "<table border=\"1\" class=\"dataframe\">\n",
       "  <thead>\n",
       "    <tr style=\"text-align: right;\">\n",
       "      <th></th>\n",
       "      <th>CUSTOMER_IDENTIFIER</th>\n",
       "      <th>DECLARED_NET_INCOME</th>\n",
       "      <th>type</th>\n",
       "      <th>ACCOUNT_BALANCE</th>\n",
       "      <th>CHANNEL</th>\n",
       "      <th>AMT</th>\n",
       "      <th>PRODUCT_CODE</th>\n",
       "      <th>RECORD_DATE_y</th>\n",
       "      <th>SEX_CODE</th>\n",
       "      <th>INCOME_GROUP_CODE</th>\n",
       "      <th>NUMBER_OF_ACCOUNTS</th>\n",
       "      <th>OCCUPATIONAL_STATUS_CODE</th>\n",
       "      <th>AGE</th>\n",
       "      <th>RECORD_DATE</th>\n",
       "      <th>MONTH</th>\n",
       "    </tr>\n",
       "  </thead>\n",
       "  <tbody>\n",
       "    <tr>\n",
       "      <th>0</th>\n",
       "      <td>ID_18018255686b76dbc534d0edf0f7b4e9bb6cc3cde15...</td>\n",
       "      <td>13500.0</td>\n",
       "      <td>train</td>\n",
       "      <td>35789.84</td>\n",
       "      <td>atm</td>\n",
       "      <td>-5000.0</td>\n",
       "      <td>CHEQ</td>\n",
       "      <td>2022-07-21 00:00:00+02:00</td>\n",
       "      <td>0</td>\n",
       "      <td>15</td>\n",
       "      <td>7</td>\n",
       "      <td>1</td>\n",
       "      <td>45</td>\n",
       "      <td>2022-07-01</td>\n",
       "      <td>7</td>\n",
       "    </tr>\n",
       "    <tr>\n",
       "      <th>1</th>\n",
       "      <td>ID_782a96eb5b14b4cedc7df05389c6e4751c087026513...</td>\n",
       "      <td>9000.0</td>\n",
       "      <td>train</td>\n",
       "      <td>5896.51</td>\n",
       "      <td>system</td>\n",
       "      <td>-375.0</td>\n",
       "      <td>SAVE</td>\n",
       "      <td>2021-10-12 00:00:00+02:00</td>\n",
       "      <td>0</td>\n",
       "      <td>15</td>\n",
       "      <td>5</td>\n",
       "      <td>1</td>\n",
       "      <td>32</td>\n",
       "      <td>2022-04-01</td>\n",
       "      <td>4</td>\n",
       "    </tr>\n",
       "    <tr>\n",
       "      <th>2</th>\n",
       "      <td>ID_fbf3035c5b8e7da652269551c78d634a48bca823076...</td>\n",
       "      <td>8000.0</td>\n",
       "      <td>train</td>\n",
       "      <td>6328.70</td>\n",
       "      <td>atm</td>\n",
       "      <td>-1050.0</td>\n",
       "      <td>SAVE</td>\n",
       "      <td>2022-02-09 00:00:00+02:00</td>\n",
       "      <td>0</td>\n",
       "      <td>7</td>\n",
       "      <td>7</td>\n",
       "      <td>7</td>\n",
       "      <td>59</td>\n",
       "      <td>2022-06-01</td>\n",
       "      <td>6</td>\n",
       "    </tr>\n",
       "    <tr>\n",
       "      <th>3</th>\n",
       "      <td>ID_a0081832892639d933929e24ce46203ea417e17ecbe...</td>\n",
       "      <td>7000.0</td>\n",
       "      <td>train</td>\n",
       "      <td>4571.16</td>\n",
       "      <td>system</td>\n",
       "      <td>-23.2</td>\n",
       "      <td>SAVE</td>\n",
       "      <td>2022-08-31 00:00:00+02:00</td>\n",
       "      <td>1</td>\n",
       "      <td>9</td>\n",
       "      <td>14</td>\n",
       "      <td>7</td>\n",
       "      <td>57</td>\n",
       "      <td>2022-08-01</td>\n",
       "      <td>8</td>\n",
       "    </tr>\n",
       "    <tr>\n",
       "      <th>4</th>\n",
       "      <td>ID_86ee557b2a4506ac40331d40370a40e37e0b95b9f23...</td>\n",
       "      <td>10400.0</td>\n",
       "      <td>train</td>\n",
       "      <td>3334.72</td>\n",
       "      <td>atm</td>\n",
       "      <td>-100.0</td>\n",
       "      <td>CHEQ</td>\n",
       "      <td>2022-07-30 00:00:00+02:00</td>\n",
       "      <td>0</td>\n",
       "      <td>12</td>\n",
       "      <td>11</td>\n",
       "      <td>1</td>\n",
       "      <td>29</td>\n",
       "      <td>2022-07-01</td>\n",
       "      <td>7</td>\n",
       "    </tr>\n",
       "  </tbody>\n",
       "</table>\n",
       "</div>"
      ],
      "text/plain": [
       "                                 CUSTOMER_IDENTIFIER  DECLARED_NET_INCOME  \\\n",
       "0  ID_18018255686b76dbc534d0edf0f7b4e9bb6cc3cde15...              13500.0   \n",
       "1  ID_782a96eb5b14b4cedc7df05389c6e4751c087026513...               9000.0   \n",
       "2  ID_fbf3035c5b8e7da652269551c78d634a48bca823076...               8000.0   \n",
       "3  ID_a0081832892639d933929e24ce46203ea417e17ecbe...               7000.0   \n",
       "4  ID_86ee557b2a4506ac40331d40370a40e37e0b95b9f23...              10400.0   \n",
       "\n",
       "    type  ACCOUNT_BALANCE CHANNEL     AMT PRODUCT_CODE  \\\n",
       "0  train         35789.84     atm -5000.0         CHEQ   \n",
       "1  train          5896.51  system  -375.0         SAVE   \n",
       "2  train          6328.70     atm -1050.0         SAVE   \n",
       "3  train          4571.16  system   -23.2         SAVE   \n",
       "4  train          3334.72     atm  -100.0         CHEQ   \n",
       "\n",
       "               RECORD_DATE_y  SEX_CODE  INCOME_GROUP_CODE  NUMBER_OF_ACCOUNTS  \\\n",
       "0  2022-07-21 00:00:00+02:00         0                 15                   7   \n",
       "1  2021-10-12 00:00:00+02:00         0                 15                   5   \n",
       "2  2022-02-09 00:00:00+02:00         0                  7                   7   \n",
       "3  2022-08-31 00:00:00+02:00         1                  9                  14   \n",
       "4  2022-07-30 00:00:00+02:00         0                 12                  11   \n",
       "\n",
       "   OCCUPATIONAL_STATUS_CODE  AGE RECORD_DATE  MONTH  \n",
       "0                         1   45  2022-07-01      7  \n",
       "1                         1   32  2022-04-01      4  \n",
       "2                         7   59  2022-06-01      6  \n",
       "3                         7   57  2022-08-01      8  \n",
       "4                         1   29  2022-07-01      7  "
      ]
     },
     "execution_count": 43,
     "metadata": {},
     "output_type": "execute_result"
    }
   ],
   "source": [
    "data.head()"
   ]
  },
  {
   "cell_type": "code",
   "execution_count": 44,
   "id": "f2a1badb-161f-4b42-ab61-c68fdc17e064",
   "metadata": {},
   "outputs": [
    {
     "data": {
      "text/plain": [
       "(5144, 15)"
      ]
     },
     "execution_count": 44,
     "metadata": {},
     "output_type": "execute_result"
    }
   ],
   "source": [
    "data.shape"
   ]
  },
  {
   "cell_type": "code",
   "execution_count": 45,
   "id": "0d630c9a-03a2-4c8b-914c-1ec14483fa6a",
   "metadata": {},
   "outputs": [
    {
     "data": {
      "text/plain": [
       "((3602, 14), (1542, 14))"
      ]
     },
     "execution_count": 45,
     "metadata": {},
     "output_type": "execute_result"
    }
   ],
   "source": [
    "train.shape, test.shape"
   ]
  },
  {
   "cell_type": "code",
   "execution_count": 41,
   "id": "7720a374-7c2a-463b-99aa-2847e880afdd",
   "metadata": {},
   "outputs": [
    {
     "ename": "NameError",
     "evalue": "name 'idkjkd' is not defined",
     "output_type": "error",
     "traceback": [
      "\u001b[0;31m---------------------------------------------------------------------------\u001b[0m",
      "\u001b[0;31mNameError\u001b[0m                                 Traceback (most recent call last)",
      "Cell \u001b[0;32mIn [41], line 1\u001b[0m\n\u001b[0;32m----> 1\u001b[0m \u001b[43midkjkd\u001b[49m\n",
      "\u001b[0;31mNameError\u001b[0m: name 'idkjkd' is not defined"
     ]
    }
   ],
   "source": [
    "idkjkd"
   ]
  },
  {
   "cell_type": "code",
   "execution_count": null,
   "id": "8b31ee05-32ca-440a-be2e-4f8678cb2980",
   "metadata": {},
   "outputs": [],
   "source": [
    "ss.shape"
   ]
  },
  {
   "cell_type": "code",
   "execution_count": null,
   "id": "41fd862b-1194-4237-8511-65765b737176",
   "metadata": {},
   "outputs": [],
   "source": [
    "col2drop = [\"CUSTOMER_IDENTIFIER\", \"DECLARED_NET_INCOME\"]"
   ]
  },
  {
   "cell_type": "code",
   "execution_count": null,
   "id": "826736fd-7889-4891-a67b-d7db7797be95",
   "metadata": {},
   "outputs": [],
   "source": [
    "X = train.drop(col2drop, axis=1)\n",
    "y = train[\"DECLARED_NET_INCOME\"]"
   ]
  },
  {
   "cell_type": "code",
   "execution_count": null,
   "id": "c7e51f33-9697-40af-829b-4a12ac75e2ec",
   "metadata": {},
   "outputs": [],
   "source": [
    "test = test.drop(col2drop, axis=1)\n",
    "test.head()"
   ]
  },
  {
   "cell_type": "code",
   "execution_count": null,
   "id": "a6ac61de-d023-4a13-aae4-8d00f060f411",
   "metadata": {},
   "outputs": [],
   "source": [
    "X.shape"
   ]
  },
  {
   "cell_type": "code",
   "execution_count": null,
   "id": "5156165f-7a9e-4032-b6bf-17ee81ba405d",
   "metadata": {},
   "outputs": [],
   "source": [
    "test.head()"
   ]
  },
  {
   "cell_type": "code",
   "execution_count": null,
   "id": "0f77442e-8492-44af-97f7-81cb81bd1426",
   "metadata": {},
   "outputs": [],
   "source": [
    "X.dtypes"
   ]
  },
  {
   "cell_type": "code",
   "execution_count": null,
   "id": "e8e187de-5d00-4df7-ac6b-75d0cd1dc42b",
   "metadata": {},
   "outputs": [],
   "source": [
    "test.dtypes"
   ]
  },
  {
   "cell_type": "code",
   "execution_count": null,
   "id": "d0bcf2f2-acb7-4e2c-81de-06cf550e8389",
   "metadata": {},
   "outputs": [],
   "source": [
    "y.isna().sum()"
   ]
  },
  {
   "cell_type": "code",
   "execution_count": null,
   "id": "58103116-5096-4488-be0d-de5f733a4012",
   "metadata": {},
   "outputs": [],
   "source": [
    "X[\"PRODUCT_CODE_COUNT\"] = X[\"PRODUCT_CODE\"].map(\n",
    "    X[\"PRODUCT_CODE\"].value_counts().to_dict()\n",
    ")\n",
    "X[\"CHANNEL_COUNT\"] = X[\"CHANNEL\"].map(X[\"CHANNEL\"].value_counts().to_dict())\n",
    "\n",
    "test[\"PRODUCT_CODE_COUNT\"] = test[\"PRODUCT_CODE\"].map(\n",
    "    test[\"PRODUCT_CODE\"].value_counts().to_dict()\n",
    ")\n",
    "test[\"CHANNEL_COUNT\"] = test[\"CHANNEL\"].map(test[\"CHANNEL\"].value_counts().to_dict())"
   ]
  },
  {
   "cell_type": "code",
   "execution_count": null,
   "id": "e5db5190-6579-418f-8ee7-33b846c716fb",
   "metadata": {},
   "outputs": [],
   "source": [
    "from sklearn.preprocessing import LabelEncoder\n",
    "\n",
    "X[\"PRODUCT_CODE\"] = LabelEncoder().fit_transform(X[\"PRODUCT_CODE\"])\n",
    "X[\"CHANNEL\"] = LabelEncoder().fit_transform(X[\"CHANNEL\"])"
   ]
  },
  {
   "cell_type": "code",
   "execution_count": null,
   "id": "dac3ece9-7cfd-4c88-99bc-81c1160d7e23",
   "metadata": {},
   "outputs": [],
   "source": [
    "test[\"PRODUCT_CODE\"] = LabelEncoder().fit_transform(test[\"PRODUCT_CODE\"])\n",
    "test[\"CHANNEL\"] = LabelEncoder().fit_transform(test[\"CHANNEL\"])"
   ]
  },
  {
   "cell_type": "code",
   "execution_count": null,
   "id": "fdb16bfb-848e-4fb6-a526-0b43989fddc2",
   "metadata": {},
   "outputs": [],
   "source": [
    "X.head()"
   ]
  },
  {
   "cell_type": "code",
   "execution_count": null,
   "id": "d7ab5a91-2824-4d8a-979e-f81d082baf61",
   "metadata": {},
   "outputs": [],
   "source": [
    "X.shape, test.shape"
   ]
  },
  {
   "cell_type": "markdown",
   "id": "ec388ef7-a5c9-4c21-b1dd-4b0df0dff967",
   "metadata": {},
   "source": [
    "**Note** <br>\n",
    "With Poisson regression and learning rate of 0.01 and max-depth of 8 score is 6455.224621"
   ]
  },
  {
   "cell_type": "code",
   "execution_count": null,
   "id": "be46004c-d38f-4f7a-8d2c-15fbdd65c0b1",
   "metadata": {},
   "outputs": [],
   "source": [
    "params = {\n",
    "    \"objective\": \"tweedie\",\n",
    "    \"metric\": \"rmse\",\n",
    "    \"learning_rate\": 0.01,\n",
    "    \"sub_feature\": 0.8,\n",
    "    \"sub_row\": 0.75,\n",
    "    \"bagging_freq\": 1,\n",
    "    \"lambda_l2\": 0.6,\n",
    "    \"verbosity\": 0,\n",
    "    \"num_iterations\": 7000,\n",
    "    \"num_leaves\": 128,\n",
    "    \"min_data_in_leaf\": 50,\n",
    "    \"max_depth\": 9,\n",
    "}"
   ]
  },
  {
   "cell_type": "code",
   "execution_count": null,
   "id": "602c704f-362c-424b-9268-72c8ec4b2958",
   "metadata": {},
   "outputs": [],
   "source": [
    "%%time\n",
    "errcb = []\n",
    "y_pred_totcb = []\n",
    "fold = KFold(n_splits=10, shuffle=True, random_state=42)\n",
    "i = 1\n",
    "for train_index, test_index in fold.split(X):\n",
    "    X_train, X_test = X.iloc[train_index], X.iloc[test_index]\n",
    "    y_train, y_test = y[train_index], y[test_index]\n",
    "    m = LGBMRegressor(**params)\n",
    "    # m = CatBoostRegressor()\n",
    "    # m = XGBRegressor()\n",
    "    m.fit(\n",
    "        X_train,\n",
    "        y_train,\n",
    "        eval_set=[(X_train, y_train), (X_test, y_test)],\n",
    "        verbose=100,\n",
    "        early_stopping_rounds=200,\n",
    "    )\n",
    "    preds = m.predict(X_test)\n",
    "    print(\"err: \", metrics.mean_squared_error(y_test, preds, squared=False))\n",
    "    errcb.append(metrics.mean_squared_error(y_test, preds, squared=False))\n",
    "    p = m.predict(test)\n",
    "    y_pred_totcb.append(p)"
   ]
  },
  {
   "cell_type": "code",
   "execution_count": null,
   "id": "4dcaffff-9fa0-4993-957f-c30f632dd454",
   "metadata": {},
   "outputs": [],
   "source": [
    "print(\"The error of the model is: \", np.mean(errcb))"
   ]
  },
  {
   "cell_type": "code",
   "execution_count": null,
   "id": "a74b547a-ac4f-43de-8c2d-c2c6aecaccbc",
   "metadata": {},
   "outputs": [],
   "source": [
    "fea_imp = pd.DataFrame({\"imp\": m.feature_importances_, \"col\": X.columns})\n",
    "fea_imp = fea_imp.sort_values([\"imp\", \"col\"], ascending=False).iloc[-30:]\n",
    "_ = fea_imp.plot(kind=\"barh\", x=\"col\", y=\"imp\", figsize=(20, 10))\n",
    "plt.savefig(\"catboost_feature_importance.png\")"
   ]
  },
  {
   "cell_type": "code",
   "execution_count": null,
   "id": "c2bb3aa0-e075-4b18-800b-7c4a1ff769dd",
   "metadata": {},
   "outputs": [],
   "source": [
    "np.mean(y_pred_totcb, 0)"
   ]
  },
  {
   "cell_type": "code",
   "execution_count": null,
   "id": "85a18e58-9f9d-4cfb-9e55-449598c1e9d0",
   "metadata": {},
   "outputs": [],
   "source": [
    "len(np.mean(y_pred_totcb, 0))"
   ]
  },
  {
   "cell_type": "code",
   "execution_count": null,
   "id": "c48b9caf-8ae2-4ab3-8059-01012c8b936b",
   "metadata": {},
   "outputs": [],
   "source": [
    "test[\"DECLARED_NET_INCOME\"] = np.mean(y_pred_totcb, 0)"
   ]
  },
  {
   "cell_type": "code",
   "execution_count": null,
   "id": "ea8f6030-a5de-412f-9143-ec09fc75f33f",
   "metadata": {},
   "outputs": [],
   "source": [
    "ss.head()"
   ]
  },
  {
   "cell_type": "code",
   "execution_count": null,
   "id": "f1e19e15-083b-4d06-aa0d-b2c6291bab06",
   "metadata": {},
   "outputs": [],
   "source": [
    "ss[\"DECLARED_NET_INCOME\"] = np.mean(y_pred_totcb, 0)\n",
    "ss.head()"
   ]
  },
  {
   "cell_type": "markdown",
   "id": "0c30dc4c-a2ab-4572-9df8-e72e9e75a94c",
   "metadata": {},
   "source": [
    "### transforming the prediction\n"
   ]
  },
  {
   "cell_type": "code",
   "execution_count": null,
   "id": "12e0c775-6055-474d-81a0-dee1ca78ed64",
   "metadata": {},
   "outputs": [],
   "source": [
    "# ss[\"DECLARED_NET_INCOME\"] = np.log1p(abs(ss[\"DECLARED_NET_INCOME\"]))"
   ]
  },
  {
   "cell_type": "code",
   "execution_count": null,
   "id": "4767a787-d09c-4b69-b271-caf7c9cae489",
   "metadata": {},
   "outputs": [],
   "source": [
    "ss.head()"
   ]
  },
  {
   "cell_type": "code",
   "execution_count": null,
   "id": "794bfe73-6e1b-43b6-b0da-f0b92ada1eaf",
   "metadata": {},
   "outputs": [],
   "source": [
    "ss.to_csv(\"base_lgb.csv\", index=False)"
   ]
  },
  {
   "cell_type": "code",
   "execution_count": null,
   "id": "24c4bab9-aa29-4f71-851b-f355908fe1da",
   "metadata": {},
   "outputs": [],
   "source": []
  }
 ],
 "metadata": {
  "kernelspec": {
   "display_name": "Python 3",
   "language": "python",
   "name": "python3"
  },
  "language_info": {
   "codemirror_mode": {
    "name": "ipython",
    "version": 3
   },
   "file_extension": ".py",
   "mimetype": "text/x-python",
   "name": "python",
   "nbconvert_exporter": "python",
   "pygments_lexer": "ipython3",
   "version": "3.9.12"
  }
 },
 "nbformat": 4,
 "nbformat_minor": 5
}
