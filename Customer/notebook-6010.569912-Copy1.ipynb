{
 "cells": [
  {
   "cell_type": "code",
   "execution_count": 1,
   "id": "d3e85ea5-db4b-4fbe-8bc1-766cb6d384ae",
   "metadata": {},
   "outputs": [],
   "source": [
    "import time\n",
    "import warnings\n",
    "\n",
    "warnings.filterwarnings(\"ignore\")\n",
    "\n",
    "\n",
    "from functools import reduce\n",
    "\n",
    "import matplotlib.pyplot as plt\n",
    "import numpy as np\n",
    "import pandas as pd\n",
    "import scipy.stats as st\n",
    "import seaborn as sns\n",
    "\n",
    "# from lazypredict.Supervised import LazyRegressor\n",
    "\n",
    "plt.style.use(\"ggplot\")\n",
    "%matplotlib inline\n",
    "\n",
    "\n",
    "import optuna\n",
    "from optuna.integration import CatBoostPruningCallback, LightGBMPruningCallback\n",
    "\n",
    "optuna.logging.set_verbosity(optuna.logging.WARNING)\n",
    "\n",
    "import plotly.express as px\n",
    "from catboost import CatBoostRegressor, Pool\n",
    "from lightgbm import LGBMRegressor, plot_importance\n",
    "from sklearn.compose import make_column_selector, make_column_transformer\n",
    "from sklearn.experimental import enable_iterative_imputer\n",
    "from sklearn.impute import IterativeImputer\n",
    "from sklearn.linear_model import LinearRegression\n",
    "from sklearn.metrics import mean_squared_error\n",
    "from sklearn.model_selection import KFold, RepeatedKFold, train_test_split\n",
    "from sklearn.pipeline import Pipeline, make_pipeline\n",
    "from sklearn.preprocessing import OrdinalEncoder, RobustScaler\n",
    "from xgboost import DMatrix, XGBRegressor"
   ]
  },
  {
   "cell_type": "code",
   "execution_count": null,
   "id": "f7b25a22-413b-4158-8c26-4bd24cd42ec5",
   "metadata": {},
   "outputs": [],
   "source": []
  },
  {
   "cell_type": "markdown",
   "id": "d265be2a-79f3-4ce5-a15d-a14ebd766f31",
   "metadata": {},
   "source": [
    "## Reading the data"
   ]
  },
  {
   "cell_type": "code",
   "execution_count": 2,
   "id": "a0f1b27b-ed1e-4585-a2f8-76ad15bd8e89",
   "metadata": {},
   "outputs": [],
   "source": [
    "train = pd.read_csv(\"Train.csv\", parse_dates=[\"RECORD_DATE\"]).rename(columns=str.lower)\n",
    "test = pd.read_csv(\"Test.csv\", parse_dates=[\"RECORD_DATE\"]).rename(columns=str.lower)\n",
    "emp = pd.read_csv(\"employment_status.csv\").rename(columns=str.lower)\n",
    "ss = pd.read_csv(\"SampleSubmission.csv\").rename(columns=str.lower)\n",
    "income = pd.read_csv(\"income_group.csv\").rename(columns=str.lower)\n",
    "customer = pd.read_csv(\"customer.csv\", parse_dates=[\"DATE_LAST_UPDATED\"]).rename(\n",
    "    columns=str.lower\n",
    ")\n",
    "trans = pd.read_csv(\"transactions.csv\", parse_dates=[\"RECORD_DATE\"]).rename(\n",
    "    columns=str.lower\n",
    ")"
   ]
  },
  {
   "cell_type": "code",
   "execution_count": null,
   "id": "ee98c15d-273a-4703-b5b3-dfe40ef40414",
   "metadata": {},
   "outputs": [],
   "source": []
  },
  {
   "cell_type": "markdown",
   "id": "f6871cd4-f85a-40d2-9f8d-7044262b167a",
   "metadata": {},
   "source": [
    "## Data Analysis"
   ]
  },
  {
   "cell_type": "code",
   "execution_count": 3,
   "id": "88f05ee9-7119-47c3-9e69-7a97c2b486c6",
   "metadata": {},
   "outputs": [
    {
     "data": {
      "text/html": [
       "<div>\n",
       "<style scoped>\n",
       "    .dataframe tbody tr th:only-of-type {\n",
       "        vertical-align: middle;\n",
       "    }\n",
       "\n",
       "    .dataframe tbody tr th {\n",
       "        vertical-align: top;\n",
       "    }\n",
       "\n",
       "    .dataframe thead th {\n",
       "        text-align: right;\n",
       "    }\n",
       "</style>\n",
       "<table border=\"1\" class=\"dataframe\">\n",
       "  <thead>\n",
       "    <tr style=\"text-align: right;\">\n",
       "      <th></th>\n",
       "      <th>customer_identifier</th>\n",
       "      <th>record_date</th>\n",
       "      <th>declared_net_income</th>\n",
       "    </tr>\n",
       "  </thead>\n",
       "  <tbody>\n",
       "    <tr>\n",
       "      <th>0</th>\n",
       "      <td>ID_18018255686b76dbc534d0edf0f7b4e9bb6cc3cde15...</td>\n",
       "      <td>2022-07-01</td>\n",
       "      <td>13,500</td>\n",
       "    </tr>\n",
       "    <tr>\n",
       "      <th>1</th>\n",
       "      <td>ID_782a96eb5b14b4cedc7df05389c6e4751c087026513...</td>\n",
       "      <td>2022-04-01</td>\n",
       "      <td>9,000</td>\n",
       "    </tr>\n",
       "    <tr>\n",
       "      <th>2</th>\n",
       "      <td>ID_fbf3035c5b8e7da652269551c78d634a48bca823076...</td>\n",
       "      <td>2022-06-01</td>\n",
       "      <td>8,000</td>\n",
       "    </tr>\n",
       "    <tr>\n",
       "      <th>3</th>\n",
       "      <td>ID_a0081832892639d933929e24ce46203ea417e17ecbe...</td>\n",
       "      <td>2022-08-01</td>\n",
       "      <td>7,000</td>\n",
       "    </tr>\n",
       "    <tr>\n",
       "      <th>4</th>\n",
       "      <td>ID_86ee557b2a4506ac40331d40370a40e37e0b95b9f23...</td>\n",
       "      <td>2022-07-01</td>\n",
       "      <td>10,400</td>\n",
       "    </tr>\n",
       "  </tbody>\n",
       "</table>\n",
       "</div>"
      ],
      "text/plain": [
       "                                 customer_identifier record_date  \\\n",
       "0  ID_18018255686b76dbc534d0edf0f7b4e9bb6cc3cde15...  2022-07-01   \n",
       "1  ID_782a96eb5b14b4cedc7df05389c6e4751c087026513...  2022-04-01   \n",
       "2  ID_fbf3035c5b8e7da652269551c78d634a48bca823076...  2022-06-01   \n",
       "3  ID_a0081832892639d933929e24ce46203ea417e17ecbe...  2022-08-01   \n",
       "4  ID_86ee557b2a4506ac40331d40370a40e37e0b95b9f23...  2022-07-01   \n",
       "\n",
       "  declared_net_income  \n",
       "0              13,500  \n",
       "1               9,000  \n",
       "2               8,000  \n",
       "3               7,000  \n",
       "4              10,400  "
      ]
     },
     "execution_count": 3,
     "metadata": {},
     "output_type": "execute_result"
    }
   ],
   "source": [
    "train.head()"
   ]
  },
  {
   "cell_type": "code",
   "execution_count": 4,
   "id": "6be21a5b-7d32-40b6-87d7-f66fa0b8f79c",
   "metadata": {},
   "outputs": [
    {
     "data": {
      "text/html": [
       "<div>\n",
       "<style scoped>\n",
       "    .dataframe tbody tr th:only-of-type {\n",
       "        vertical-align: middle;\n",
       "    }\n",
       "\n",
       "    .dataframe tbody tr th {\n",
       "        vertical-align: top;\n",
       "    }\n",
       "\n",
       "    .dataframe thead th {\n",
       "        text-align: right;\n",
       "    }\n",
       "</style>\n",
       "<table border=\"1\" class=\"dataframe\">\n",
       "  <thead>\n",
       "    <tr style=\"text-align: right;\">\n",
       "      <th></th>\n",
       "      <th>customer_identifier</th>\n",
       "      <th>record_date</th>\n",
       "    </tr>\n",
       "  </thead>\n",
       "  <tbody>\n",
       "    <tr>\n",
       "      <th>0</th>\n",
       "      <td>ID_005e5c1206b2d9857432a381df19989353c3e1b6b0d...</td>\n",
       "      <td>2022-06-01</td>\n",
       "    </tr>\n",
       "    <tr>\n",
       "      <th>1</th>\n",
       "      <td>ID_c28fb2d93c7b4be50a57aa7ebbe31a6bae33a18e1c6...</td>\n",
       "      <td>2022-01-01</td>\n",
       "    </tr>\n",
       "    <tr>\n",
       "      <th>2</th>\n",
       "      <td>ID_94bbc5ce0228e1d25179755dacdf9fc7359a5bbc74a...</td>\n",
       "      <td>2022-05-01</td>\n",
       "    </tr>\n",
       "    <tr>\n",
       "      <th>3</th>\n",
       "      <td>ID_41ccd69246cea3c1b4d9349f21d7af2dd092cf7eed4...</td>\n",
       "      <td>2022-05-01</td>\n",
       "    </tr>\n",
       "    <tr>\n",
       "      <th>4</th>\n",
       "      <td>ID_09e29a91e9369a11075b1fd7fd209f3a0c96fb18432...</td>\n",
       "      <td>2022-03-01</td>\n",
       "    </tr>\n",
       "  </tbody>\n",
       "</table>\n",
       "</div>"
      ],
      "text/plain": [
       "                                 customer_identifier record_date\n",
       "0  ID_005e5c1206b2d9857432a381df19989353c3e1b6b0d...  2022-06-01\n",
       "1  ID_c28fb2d93c7b4be50a57aa7ebbe31a6bae33a18e1c6...  2022-01-01\n",
       "2  ID_94bbc5ce0228e1d25179755dacdf9fc7359a5bbc74a...  2022-05-01\n",
       "3  ID_41ccd69246cea3c1b4d9349f21d7af2dd092cf7eed4...  2022-05-01\n",
       "4  ID_09e29a91e9369a11075b1fd7fd209f3a0c96fb18432...  2022-03-01"
      ]
     },
     "execution_count": 4,
     "metadata": {},
     "output_type": "execute_result"
    }
   ],
   "source": [
    "test.head()"
   ]
  },
  {
   "cell_type": "code",
   "execution_count": 5,
   "id": "68d48983-cf7e-4062-b0a0-bb97ac8c1e5f",
   "metadata": {},
   "outputs": [
    {
     "data": {
      "text/html": [
       "<div>\n",
       "<style scoped>\n",
       "    .dataframe tbody tr th:only-of-type {\n",
       "        vertical-align: middle;\n",
       "    }\n",
       "\n",
       "    .dataframe tbody tr th {\n",
       "        vertical-align: top;\n",
       "    }\n",
       "\n",
       "    .dataframe thead th {\n",
       "        text-align: right;\n",
       "    }\n",
       "</style>\n",
       "<table border=\"1\" class=\"dataframe\">\n",
       "  <thead>\n",
       "    <tr style=\"text-align: right;\">\n",
       "      <th></th>\n",
       "      <th>income_group_code</th>\n",
       "      <th>income_group_desc</th>\n",
       "    </tr>\n",
       "  </thead>\n",
       "  <tbody>\n",
       "    <tr>\n",
       "      <th>0</th>\n",
       "      <td>0</td>\n",
       "      <td>NOT SUPPLIED</td>\n",
       "    </tr>\n",
       "    <tr>\n",
       "      <th>1</th>\n",
       "      <td>1</td>\n",
       "      <td>R 0 - 499</td>\n",
       "    </tr>\n",
       "    <tr>\n",
       "      <th>2</th>\n",
       "      <td>2</td>\n",
       "      <td>R500 - 999</td>\n",
       "    </tr>\n",
       "    <tr>\n",
       "      <th>3</th>\n",
       "      <td>3</td>\n",
       "      <td>R1,000 - 1,999</td>\n",
       "    </tr>\n",
       "    <tr>\n",
       "      <th>4</th>\n",
       "      <td>4</td>\n",
       "      <td>R2,000 - 2,999</td>\n",
       "    </tr>\n",
       "  </tbody>\n",
       "</table>\n",
       "</div>"
      ],
      "text/plain": [
       "   income_group_code income_group_desc\n",
       "0                  0      NOT SUPPLIED\n",
       "1                  1         R 0 - 499\n",
       "2                  2        R500 - 999\n",
       "3                  3    R1,000 - 1,999\n",
       "4                  4    R2,000 - 2,999"
      ]
     },
     "execution_count": 5,
     "metadata": {},
     "output_type": "execute_result"
    }
   ],
   "source": [
    "income.head()"
   ]
  },
  {
   "cell_type": "code",
   "execution_count": 6,
   "id": "e261816d-8b9b-4135-b59c-c852d585f0dc",
   "metadata": {},
   "outputs": [
    {
     "data": {
      "text/html": [
       "<div>\n",
       "<style scoped>\n",
       "    .dataframe tbody tr th:only-of-type {\n",
       "        vertical-align: middle;\n",
       "    }\n",
       "\n",
       "    .dataframe tbody tr th {\n",
       "        vertical-align: top;\n",
       "    }\n",
       "\n",
       "    .dataframe thead th {\n",
       "        text-align: right;\n",
       "    }\n",
       "</style>\n",
       "<table border=\"1\" class=\"dataframe\">\n",
       "  <thead>\n",
       "    <tr style=\"text-align: right;\">\n",
       "      <th></th>\n",
       "      <th>employee_status_code</th>\n",
       "      <th>employee_status_desc</th>\n",
       "    </tr>\n",
       "  </thead>\n",
       "  <tbody>\n",
       "    <tr>\n",
       "      <th>0</th>\n",
       "      <td>0</td>\n",
       "      <td>Resigned</td>\n",
       "    </tr>\n",
       "    <tr>\n",
       "      <th>1</th>\n",
       "      <td>3</td>\n",
       "      <td>Active</td>\n",
       "    </tr>\n",
       "    <tr>\n",
       "      <th>2</th>\n",
       "      <td>1</td>\n",
       "      <td>Inactive</td>\n",
       "    </tr>\n",
       "    <tr>\n",
       "      <th>3</th>\n",
       "      <td>2</td>\n",
       "      <td>Retiree</td>\n",
       "    </tr>\n",
       "  </tbody>\n",
       "</table>\n",
       "</div>"
      ],
      "text/plain": [
       "   employee_status_code employee_status_desc\n",
       "0                     0             Resigned\n",
       "1                     3               Active\n",
       "2                     1             Inactive\n",
       "3                     2              Retiree"
      ]
     },
     "execution_count": 6,
     "metadata": {},
     "output_type": "execute_result"
    }
   ],
   "source": [
    "emp.head()"
   ]
  },
  {
   "cell_type": "code",
   "execution_count": 7,
   "id": "4e704102-2ef3-4883-83c6-22923d8083d3",
   "metadata": {},
   "outputs": [
    {
     "data": {
      "text/html": [
       "<div>\n",
       "<style scoped>\n",
       "    .dataframe tbody tr th:only-of-type {\n",
       "        vertical-align: middle;\n",
       "    }\n",
       "\n",
       "    .dataframe tbody tr th {\n",
       "        vertical-align: top;\n",
       "    }\n",
       "\n",
       "    .dataframe thead th {\n",
       "        text-align: right;\n",
       "    }\n",
       "</style>\n",
       "<table border=\"1\" class=\"dataframe\">\n",
       "  <thead>\n",
       "    <tr style=\"text-align: right;\">\n",
       "      <th></th>\n",
       "      <th>customer_identifier</th>\n",
       "      <th>date_last_updated</th>\n",
       "      <th>sex_code</th>\n",
       "      <th>income_group_code</th>\n",
       "      <th>number_of_accounts</th>\n",
       "      <th>occupational_status_code</th>\n",
       "      <th>age</th>\n",
       "    </tr>\n",
       "  </thead>\n",
       "  <tbody>\n",
       "    <tr>\n",
       "      <th>0</th>\n",
       "      <td>ID_00a7d65f82a6819e79c29a84e805777f0265308b655...</td>\n",
       "      <td>2022-09-01</td>\n",
       "      <td>1</td>\n",
       "      <td>6</td>\n",
       "      <td>4</td>\n",
       "      <td>7</td>\n",
       "      <td>51</td>\n",
       "    </tr>\n",
       "    <tr>\n",
       "      <th>1</th>\n",
       "      <td>ID_09651edcac6c55a5e401062b0c0ef7bbba3f3e49538...</td>\n",
       "      <td>2022-09-01</td>\n",
       "      <td>0</td>\n",
       "      <td>7</td>\n",
       "      <td>10</td>\n",
       "      <td>3</td>\n",
       "      <td>32</td>\n",
       "    </tr>\n",
       "    <tr>\n",
       "      <th>2</th>\n",
       "      <td>ID_17215674e76eb33b47c4dd3ac3392e3e8f1a34b131b...</td>\n",
       "      <td>2022-09-01</td>\n",
       "      <td>1</td>\n",
       "      <td>7</td>\n",
       "      <td>7</td>\n",
       "      <td>1</td>\n",
       "      <td>41</td>\n",
       "    </tr>\n",
       "    <tr>\n",
       "      <th>3</th>\n",
       "      <td>ID_212860dd16c79ea8eae97cc1fc181e6afd4862fceaf...</td>\n",
       "      <td>2022-09-01</td>\n",
       "      <td>0</td>\n",
       "      <td>13</td>\n",
       "      <td>10</td>\n",
       "      <td>1</td>\n",
       "      <td>44</td>\n",
       "    </tr>\n",
       "    <tr>\n",
       "      <th>4</th>\n",
       "      <td>ID_24953f74da44bd0915c4cb78c1d97cbbd66e85bbd91...</td>\n",
       "      <td>2022-08-01</td>\n",
       "      <td>0</td>\n",
       "      <td>13</td>\n",
       "      <td>6</td>\n",
       "      <td>1</td>\n",
       "      <td>44</td>\n",
       "    </tr>\n",
       "  </tbody>\n",
       "</table>\n",
       "</div>"
      ],
      "text/plain": [
       "                                 customer_identifier date_last_updated  \\\n",
       "0  ID_00a7d65f82a6819e79c29a84e805777f0265308b655...        2022-09-01   \n",
       "1  ID_09651edcac6c55a5e401062b0c0ef7bbba3f3e49538...        2022-09-01   \n",
       "2  ID_17215674e76eb33b47c4dd3ac3392e3e8f1a34b131b...        2022-09-01   \n",
       "3  ID_212860dd16c79ea8eae97cc1fc181e6afd4862fceaf...        2022-09-01   \n",
       "4  ID_24953f74da44bd0915c4cb78c1d97cbbd66e85bbd91...        2022-08-01   \n",
       "\n",
       "   sex_code  income_group_code  number_of_accounts  occupational_status_code  \\\n",
       "0         1                  6                   4                         7   \n",
       "1         0                  7                  10                         3   \n",
       "2         1                  7                   7                         1   \n",
       "3         0                 13                  10                         1   \n",
       "4         0                 13                   6                         1   \n",
       "\n",
       "   age  \n",
       "0   51  \n",
       "1   32  \n",
       "2   41  \n",
       "3   44  \n",
       "4   44  "
      ]
     },
     "execution_count": 7,
     "metadata": {},
     "output_type": "execute_result"
    }
   ],
   "source": [
    "customer.head()"
   ]
  },
  {
   "cell_type": "code",
   "execution_count": 8,
   "id": "83400c62-7bea-45ea-87a2-e4a0e2d2d85a",
   "metadata": {},
   "outputs": [
    {
     "data": {
      "text/html": [
       "<div>\n",
       "<style scoped>\n",
       "    .dataframe tbody tr th:only-of-type {\n",
       "        vertical-align: middle;\n",
       "    }\n",
       "\n",
       "    .dataframe tbody tr th {\n",
       "        vertical-align: top;\n",
       "    }\n",
       "\n",
       "    .dataframe thead th {\n",
       "        text-align: right;\n",
       "    }\n",
       "</style>\n",
       "<table border=\"1\" class=\"dataframe\">\n",
       "  <thead>\n",
       "    <tr style=\"text-align: right;\">\n",
       "      <th></th>\n",
       "      <th>transaction_description</th>\n",
       "      <th>customer_identifier</th>\n",
       "      <th>record_date</th>\n",
       "      <th>account_type_code</th>\n",
       "      <th>account_balance</th>\n",
       "      <th>amt</th>\n",
       "      <th>event_number</th>\n",
       "      <th>product_code</th>\n",
       "      <th>channel</th>\n",
       "      <th>account_number</th>\n",
       "      <th>transaction_reference</th>\n",
       "    </tr>\n",
       "  </thead>\n",
       "  <tbody>\n",
       "    <tr>\n",
       "      <th>0</th>\n",
       "      <td>NaN</td>\n",
       "      <td>ID_017ba29a4d371608fad8313ff1d46c8bb42ef830ee0...</td>\n",
       "      <td>2022-07-13 00:00:00+02:00</td>\n",
       "      <td>9317537c2329262b5e19d3e29d23422558e519ca8ff0a8...</td>\n",
       "      <td>1857.56</td>\n",
       "      <td>1000.00</td>\n",
       "      <td>11785</td>\n",
       "      <td>SAVE</td>\n",
       "      <td>internet</td>\n",
       "      <td>89fe98c0e6ccddcf9a0368507f02773693e01dfeb6911c...</td>\n",
       "      <td>NaN</td>\n",
       "    </tr>\n",
       "    <tr>\n",
       "      <th>1</th>\n",
       "      <td>NaN</td>\n",
       "      <td>ID_017ba29a4d371608fad8313ff1d46c8bb42ef830ee0...</td>\n",
       "      <td>2022-02-26 00:00:00+02:00</td>\n",
       "      <td>9317537c2329262b5e19d3e29d23422558e519ca8ff0a8...</td>\n",
       "      <td>8843.46</td>\n",
       "      <td>-2000.00</td>\n",
       "      <td>11348</td>\n",
       "      <td>SAVE</td>\n",
       "      <td>internet</td>\n",
       "      <td>89fe98c0e6ccddcf9a0368507f02773693e01dfeb6911c...</td>\n",
       "      <td>NaN</td>\n",
       "    </tr>\n",
       "    <tr>\n",
       "      <th>2</th>\n",
       "      <td>POS PURCHASE</td>\n",
       "      <td>ID_017ba29a4d371608fad8313ff1d46c8bb42ef830ee0...</td>\n",
       "      <td>2022-07-26 00:00:00+02:00</td>\n",
       "      <td>e92177da406abc0e0a5bce83e853dbdb4e792af521a0ae...</td>\n",
       "      <td>23.82</td>\n",
       "      <td>-199.98</td>\n",
       "      <td>148</td>\n",
       "      <td>CHEQ</td>\n",
       "      <td>system</td>\n",
       "      <td>89fe98c0e6ccddcf9a0368507f02773693e01dfeb6911c...</td>\n",
       "      <td>04ae923a903fb07b5c846eb61eda25c4766800f02c2e09...</td>\n",
       "    </tr>\n",
       "    <tr>\n",
       "      <th>3</th>\n",
       "      <td>NaN</td>\n",
       "      <td>ID_017ba29a4d371608fad8313ff1d46c8bb42ef830ee0...</td>\n",
       "      <td>2022-03-27 00:00:00+02:00</td>\n",
       "      <td>9317537c2329262b5e19d3e29d23422558e519ca8ff0a8...</td>\n",
       "      <td>198.11</td>\n",
       "      <td>-79.39</td>\n",
       "      <td>11419</td>\n",
       "      <td>SAVE</td>\n",
       "      <td>system</td>\n",
       "      <td>89fe98c0e6ccddcf9a0368507f02773693e01dfeb6911c...</td>\n",
       "      <td>NaN</td>\n",
       "    </tr>\n",
       "    <tr>\n",
       "      <th>4</th>\n",
       "      <td>NaN</td>\n",
       "      <td>ID_017ba29a4d371608fad8313ff1d46c8bb42ef830ee0...</td>\n",
       "      <td>2022-05-06 00:00:00+02:00</td>\n",
       "      <td>9317537c2329262b5e19d3e29d23422558e519ca8ff0a8...</td>\n",
       "      <td>13631.60</td>\n",
       "      <td>-200.00</td>\n",
       "      <td>11528</td>\n",
       "      <td>SAVE</td>\n",
       "      <td>atm</td>\n",
       "      <td>89fe98c0e6ccddcf9a0368507f02773693e01dfeb6911c...</td>\n",
       "      <td>NaN</td>\n",
       "    </tr>\n",
       "  </tbody>\n",
       "</table>\n",
       "</div>"
      ],
      "text/plain": [
       "  transaction_description                                customer_identifier  \\\n",
       "0                     NaN  ID_017ba29a4d371608fad8313ff1d46c8bb42ef830ee0...   \n",
       "1                     NaN  ID_017ba29a4d371608fad8313ff1d46c8bb42ef830ee0...   \n",
       "2            POS PURCHASE  ID_017ba29a4d371608fad8313ff1d46c8bb42ef830ee0...   \n",
       "3                     NaN  ID_017ba29a4d371608fad8313ff1d46c8bb42ef830ee0...   \n",
       "4                     NaN  ID_017ba29a4d371608fad8313ff1d46c8bb42ef830ee0...   \n",
       "\n",
       "                record_date  \\\n",
       "0 2022-07-13 00:00:00+02:00   \n",
       "1 2022-02-26 00:00:00+02:00   \n",
       "2 2022-07-26 00:00:00+02:00   \n",
       "3 2022-03-27 00:00:00+02:00   \n",
       "4 2022-05-06 00:00:00+02:00   \n",
       "\n",
       "                                   account_type_code  account_balance  \\\n",
       "0  9317537c2329262b5e19d3e29d23422558e519ca8ff0a8...          1857.56   \n",
       "1  9317537c2329262b5e19d3e29d23422558e519ca8ff0a8...          8843.46   \n",
       "2  e92177da406abc0e0a5bce83e853dbdb4e792af521a0ae...            23.82   \n",
       "3  9317537c2329262b5e19d3e29d23422558e519ca8ff0a8...           198.11   \n",
       "4  9317537c2329262b5e19d3e29d23422558e519ca8ff0a8...         13631.60   \n",
       "\n",
       "       amt  event_number product_code   channel  \\\n",
       "0  1000.00         11785         SAVE  internet   \n",
       "1 -2000.00         11348         SAVE  internet   \n",
       "2  -199.98           148         CHEQ    system   \n",
       "3   -79.39         11419         SAVE    system   \n",
       "4  -200.00         11528         SAVE       atm   \n",
       "\n",
       "                                      account_number  \\\n",
       "0  89fe98c0e6ccddcf9a0368507f02773693e01dfeb6911c...   \n",
       "1  89fe98c0e6ccddcf9a0368507f02773693e01dfeb6911c...   \n",
       "2  89fe98c0e6ccddcf9a0368507f02773693e01dfeb6911c...   \n",
       "3  89fe98c0e6ccddcf9a0368507f02773693e01dfeb6911c...   \n",
       "4  89fe98c0e6ccddcf9a0368507f02773693e01dfeb6911c...   \n",
       "\n",
       "                               transaction_reference  \n",
       "0                                                NaN  \n",
       "1                                                NaN  \n",
       "2  04ae923a903fb07b5c846eb61eda25c4766800f02c2e09...  \n",
       "3                                                NaN  \n",
       "4                                                NaN  "
      ]
     },
     "execution_count": 8,
     "metadata": {},
     "output_type": "execute_result"
    }
   ],
   "source": [
    "trans.head()"
   ]
  },
  {
   "cell_type": "code",
   "execution_count": 9,
   "id": "1764d530-9cb1-4a8e-bb6d-e4e4580c5722",
   "metadata": {},
   "outputs": [
    {
     "name": "stdout",
     "output_type": "stream",
     "text": [
      "<class 'pandas.core.frame.DataFrame'>\n",
      "RangeIndex: 3600 entries, 0 to 3599\n",
      "Data columns (total 3 columns):\n",
      " #   Column               Non-Null Count  Dtype         \n",
      "---  ------               --------------  -----         \n",
      " 0   customer_identifier  3600 non-null   object        \n",
      " 1   record_date          3600 non-null   datetime64[ns]\n",
      " 2   declared_net_income  3600 non-null   object        \n",
      "dtypes: datetime64[ns](1), object(2)\n",
      "memory usage: 84.5+ KB\n"
     ]
    }
   ],
   "source": [
    "train.info()"
   ]
  },
  {
   "cell_type": "code",
   "execution_count": 10,
   "id": "f540528f-8894-42aa-87ab-42e5d04bd71c",
   "metadata": {},
   "outputs": [
    {
     "name": "stdout",
     "output_type": "stream",
     "text": [
      "<class 'pandas.core.frame.DataFrame'>\n",
      "RangeIndex: 1544 entries, 0 to 1543\n",
      "Data columns (total 2 columns):\n",
      " #   Column               Non-Null Count  Dtype         \n",
      "---  ------               --------------  -----         \n",
      " 0   customer_identifier  1544 non-null   object        \n",
      " 1   record_date          1544 non-null   datetime64[ns]\n",
      "dtypes: datetime64[ns](1), object(1)\n",
      "memory usage: 24.2+ KB\n"
     ]
    }
   ],
   "source": [
    "test.info()"
   ]
  },
  {
   "cell_type": "code",
   "execution_count": 11,
   "id": "6f63fe6b-5a7e-40c4-879c-df75a97c4f75",
   "metadata": {},
   "outputs": [
    {
     "name": "stdout",
     "output_type": "stream",
     "text": [
      "<class 'pandas.core.frame.DataFrame'>\n",
      "RangeIndex: 5144 entries, 0 to 5143\n",
      "Data columns (total 7 columns):\n",
      " #   Column                    Non-Null Count  Dtype         \n",
      "---  ------                    --------------  -----         \n",
      " 0   customer_identifier       5144 non-null   object        \n",
      " 1   date_last_updated         5144 non-null   datetime64[ns]\n",
      " 2   sex_code                  5144 non-null   int64         \n",
      " 3   income_group_code         5144 non-null   int64         \n",
      " 4   number_of_accounts        5144 non-null   int64         \n",
      " 5   occupational_status_code  5144 non-null   int64         \n",
      " 6   age                       5144 non-null   int64         \n",
      "dtypes: datetime64[ns](1), int64(5), object(1)\n",
      "memory usage: 281.4+ KB\n"
     ]
    }
   ],
   "source": [
    "customer.info()"
   ]
  },
  {
   "cell_type": "code",
   "execution_count": 12,
   "id": "0a0d850c-7c8e-4306-96a7-ff9aeb539cab",
   "metadata": {},
   "outputs": [
    {
     "name": "stdout",
     "output_type": "stream",
     "text": [
      "<class 'pandas.core.frame.DataFrame'>\n",
      "RangeIndex: 22 entries, 0 to 21\n",
      "Data columns (total 2 columns):\n",
      " #   Column             Non-Null Count  Dtype \n",
      "---  ------             --------------  ----- \n",
      " 0   income_group_code  22 non-null     int64 \n",
      " 1   income_group_desc  22 non-null     object\n",
      "dtypes: int64(1), object(1)\n",
      "memory usage: 480.0+ bytes\n"
     ]
    }
   ],
   "source": [
    "income.info()"
   ]
  },
  {
   "cell_type": "code",
   "execution_count": 13,
   "id": "24fb9c0e-ad9e-48eb-9b17-f850c0fb14af",
   "metadata": {},
   "outputs": [
    {
     "name": "stdout",
     "output_type": "stream",
     "text": [
      "<class 'pandas.core.frame.DataFrame'>\n",
      "RangeIndex: 4 entries, 0 to 3\n",
      "Data columns (total 2 columns):\n",
      " #   Column                Non-Null Count  Dtype \n",
      "---  ------                --------------  ----- \n",
      " 0   employee_status_code  4 non-null      int64 \n",
      " 1   employee_status_desc  4 non-null      object\n",
      "dtypes: int64(1), object(1)\n",
      "memory usage: 192.0+ bytes\n"
     ]
    }
   ],
   "source": [
    "emp.info()"
   ]
  },
  {
   "cell_type": "code",
   "execution_count": 14,
   "id": "f01bc9a8-3b1b-47ec-a84a-e3d7ecedbce2",
   "metadata": {},
   "outputs": [
    {
     "name": "stdout",
     "output_type": "stream",
     "text": [
      "<class 'pandas.core.frame.DataFrame'>\n",
      "RangeIndex: 847544 entries, 0 to 847543\n",
      "Data columns (total 11 columns):\n",
      " #   Column                   Non-Null Count   Dtype                                \n",
      "---  ------                   --------------   -----                                \n",
      " 0   transaction_description  475339 non-null  object                               \n",
      " 1   customer_identifier      847544 non-null  object                               \n",
      " 2   record_date              847544 non-null  datetime64[ns, pytz.FixedOffset(120)]\n",
      " 3   account_type_code        847544 non-null  object                               \n",
      " 4   account_balance          847544 non-null  float64                              \n",
      " 5   amt                      847544 non-null  float64                              \n",
      " 6   event_number             847544 non-null  int64                                \n",
      " 7   product_code             847544 non-null  object                               \n",
      " 8   channel                  847544 non-null  object                               \n",
      " 9   account_number           847544 non-null  object                               \n",
      " 10  transaction_reference    475339 non-null  object                               \n",
      "dtypes: datetime64[ns, pytz.FixedOffset(120)](1), float64(2), int64(1), object(7)\n",
      "memory usage: 71.1+ MB\n"
     ]
    }
   ],
   "source": [
    "trans.info()"
   ]
  },
  {
   "cell_type": "code",
   "execution_count": 15,
   "id": "3071282f-7e40-45ba-b148-c721d76e13b8",
   "metadata": {},
   "outputs": [],
   "source": [
    "# customer.merge(transaction, how='inner', on='customer_identifier').drop(columns=['transaction_description', 'transaction_reference'], axis=1)"
   ]
  },
  {
   "cell_type": "code",
   "execution_count": 16,
   "id": "8857ec8b-98ac-4629-9362-82f71e40d0aa",
   "metadata": {},
   "outputs": [],
   "source": [
    "## Let's combine data set to perform preprocessing\n",
    "df_train = train.copy()\n",
    "df_test = test.copy()\n",
    "\n",
    "df_customer = customer.copy()\n",
    "df_trans = trans.copy()"
   ]
  },
  {
   "cell_type": "code",
   "execution_count": null,
   "id": "498e9657-8571-4c9f-9f5f-8bfb4834bb83",
   "metadata": {},
   "outputs": [],
   "source": []
  },
  {
   "cell_type": "markdown",
   "id": "dc7b8f2d-3c53-46eb-bf6d-2fdde3958fef",
   "metadata": {},
   "source": [
    "## Preprocessing"
   ]
  },
  {
   "cell_type": "code",
   "execution_count": 17,
   "id": "9abc4096-466c-4ce6-8597-ce41666548f5",
   "metadata": {},
   "outputs": [],
   "source": [
    "def preprocess_data(df_train, df_test, df_customer, df_trans):\n",
    "    # Changing the dtype of target variable to float\n",
    "    df_train[\"declared_net_income\"] = (\n",
    "        df_train[\"declared_net_income\"]\n",
    "        .str.replace(\",\", \"\")\n",
    "        .astype(\"float64\", errors=\"ignore\")\n",
    "    )\n",
    "\n",
    "    ## Preprocessing df_trans dataset\n",
    "\n",
    "    # Encoding categorical columns with few categories\n",
    "    df_trans[\"product_code\"] = df_trans[\"product_code\"].map({\"SAVE\": 1, \"CHEQ\": 2})\n",
    "\n",
    "    df_trans[\"channel\"] = df_trans[\"channel\"].map(\n",
    "        {\"internet\": 1, \"system\": 2, \"atm\": 3, \"teller\": 4}\n",
    "    )\n",
    "\n",
    "    # Extracting day value from datateime column\n",
    "    df_trans[\"record_date_day\"] = df_trans[\"record_date\"].dt.day\n",
    "    df_trans[\"trans_record_date_month\"] = df_trans[\"record_date\"].dt.month\n",
    "\n",
    "    df_trans[\"account_type_code\"] = OrdinalEncoder().fit_transform(\n",
    "        df_trans[[\"account_type_code\"]]\n",
    "    )\n",
    "    # df_trans[\"transaction_description\"] = OrdinalEncoder().fit_transform(df_trans[[\"transaction_description\"]])\n",
    "\n",
    "    # Dropping large categorical columns\n",
    "    df_trans.drop(\n",
    "        columns=[\n",
    "            \"account_number\",\n",
    "            \"transaction_reference\",\n",
    "            \"transaction_description\",\n",
    "            \"record_date\",\n",
    "        ],\n",
    "        axis=1,\n",
    "        inplace=True,\n",
    "    )\n",
    "\n",
    "    ## Preprocessing df_train, df_test and df_customer data\n",
    "\n",
    "    # As year and day value are same for \"record_date\" feature\n",
    "    # Extracting month from datetime column\n",
    "    df_train[\"record_date_month\"] = df_train[\"record_date\"].dt.month\n",
    "    df_test[\"record_date_month\"] = df_test[\"record_date\"].dt.month\n",
    "\n",
    "    # Dropping the columns \"record_date\"\n",
    "    df_train.drop(columns=\"record_date\", inplace=True)\n",
    "    df_test.drop(columns=\"record_date\", inplace=True)\n",
    "\n",
    "    # Extracting month vlaue from \"date_last_updated_month\" column\n",
    "    df_customer[\"date_last_updated_month\"] = df_customer[\"date_last_updated\"].dt.month\n",
    "    # Dropping the column\n",
    "    df_customer.drop(columns=\"date_last_updated\", inplace=True)\n",
    "\n",
    "    ## Merging Dataframes\n",
    "\n",
    "    # Merging df_customer to df_trans\n",
    "    trans_customer = df_customer.merge(df_trans, on=\"customer_identifier\", how=\"inner\")\n",
    "\n",
    "    # Merging df_train and df_test with trans_customer\n",
    "    df_train = df_train.merge(trans_customer, on=\"customer_identifier\", how=\"inner\")\n",
    "    df_test = df_test.merge(trans_customer, on=\"customer_identifier\", how=\"inner\")\n",
    "\n",
    "    # Removing duplicates\n",
    "    df_train.drop_duplicates(\"customer_identifier\", inplace=True)\n",
    "    df_test.drop_duplicates(\"customer_identifier\", inplace=True)\n",
    "\n",
    "    return df_train, df_test, df_customer, df_trans"
   ]
  },
  {
   "cell_type": "code",
   "execution_count": 18,
   "id": "ccc864b6-0e2a-4a8d-a925-8c827e2b745d",
   "metadata": {},
   "outputs": [],
   "source": [
    "df_train, df_test, df_customer, df_trains = preprocess_data(\n",
    "    df_train, df_test, df_customer, df_trans\n",
    ")"
   ]
  },
  {
   "cell_type": "markdown",
   "id": "7eb9f245-2c5b-4343-9c50-f55600cadda6",
   "metadata": {},
   "source": [
    "## Machine Learning"
   ]
  },
  {
   "cell_type": "code",
   "execution_count": 19,
   "id": "e50d3a34-07b7-472a-a1a2-820214797ca5",
   "metadata": {},
   "outputs": [],
   "source": [
    "# Separating features and target\n",
    "features = df_train.drop(\n",
    "    columns=[\"customer_identifier\", \"declared_net_income\", \"sex_code\", \"product_code\"],\n",
    "    axis=1,\n",
    ")\n",
    "target = df_train[[\"declared_net_income\"]].values\n",
    "\n",
    "# Creating training and validation data\n",
    "X_train = df_train.loc[df_train[\"record_date_month\"] < 8].drop(\n",
    "    columns=\"customer_identifier\"\n",
    ")  # Using data of months less than 8 for training\n",
    "X_val = df_train.loc[df_train[\"record_date_month\"] == 8].drop(\n",
    "    columns=\"customer_identifier\"\n",
    ")[\n",
    "    :500\n",
    "]  # Using 500 rows for validation set\n",
    "\n",
    "y_train = X_train[\"declared_net_income\"].values\n",
    "y_val = X_val[\"declared_net_income\"].values"
   ]
  },
  {
   "cell_type": "code",
   "execution_count": 20,
   "id": "8207405d-6b7f-4c55-afa7-58caa464802c",
   "metadata": {},
   "outputs": [],
   "source": [
    "# Parameters of LLGBMRegressor model\n",
    "params_trial = {\n",
    "    \"objective\": \"tweedie\",\n",
    "    \"task_type\": \"train\",\n",
    "    \"n_estimators\": 2_600,\n",
    "    \"reg_alpha\": 0.0054365655449341395,\n",
    "    \"reg_lambda\": 0.01,\n",
    "    \"colsample_bytree\": 0.6,\n",
    "    \"subsample\": 0.6,\n",
    "    \"learning_rate\": 0.01,\n",
    "    \"max_depth\": 7,\n",
    "    \"num_leaves\": 5,\n",
    "    \"min_child_samples\": 29,\n",
    "}"
   ]
  },
  {
   "cell_type": "code",
   "execution_count": 21,
   "id": "d0c79869-afe2-498c-8df2-0c01c507dc0e",
   "metadata": {},
   "outputs": [],
   "source": [
    "Bestparameters = {\n",
    "    \"colsample_bytree\": 1.0,\n",
    "    \"learning_rate\": 0.1,\n",
    "    \"min_child_samples\": 58,\n",
    "    \"n_estimators\": 134,\n",
    "    \"num_leaves\": 37,\n",
    "    \"reg_alpha\": 0,\n",
    "    \"reg_lambda\": 0.5,\n",
    "    \"subsample\": 0.8,\n",
    "}"
   ]
  },
  {
   "cell_type": "code",
   "execution_count": 22,
   "id": "701d8d4a-a671-48c0-a5cb-24ec666ebb0e",
   "metadata": {},
   "outputs": [],
   "source": [
    "def train_model(params, X_train, X_test, y_train, y_test):\n",
    "    # Model Initializing\n",
    "    lgbm = LGBMRegressor(**params)\n",
    "\n",
    "    # Fitting the model\n",
    "    lgbm.fit(\n",
    "        X_train,\n",
    "        y_train,\n",
    "        eval_set=(X_val, y_val),\n",
    "        eval_metric=\"rmse\",\n",
    "        # early_stopping_rounds=100,\n",
    "        verbose=0,\n",
    "    )\n",
    "\n",
    "    # Score\n",
    "    print(lgbm.best_score_)"
   ]
  },
  {
   "cell_type": "code",
   "execution_count": 23,
   "id": "2837b070-1506-4d22-b445-795d05c03750",
   "metadata": {},
   "outputs": [],
   "source": [
    "def full_train_model(features, target, params, test_data):\n",
    "    full_train = df_train.drop(\n",
    "        columns=[\"customer_identifier\", \"declared_net_income\"], axis=1\n",
    "    )\n",
    "\n",
    "    # Model Initialization\n",
    "    lgbm_full = LGBMRegressor(**params)\n",
    "    lgbm_full.fit(features, target)\n",
    "\n",
    "    # Predictions on test data\n",
    "    preds = lgbm_full.predict(test_data)\n",
    "    # print(preds[:10])\n",
    "    return lgbm_full, preds"
   ]
  },
  {
   "cell_type": "code",
   "execution_count": 24,
   "id": "2ef4472c-1690-4bd2-8e9d-e27b6874ba4e",
   "metadata": {},
   "outputs": [],
   "source": [
    "def create_sub_file(customer_id, preds, file_name):\n",
    "    ss[\"customer_identifier\"] = customer_id\n",
    "    ss[\"declared_net_income\"] = preds\n",
    "    ss.to_csv(f\"{file_name}.csv\", index=False)"
   ]
  },
  {
   "cell_type": "code",
   "execution_count": 25,
   "id": "9e326649-a2b6-4629-bc62-452aa4a65c82",
   "metadata": {},
   "outputs": [
    {
     "name": "stdout",
     "output_type": "stream",
     "text": [
      "defaultdict(<class 'collections.OrderedDict'>, {'valid_0': OrderedDict([('rmse', 2699.9044357492216), ('l2', 7289483.962178323)])})\n"
     ]
    }
   ],
   "source": [
    "# Training the model\n",
    "train_model(Bestparameters, X_train, X_val, y_train, y_val)"
   ]
  },
  {
   "cell_type": "code",
   "execution_count": 26,
   "id": "3b991884-0082-4fcf-8b15-f1ab9faa85a5",
   "metadata": {},
   "outputs": [
    {
     "name": "stdout",
     "output_type": "stream",
     "text": [
      "Predictions: \n",
      " [29273.50560375 10692.83710656 22725.99283569 ... 15726.2093143\n",
      " 12806.72482512 22824.84122969]\n"
     ]
    }
   ],
   "source": [
    "# Training the model on whole dataset\n",
    "test_data = df_test[features.columns]\n",
    "model, preds = full_train_model(features, target, params_trial, test_data)\n",
    "print(f\"Predictions: \\n {preds}\")"
   ]
  },
  {
   "cell_type": "code",
   "execution_count": 27,
   "id": "6495c442-da6b-400e-bd7f-48878836d2f7",
   "metadata": {},
   "outputs": [
    {
     "data": {
      "text/plain": [
       "<AxesSubplot:title={'center':'Feature importance'}, xlabel='Feature importance', ylabel='Features'>"
      ]
     },
     "execution_count": 27,
     "metadata": {},
     "output_type": "execute_result"
    },
    {
     "data": {
      "image/png": "[encoded data removed]",
      "text/plain": [
       "<Figure size 640x480 with 1 Axes>"
      ]
     },
     "metadata": {},
     "output_type": "display_data"
    }
   ],
   "source": [
    "plot_importance(model)"
   ]
  },
  {
   "cell_type": "code",
   "execution_count": 28,
   "id": "3396d4b7-10c6-4cb3-b4e4-2f7e9ca1227d",
   "metadata": {},
   "outputs": [],
   "source": [
    "# [(name, imp) for name , imp in zip(lgbm_full.feature_name_, lgbm_full.feature_importances_)]"
   ]
  },
  {
   "cell_type": "code",
   "execution_count": 29,
   "id": "32cef09d-6197-4abd-862b-9e17cee93834",
   "metadata": {},
   "outputs": [],
   "source": [
    "create_sub_file(test[\"customer_identifier\"], preds, \"lgbm_base\")"
   ]
  },
  {
   "cell_type": "code",
   "execution_count": 30,
   "id": "7c281536-3dbb-4151-9cb0-413494247d1f",
   "metadata": {},
   "outputs": [
    {
     "name": "stdout",
     "output_type": "stream",
     "text": [
      "Best parameters: {'colsample_bytree': 0.8, 'learning_rate': 0.05, 'min_child_samples': 52, 'n_estimators': 360, 'num_leaves': 41, 'reg_alpha': 10, 'reg_lambda': 1, 'subsample': 1.0}\n",
      "Best score: 5353851.768191274\n"
     ]
    }
   ],
   "source": [
    "import lightgbm as lgb\n",
    "from scipy.stats import randint as sp_randint\n",
    "from sklearn.model_selection import RandomizedSearchCV\n",
    "\n",
    "# load your data and split it into train and test sets\n",
    "\n",
    "# define the hyperparameter space for LightGBM\n",
    "param_grid = {\n",
    "    \"learning_rate\": [0.01, 0.05, 0.1],\n",
    "    \"n_estimators\": sp_randint(200, 5_000),\n",
    "    \"num_leaves\": sp_randint(6, 50),\n",
    "    \"min_child_samples\": sp_randint(50, 200),\n",
    "    \"subsample\": [0.6, 0.7, 0.8, 0.9, 1.0],\n",
    "    \"colsample_bytree\": [0.6, 0.7, 0.8, 0.9, 1.0],\n",
    "    \"reg_alpha\": [0, 0.1, 0.5, 1, 10],\n",
    "    \"reg_lambda\": [0, 0.1, 0.5, 1, 10],\n",
    "}\n",
    "\n",
    "# create the LightGBM model and the random search object\n",
    "lgb_model = lgb.LGBMRegressor()\n",
    "random_search = RandomizedSearchCV(\n",
    "    lgb_model,\n",
    "    param_distributions=param_grid,\n",
    "    n_iter=100,\n",
    "    cv=5,\n",
    "    scoring=\"neg_mean_squared_error\",\n",
    ")\n",
    "\n",
    "# fit the random search object to the training data\n",
    "random_search.fit(X_train, y_train)\n",
    "\n",
    "# print the best hyperparameters and the corresponding score\n",
    "print(\"Best parameters:\", random_search.best_params_)\n",
    "print(\"Best score:\", -1 * random_search.best_score_)"
   ]
  },
  {
   "cell_type": "code",
   "execution_count": null,
   "id": "799f79ed-40a2-466a-89d2-0d25c1559b21",
   "metadata": {},
   "outputs": [],
   "source": []
  }
 ],
 "metadata": {
  "kernelspec": {
   "display_name": "Python 3 (ipykernel)",
   "language": "python",
   "name": "python3"
  },
  "language_info": {
   "codemirror_mode": {
    "name": "ipython",
    "version": 3
   },
   "file_extension": ".py",
   "mimetype": "text/x-python",
   "name": "python",
   "nbconvert_exporter": "python",
   "pygments_lexer": "ipython3",
   "version": "3.9.12"
  }
 },
 "nbformat": 4,
 "nbformat_minor": 5
}
